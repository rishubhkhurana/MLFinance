{
 "cells": [
  {
   "cell_type": "markdown",
   "metadata": {},
   "source": [
    "## First Notebook \n"
   ]
  },
  {
   "cell_type": "markdown",
   "metadata": {},
   "source": [
    "1. Importing financial trading data from Kite Connect API\n",
    "\n",
    "2. Understand how mlfinlab package is used. Understand how dollar,volume and Information bars are created\n",
    "\n",
    "3. Characteristics of different bar sampled data\n",
    "\n",
    "4. Identify Data cleaning strategies\n",
    "\n",
    "5. Clean Data \n",
    "\n",
    "6. Visualize Data\n",
    "\n"
   ]
  },
  {
   "cell_type": "markdown",
   "metadata": {},
   "source": [
    "## Importing Libs"
   ]
  },
  {
   "cell_type": "code",
   "execution_count": 91,
   "metadata": {
    "collapsed": true,
    "jupyter": {
     "outputs_hidden": true,
     "source_hidden": true
    }
   },
   "outputs": [
    {
     "name": "stderr",
     "output_type": "stream",
     "text": [
      "DEBUG:matplotlib.pyplot:Loaded backend module://ipykernel.pylab.backend_inline version unknown.\n"
     ]
    },
    {
     "name": "stdout",
     "output_type": "stream",
     "text": [
      "The autoreload extension is already loaded. To reload it, use:\n",
      "  %reload_ext autoreload\n"
     ]
    }
   ],
   "source": [
    "%load_ext autoreload\n",
    "%autoreload 2\n",
    "%matplotlib inline"
   ]
  },
  {
   "cell_type": "code",
   "execution_count": 92,
   "metadata": {
    "jupyter": {
     "source_hidden": true
    }
   },
   "outputs": [],
   "source": [
    "## path of mlfin lab-- Siddharth to change this variable only \n",
    "mlfinpath = 'C:/Study/HedgeFund/mlfinlab'\n",
    "ourpath = \"C:/Study/HedgeFund/MLFinance/src\""
   ]
  },
  {
   "cell_type": "code",
   "execution_count": 305,
   "metadata": {
    "jupyter": {
     "source_hidden": true
    }
   },
   "outputs": [],
   "source": [
    "import sys\n",
    "sys.path.append(mlfinpath)\n",
    "sys.path.append(ourpath)\n",
    "import numpy as np\n",
    "from pathlib import Path\n",
    "import pandas as pd\n",
    "import datetime \n",
    "import logging\n",
    "from kiteconnect import KiteConnect\n",
    "from collections import defaultdict\n",
    "import re\n",
    "from kite_downloader import *\n",
    "import matplotlib.pyplot as plt\n",
    "import seaborn as sns\n",
    "from statsmodels.graphics.tsaplots import plot_acf\n",
    "from scipy import stats\n",
    "from mlfinlab.datasets import *\n",
    "from mlfinlab.data_structures import *"
   ]
  },
  {
   "cell_type": "code",
   "execution_count": 267,
   "metadata": {
    "jupyter": {
     "source_hidden": true
    }
   },
   "outputs": [],
   "source": [
    "savepath = 'C:/Study/HedgeFund/datasets/'"
   ]
  },
  {
   "cell_type": "code",
   "execution_count": 4,
   "metadata": {
    "jupyter": {
     "source_hidden": true
    }
   },
   "outputs": [],
   "source": [
    "Path.ls = lambda x: list(x.iterdir())"
   ]
  },
  {
   "cell_type": "markdown",
   "metadata": {},
   "source": [
    "## Reading different data  samples\n",
    "From Mlfinlab"
   ]
  },
  {
   "cell_type": "code",
   "execution_count": null,
   "metadata": {
    "jupyter": {
     "source_hidden": true
    }
   },
   "outputs": [],
   "source": [
    "tick_df =  load_tick_sample()\n",
    "stocks_df = load_stock_prices()\n",
    "dol_df = load_dollar_bar_sample()"
   ]
  },
  {
   "cell_type": "code",
   "execution_count": null,
   "metadata": {
    "jupyter": {
     "source_hidden": true
    }
   },
   "outputs": [],
   "source": [
    "tick_df.shape,stocks_df.shape,dol_df.shape"
   ]
  },
  {
   "cell_type": "code",
   "execution_count": null,
   "metadata": {
    "jupyter": {
     "source_hidden": true
    }
   },
   "outputs": [],
   "source": [
    "tick_df.head(10)"
   ]
  },
  {
   "cell_type": "code",
   "execution_count": null,
   "metadata": {
    "jupyter": {
     "source_hidden": true
    }
   },
   "outputs": [],
   "source": [
    "tick_res_df=tick_df.reset_index()"
   ]
  },
  {
   "cell_type": "markdown",
   "metadata": {},
   "source": [
    "When working with our own data, we need to either those datasets within data folder of mlfinlan datasets or create a new library using their code as starter code"
   ]
  },
  {
   "cell_type": "markdown",
   "metadata": {},
   "source": [
    "## Reading Bitcoin Datasets"
   ]
  },
  {
   "cell_type": "code",
   "execution_count": 178,
   "metadata": {
    "jupyter": {
     "source_hidden": true
    }
   },
   "outputs": [],
   "source": [
    "datapath = Path('C:/Study/HedgeFund/datasets/')"
   ]
  },
  {
   "cell_type": "code",
   "execution_count": 179,
   "metadata": {
    "collapsed": true,
    "jupyter": {
     "outputs_hidden": true,
     "source_hidden": true
    }
   },
   "outputs": [
    {
     "data": {
      "text/plain": [
       "[WindowsPath('C:/Study/HedgeFund/datasets/bitstampUSD.csv'),\n",
       " WindowsPath('C:/Study/HedgeFund/datasets/coinbaseUSD.csv'),\n",
       " WindowsPath('C:/Study/HedgeFund/datasets/nifty_fno.csv')]"
      ]
     },
     "execution_count": 179,
     "metadata": {},
     "output_type": "execute_result"
    }
   ],
   "source": [
    "datapath.ls()"
   ]
  },
  {
   "cell_type": "code",
   "execution_count": 180,
   "metadata": {
    "jupyter": {
     "source_hidden": true
    }
   },
   "outputs": [],
   "source": [
    "dfs = []\n",
    "for dpath in bitcoinpath.ls():\n",
    "    dfs.append(pd.read_csv(dpath))"
   ]
  },
  {
   "cell_type": "code",
   "execution_count": 181,
   "metadata": {
    "collapsed": true,
    "jupyter": {
     "outputs_hidden": true,
     "source_hidden": true
    }
   },
   "outputs": [
    {
     "name": "stdout",
     "output_type": "stream",
     "text": [
      "Data:bitstampUSD\n",
      "Shape of Dataset:(4363457, 8)\n",
      "Columns of Dataset:Index(['Timestamp', 'Open', 'High', 'Low', 'Close', 'Volume_(BTC)',\n",
      "       'Volume_(Currency)', 'Weighted_Price'],\n",
      "      dtype='object')\n",
      "\n",
      "    Timestamp  Open  High   Low  Close  Volume_(BTC)  Volume_(Currency)  \\\n",
      "0  1325317920  4.39  4.39  4.39   4.39      0.455581                2.0   \n",
      "1  1325317980   NaN   NaN   NaN    NaN           NaN                NaN   \n",
      "2  1325318040   NaN   NaN   NaN    NaN           NaN                NaN   \n",
      "3  1325318100   NaN   NaN   NaN    NaN           NaN                NaN   \n",
      "4  1325318160   NaN   NaN   NaN    NaN           NaN                NaN   \n",
      "\n",
      "   Weighted_Price  \n",
      "0            4.39  \n",
      "1             NaN  \n",
      "2             NaN  \n",
      "3             NaN  \n",
      "4             NaN  \n",
      "##########################################################\n",
      "\n",
      "Data:coinbaseUSD\n",
      "Shape of Dataset:(2099760, 8)\n",
      "Columns of Dataset:Index(['Timestamp', 'Open', 'High', 'Low', 'Close', 'Volume_(BTC)',\n",
      "       'Volume_(Currency)', 'Weighted_Price'],\n",
      "      dtype='object')\n",
      "\n",
      "    Timestamp   Open   High    Low  Close  Volume_(BTC)  Volume_(Currency)  \\\n",
      "0  1417411980  300.0  300.0  300.0  300.0          0.01                3.0   \n",
      "1  1417412040    NaN    NaN    NaN    NaN           NaN                NaN   \n",
      "2  1417412100    NaN    NaN    NaN    NaN           NaN                NaN   \n",
      "3  1417412160    NaN    NaN    NaN    NaN           NaN                NaN   \n",
      "4  1417412220    NaN    NaN    NaN    NaN           NaN                NaN   \n",
      "\n",
      "   Weighted_Price  \n",
      "0           300.0  \n",
      "1             NaN  \n",
      "2             NaN  \n",
      "3             NaN  \n",
      "4             NaN  \n",
      "##########################################################\n",
      "\n",
      "Data:nifty_fno\n",
      "Shape of Dataset:(1200, 32)\n",
      "Columns of Dataset:Index(['Date', 'Open', 'High', 'Low', 'Close', 'Shares Traded',\n",
      "       'Turnover (Rs. Cr)', 'Client Type', 'Future Index Long',\n",
      "       'Future Index Short', 'Future Stock Long', 'Future Stock Short',\n",
      "       'Future Stock Short\\t', 'Future Stock Short       ',\n",
      "       'Option Index Call Long', 'Option Index Call Short',\n",
      "       'Option Index Put Long', 'Option Index Put Short',\n",
      "       'Option Stock Call Long', 'Option Stock Call Short',\n",
      "       'Option Stock Put Long', 'Option Stock Put Short',\n",
      "       'Total Long Contracts', 'Total Long Contracts\\t',\n",
      "       'Total Short Contracts', 'Year', 'Month', 'Week', 'Weekday',\n",
      "       'Exp_week_Thru', 'Monthly_Exp_End', 'Monthly_Exp_Start'],\n",
      "      dtype='object')\n",
      "\n",
      "       Date      Open     High      Low    Close  Shares Traded  \\\n",
      "0  3/1/2019  10842.65  10877.9  10823.1  10863.5      308526309   \n",
      "1  3/1/2019  10842.65  10877.9  10823.1  10863.5      308526309   \n",
      "2  3/1/2019  10842.65  10877.9  10823.1  10863.5      308526309   \n",
      "3  3/1/2019  10842.65  10877.9  10823.1  10863.5      308526309   \n",
      "4  3/1/2019  10842.65  10877.9  10823.1  10863.5      308526309   \n",
      "\n",
      "   Turnover (Rs. Cr) Client Type Future Index Long Future Index Short  ...  \\\n",
      "0           15010.06      Client            119973             120351  ...   \n",
      "1           15010.06         DII             34987              16040  ...   \n",
      "2           15010.06         FII            101041              95690  ...   \n",
      "3           15010.06         Pro             16940              40860  ...   \n",
      "4           15010.06       TOTAL            272941             272941  ...   \n",
      "\n",
      "  Total Long Contracts  Total Long Contracts\\t Total Short Contracts  Year  \\\n",
      "0            1812495.0                     NaN               1585145  2019   \n",
      "1             177034.0                     NaN                946340  2019   \n",
      "2            1471546.0                     NaN                821038  2019   \n",
      "3             479894.0                     NaN                588446  2019   \n",
      "4            3940969.0                     NaN               3940969  2019   \n",
      "\n",
      "  Month Week Weekday Exp_week_Thru Monthly_Exp_End Monthly_Exp_Start  \n",
      "0     3    9  Friday      3/7/2019       3/28/2019         3/29/2019  \n",
      "1     3    9  Friday      3/7/2019       3/28/2019         3/29/2019  \n",
      "2     3    9  Friday      3/7/2019       3/28/2019         3/29/2019  \n",
      "3     3    9  Friday      3/7/2019       3/28/2019         3/29/2019  \n",
      "4     3    9  Friday      3/7/2019       3/28/2019         3/29/2019  \n",
      "\n",
      "[5 rows x 32 columns]\n",
      "##########################################################\n",
      "\n"
     ]
    }
   ],
   "source": [
    "## printing the data stats \n",
    "for df,name in zip(dfs,bitcoinpath.ls()):\n",
    "    print(f\"Data:{name.name.split('.')[0]}\")\n",
    "    print(f\"Shape of Dataset:{df.shape}\")\n",
    "    print(f\"Columns of Dataset:{df.columns}\\n\")\n",
    "    print(f\"{df.head(5)}\")\n",
    "    print(\"##########################################################\\n\")"
   ]
  },
  {
   "cell_type": "markdown",
   "metadata": {},
   "source": [
    "The dataset seems unclean. We need to get rid of NaN values before doing any meaninful analysis"
   ]
  },
  {
   "cell_type": "code",
   "execution_count": 167,
   "metadata": {
    "jupyter": {
     "source_hidden": true
    }
   },
   "outputs": [],
   "source": [
    "for df in dfs:\n",
    "    df.dropna(inplace=True)"
   ]
  },
  {
   "cell_type": "code",
   "execution_count": 168,
   "metadata": {
    "jupyter": {
     "source_hidden": true
    }
   },
   "outputs": [],
   "source": [
    "cond=True\n",
    "previous = 0\n",
    "while cond:\n",
    "    dfs[1]=dfs[1][dfs[1]['Timestamp'].diff()==60.0].dropna()\n",
    "    sum_break = sum(dfs[1]['Timestamp'].diff()!=60.0)\n",
    "    if sum_break==0:\n",
    "        cond=False\n",
    "    elif sum_break==previous:\n",
    "        break\n",
    "    else:\n",
    "        previous = sum_break    "
   ]
  },
  {
   "cell_type": "markdown",
   "metadata": {},
   "source": [
    "## Create Demo Data Structures \n",
    "Their Data structure only works with tick by tick with assumption that first columns is date, second is price and third is volume "
   ]
  },
  {
   "cell_type": "code",
   "execution_count": 59,
   "metadata": {
    "collapsed": true,
    "jupyter": {
     "outputs_hidden": true,
     "source_hidden": true
    }
   },
   "outputs": [
    {
     "name": "stdout",
     "output_type": "stream",
     "text": [
      "Reading data in batches:\n",
      "Batch number: 0\n",
      "Returning bars \n",
      "\n"
     ]
    }
   ],
   "source": [
    "time_df = get_time_bars(tick_df.reset_index(),resolution='S',num_units=5)"
   ]
  },
  {
   "cell_type": "markdown",
   "metadata": {},
   "source": [
    "## Kite data reading "
   ]
  },
  {
   "cell_type": "code",
   "execution_count": 156,
   "metadata": {
    "jupyter": {
     "source_hidden": true
    }
   },
   "outputs": [],
   "source": [
    "#logging.basicConfig(level=logging.DEBUG)\n",
    "kite = KiteConnect(api_key=\"mbr5webseydvztcr\")"
   ]
  },
  {
   "cell_type": "code",
   "execution_count": 157,
   "metadata": {
    "jupyter": {
     "source_hidden": true
    }
   },
   "outputs": [],
   "source": [
    "url=kite.login_url()"
   ]
  },
  {
   "cell_type": "code",
   "execution_count": 158,
   "metadata": {
    "collapsed": true,
    "jupyter": {
     "outputs_hidden": true,
     "source_hidden": true
    }
   },
   "outputs": [
    {
     "data": {
      "text/plain": [
       "'https://kite.trade/connect/login?api_key=mbr5webseydvztcr&v=3'"
      ]
     },
     "execution_count": 158,
     "metadata": {},
     "output_type": "execute_result"
    }
   ],
   "source": [
    "url"
   ]
  },
  {
   "cell_type": "code",
   "execution_count": 159,
   "metadata": {
    "collapsed": true,
    "jupyter": {
     "outputs_hidden": true,
     "source_hidden": true
    }
   },
   "outputs": [
    {
     "name": "stderr",
     "output_type": "stream",
     "text": [
      "DEBUG:urllib3.connectionpool:Starting new HTTPS connection (1): api.kite.trade:443\n",
      "DEBUG:urllib3.connectionpool:https://api.kite.trade:443 \"POST /session/token HTTP/1.1\" 200 None\n"
     ]
    }
   ],
   "source": [
    "data = kite.generate_session(\"FqkhsgxOdSpaPSot0YUr8rvx3l8FIXm8\", api_secret=\"53y7l441279l6m66j12sd8fpxn0ltmce\")"
   ]
  },
  {
   "cell_type": "code",
   "execution_count": 160,
   "metadata": {
    "jupyter": {
     "source_hidden": true
    }
   },
   "outputs": [],
   "source": [
    "kite.set_access_token(data[\"access_token\"])"
   ]
  },
  {
   "cell_type": "markdown",
   "metadata": {},
   "source": [
    "## Getting Instruments from Kite "
   ]
  },
  {
   "cell_type": "code",
   "execution_count": 175,
   "metadata": {
    "collapsed": true,
    "jupyter": {
     "outputs_hidden": true,
     "source_hidden": true
    }
   },
   "outputs": [
    {
     "name": "stderr",
     "output_type": "stream",
     "text": [
      "DEBUG:urllib3.connectionpool:Starting new HTTPS connection (1): api.kite.trade:443\n",
      "DEBUG:urllib3.connectionpool:https://api.kite.trade:443 \"GET /instruments HTTP/1.1\" 200 4957223\n"
     ]
    }
   ],
   "source": [
    "ins_df = get_available_instruments(kite)"
   ]
  },
  {
   "cell_type": "code",
   "execution_count": 176,
   "metadata": {
    "collapsed": true,
    "jupyter": {
     "outputs_hidden": true,
     "source_hidden": true
    }
   },
   "outputs": [
    {
     "data": {
      "text/plain": [
       "(63303, 12)"
      ]
     },
     "execution_count": 176,
     "metadata": {},
     "output_type": "execute_result"
    }
   ],
   "source": [
    "ins_df.shape"
   ]
  },
  {
   "cell_type": "code",
   "execution_count": 170,
   "metadata": {
    "collapsed": true,
    "jupyter": {
     "outputs_hidden": true,
     "source_hidden": true
    }
   },
   "outputs": [
    {
     "data": {
      "text/html": [
       "<div>\n",
       "<style scoped>\n",
       "    .dataframe tbody tr th:only-of-type {\n",
       "        vertical-align: middle;\n",
       "    }\n",
       "\n",
       "    .dataframe tbody tr th {\n",
       "        vertical-align: top;\n",
       "    }\n",
       "\n",
       "    .dataframe thead th {\n",
       "        text-align: right;\n",
       "    }\n",
       "</style>\n",
       "<table border=\"1\" class=\"dataframe\">\n",
       "  <thead>\n",
       "    <tr style=\"text-align: right;\">\n",
       "      <th></th>\n",
       "      <th>instrument_token</th>\n",
       "      <th>exchange_token</th>\n",
       "      <th>tradingsymbol</th>\n",
       "      <th>name</th>\n",
       "      <th>last_price</th>\n",
       "      <th>expiry</th>\n",
       "      <th>strike</th>\n",
       "      <th>tick_size</th>\n",
       "      <th>lot_size</th>\n",
       "      <th>instrument_type</th>\n",
       "      <th>segment</th>\n",
       "      <th>exchange</th>\n",
       "    </tr>\n",
       "  </thead>\n",
       "  <tbody>\n",
       "    <tr>\n",
       "      <th>10898</th>\n",
       "      <td>138396676</td>\n",
       "      <td>540612</td>\n",
       "      <td>ICICILOVOL</td>\n",
       "      <td>ICICI PRUDENTIAL NIFTY LOW VOL</td>\n",
       "      <td>0.0</td>\n",
       "      <td></td>\n",
       "      <td>0.0</td>\n",
       "      <td>0.01</td>\n",
       "      <td>1</td>\n",
       "      <td>EQ</td>\n",
       "      <td>BSE</td>\n",
       "      <td>BSE</td>\n",
       "    </tr>\n",
       "    <tr>\n",
       "      <th>10901</th>\n",
       "      <td>137474052</td>\n",
       "      <td>537008</td>\n",
       "      <td>ICICINF100</td>\n",
       "      <td>ICICI PRUDENTIAL NIFTY 100 ETF</td>\n",
       "      <td>0.0</td>\n",
       "      <td></td>\n",
       "      <td>0.0</td>\n",
       "      <td>0.01</td>\n",
       "      <td>1</td>\n",
       "      <td>EQ</td>\n",
       "      <td>BSE</td>\n",
       "      <td>BSE</td>\n",
       "    </tr>\n",
       "    <tr>\n",
       "      <th>10902</th>\n",
       "      <td>137473796</td>\n",
       "      <td>537007</td>\n",
       "      <td>ICICINIFTY</td>\n",
       "      <td>ICICI PRUDENTIAL NIFTY ETF</td>\n",
       "      <td>0.0</td>\n",
       "      <td></td>\n",
       "      <td>0.0</td>\n",
       "      <td>0.01</td>\n",
       "      <td>1</td>\n",
       "      <td>EQ</td>\n",
       "      <td>BSE</td>\n",
       "      <td>BSE</td>\n",
       "    </tr>\n",
       "    <tr>\n",
       "      <th>61773</th>\n",
       "      <td>7780353</td>\n",
       "      <td>30392</td>\n",
       "      <td>ICICINF100</td>\n",
       "      <td>ICICI PRUD NIFTY 100 ETF</td>\n",
       "      <td>0.0</td>\n",
       "      <td></td>\n",
       "      <td>0.0</td>\n",
       "      <td>0.01</td>\n",
       "      <td>1</td>\n",
       "      <td>EQ</td>\n",
       "      <td>NSE</td>\n",
       "      <td>NSE</td>\n",
       "    </tr>\n",
       "    <tr>\n",
       "      <th>61774</th>\n",
       "      <td>7565569</td>\n",
       "      <td>29553</td>\n",
       "      <td>ICICINIFTY</td>\n",
       "      <td>ICICI PRUD NIFTY ETF</td>\n",
       "      <td>0.0</td>\n",
       "      <td></td>\n",
       "      <td>0.0</td>\n",
       "      <td>0.01</td>\n",
       "      <td>1</td>\n",
       "      <td>EQ</td>\n",
       "      <td>NSE</td>\n",
       "      <td>NSE</td>\n",
       "    </tr>\n",
       "  </tbody>\n",
       "</table>\n",
       "</div>"
      ],
      "text/plain": [
       "       instrument_token exchange_token tradingsymbol  \\\n",
       "10898         138396676         540612    ICICILOVOL   \n",
       "10901         137474052         537008    ICICINF100   \n",
       "10902         137473796         537007    ICICINIFTY   \n",
       "61773           7780353          30392    ICICINF100   \n",
       "61774           7565569          29553    ICICINIFTY   \n",
       "\n",
       "                                 name  last_price expiry  strike  tick_size  \\\n",
       "10898  ICICI PRUDENTIAL NIFTY LOW VOL         0.0            0.0       0.01   \n",
       "10901  ICICI PRUDENTIAL NIFTY 100 ETF         0.0            0.0       0.01   \n",
       "10902      ICICI PRUDENTIAL NIFTY ETF         0.0            0.0       0.01   \n",
       "61773        ICICI PRUD NIFTY 100 ETF         0.0            0.0       0.01   \n",
       "61774            ICICI PRUD NIFTY ETF         0.0            0.0       0.01   \n",
       "\n",
       "       lot_size instrument_type segment exchange  \n",
       "10898         1              EQ     BSE      BSE  \n",
       "10901         1              EQ     BSE      BSE  \n",
       "10902         1              EQ     BSE      BSE  \n",
       "61773         1              EQ     NSE      NSE  \n",
       "61774         1              EQ     NSE      NSE  "
      ]
     },
     "execution_count": 170,
     "metadata": {},
     "output_type": "execute_result"
    }
   ],
   "source": [
    "ins_df[ins_df['name'].apply(lambda x: re.search(r'ICICI.*NIFTY',x)!=None)]"
   ]
  },
  {
   "cell_type": "markdown",
   "metadata": {},
   "source": [
    "There are 63304 instruments being traded in kite for which we could query the data-- 1min "
   ]
  },
  {
   "cell_type": "code",
   "execution_count": 96,
   "metadata": {
    "collapsed": true,
    "jupyter": {
     "outputs_hidden": true,
     "source_hidden": true
    }
   },
   "outputs": [
    {
     "data": {
      "text/plain": [
       "CE     23395\n",
       "PE     23229\n",
       "EQ     15976\n",
       "FUT      704\n",
       "Name: instrument_type, dtype: int64"
      ]
     },
     "execution_count": 96,
     "metadata": {},
     "output_type": "execute_result"
    }
   ],
   "source": [
    "ins_df.instrument_type.value_counts()"
   ]
  },
  {
   "cell_type": "markdown",
   "metadata": {},
   "source": [
    "There seems to four types of instruments -- CE,PE,EQ,FUT"
   ]
  },
  {
   "cell_type": "code",
   "execution_count": 171,
   "metadata": {},
   "outputs": [],
   "source": [
    "ins_token = get_instrument_token(ins_df,re.compile(r'ICICI.*PRUD\\s+NIFTY\\s+ETF'))#r'ICICI.*PRU\\s+NIFTY\\s+ETF'))"
   ]
  },
  {
   "cell_type": "code",
   "execution_count": 172,
   "metadata": {},
   "outputs": [
    {
     "data": {
      "text/plain": [
       "array([7565569], dtype=int64)"
      ]
     },
     "execution_count": 172,
     "metadata": {},
     "output_type": "execute_result"
    }
   ],
   "source": [
    "ins_token"
   ]
  },
  {
   "cell_type": "code",
   "execution_count": 178,
   "metadata": {
    "collapsed": true,
    "jupyter": {
     "outputs_hidden": true
    }
   },
   "outputs": [
    {
     "name": "stderr",
     "output_type": "stream",
     "text": [
      "DEBUG:urllib3.connectionpool:Starting new HTTPS connection (1): api.kite.trade:443\n",
      "DEBUG:urllib3.connectionpool:https://api.kite.trade:443 \"GET /instruments/historical/7565569/minute?instrument_token=7565569&from=2019-01-01+00%3A00%3A00&to=2019-03-02+00%3A00%3A00&interval=minute&continuous=0&oi=0 HTTP/1.1\" 200 154568\n",
      "DEBUG:urllib3.connectionpool:Starting new HTTPS connection (1): api.kite.trade:443\n",
      "DEBUG:urllib3.connectionpool:https://api.kite.trade:443 \"GET /instruments/historical/7565569/minute?instrument_token=7565569&from=2019-03-02+00%3A00%3A00&to=2019-05-01+00%3A00%3A00&interval=minute&continuous=0&oi=0 HTTP/1.1\" 200 140705\n",
      "DEBUG:urllib3.connectionpool:Starting new HTTPS connection (1): api.kite.trade:443\n",
      "DEBUG:urllib3.connectionpool:https://api.kite.trade:443 \"GET /instruments/historical/7565569/minute?instrument_token=7565569&from=2019-05-01+00%3A00%3A00&to=2019-06-30+00%3A00%3A00&interval=minute&continuous=0&oi=0 HTTP/1.1\" 200 157898\n",
      "DEBUG:urllib3.connectionpool:Starting new HTTPS connection (1): api.kite.trade:443\n",
      "DEBUG:urllib3.connectionpool:https://api.kite.trade:443 \"GET /instruments/historical/7565569/minute?instrument_token=7565569&from=2019-06-30+00%3A00%3A00&to=2019-08-29+00%3A00%3A00&interval=minute&continuous=0&oi=0 HTTP/1.1\" 200 174575\n",
      "DEBUG:urllib3.connectionpool:Starting new HTTPS connection (1): api.kite.trade:443\n",
      "DEBUG:urllib3.connectionpool:https://api.kite.trade:443 \"GET /instruments/historical/7565569/minute?instrument_token=7565569&from=2019-08-29+00%3A00%3A00&to=2019-10-28+00%3A00%3A00&interval=minute&continuous=0&oi=0 HTTP/1.1\" 200 162382\n",
      "DEBUG:urllib3.connectionpool:Starting new HTTPS connection (1): api.kite.trade:443\n",
      "DEBUG:urllib3.connectionpool:https://api.kite.trade:443 \"GET /instruments/historical/7565569/minute?instrument_token=7565569&from=2019-10-28+00%3A00%3A00&to=2019-12-27+00%3A00%3A00&interval=minute&continuous=0&oi=0 HTTP/1.1\" 200 179117\n",
      "DEBUG:urllib3.connectionpool:Starting new HTTPS connection (1): api.kite.trade:443\n",
      "DEBUG:urllib3.connectionpool:https://api.kite.trade:443 \"GET /instruments/historical/7565569/minute?instrument_token=7565569&from=2019-12-27+00%3A00%3A00&to=2020-02-25+00%3A00%3A00&interval=minute&continuous=0&oi=0 HTTP/1.1\" 200 188467\n"
     ]
    }
   ],
   "source": [
    "hist_df = get_hist_data(kite,instrument_token=ins_token[0])"
   ]
  },
  {
   "cell_type": "code",
   "execution_count": 179,
   "metadata": {
    "collapsed": true,
    "jupyter": {
     "outputs_hidden": true
    }
   },
   "outputs": [
    {
     "data": {
      "text/html": [
       "<div>\n",
       "<style scoped>\n",
       "    .dataframe tbody tr th:only-of-type {\n",
       "        vertical-align: middle;\n",
       "    }\n",
       "\n",
       "    .dataframe tbody tr th {\n",
       "        vertical-align: top;\n",
       "    }\n",
       "\n",
       "    .dataframe thead th {\n",
       "        text-align: right;\n",
       "    }\n",
       "</style>\n",
       "<table border=\"1\" class=\"dataframe\">\n",
       "  <thead>\n",
       "    <tr style=\"text-align: right;\">\n",
       "      <th></th>\n",
       "      <th>date</th>\n",
       "      <th>open</th>\n",
       "      <th>high</th>\n",
       "      <th>low</th>\n",
       "      <th>close</th>\n",
       "      <th>volume</th>\n",
       "    </tr>\n",
       "  </thead>\n",
       "  <tbody>\n",
       "    <tr>\n",
       "      <th>0</th>\n",
       "      <td>2019-01-01 09:15:00+05:30</td>\n",
       "      <td>113.00</td>\n",
       "      <td>113.35</td>\n",
       "      <td>113.0</td>\n",
       "      <td>113.35</td>\n",
       "      <td>44</td>\n",
       "    </tr>\n",
       "    <tr>\n",
       "      <th>1</th>\n",
       "      <td>2019-01-01 09:16:00+05:30</td>\n",
       "      <td>113.35</td>\n",
       "      <td>113.35</td>\n",
       "      <td>113.2</td>\n",
       "      <td>113.20</td>\n",
       "      <td>0</td>\n",
       "    </tr>\n",
       "    <tr>\n",
       "      <th>2</th>\n",
       "      <td>2019-01-01 09:17:00+05:30</td>\n",
       "      <td>113.20</td>\n",
       "      <td>113.20</td>\n",
       "      <td>113.2</td>\n",
       "      <td>113.20</td>\n",
       "      <td>2</td>\n",
       "    </tr>\n",
       "    <tr>\n",
       "      <th>3</th>\n",
       "      <td>2019-01-01 09:18:00+05:30</td>\n",
       "      <td>113.20</td>\n",
       "      <td>113.20</td>\n",
       "      <td>113.2</td>\n",
       "      <td>113.20</td>\n",
       "      <td>8</td>\n",
       "    </tr>\n",
       "    <tr>\n",
       "      <th>4</th>\n",
       "      <td>2019-01-01 09:19:00+05:30</td>\n",
       "      <td>113.20</td>\n",
       "      <td>113.20</td>\n",
       "      <td>112.8</td>\n",
       "      <td>112.80</td>\n",
       "      <td>6</td>\n",
       "    </tr>\n",
       "  </tbody>\n",
       "</table>\n",
       "</div>"
      ],
      "text/plain": [
       "                       date    open    high    low   close  volume\n",
       "0 2019-01-01 09:15:00+05:30  113.00  113.35  113.0  113.35      44\n",
       "1 2019-01-01 09:16:00+05:30  113.35  113.35  113.2  113.20       0\n",
       "2 2019-01-01 09:17:00+05:30  113.20  113.20  113.2  113.20       2\n",
       "3 2019-01-01 09:18:00+05:30  113.20  113.20  113.2  113.20       8\n",
       "4 2019-01-01 09:19:00+05:30  113.20  113.20  112.8  112.80       6"
      ]
     },
     "execution_count": 179,
     "metadata": {},
     "output_type": "execute_result"
    }
   ],
   "source": [
    "hist_df.head()"
   ]
  },
  {
   "cell_type": "code",
   "execution_count": 180,
   "metadata": {
    "collapsed": true,
    "jupyter": {
     "outputs_hidden": true
    }
   },
   "outputs": [
    {
     "data": {
      "text/plain": [
       "(106155, 6)"
      ]
     },
     "execution_count": 180,
     "metadata": {},
     "output_type": "execute_result"
    }
   ],
   "source": [
    "hist_df.shape"
   ]
  },
  {
   "cell_type": "markdown",
   "metadata": {},
   "source": [
    "### Extracting Different bars \n",
    "\n",
    "1. Information tick bar \n",
    "\n",
    "2. Information volume bar\n",
    "\n",
    "3. Information dollar bar"
   ]
  },
  {
   "cell_type": "code",
   "execution_count": 183,
   "metadata": {},
   "outputs": [],
   "source": [
    "hist_df  = hist_df[['date','close','volume']]"
   ]
  },
  {
   "cell_type": "code",
   "execution_count": 184,
   "metadata": {
    "collapsed": true,
    "jupyter": {
     "outputs_hidden": true
    }
   },
   "outputs": [
    {
     "data": {
      "text/plain": [
       "(106155, 3)"
      ]
     },
     "execution_count": 184,
     "metadata": {},
     "output_type": "execute_result"
    }
   ],
   "source": [
    "hist_df.shape"
   ]
  },
  {
   "cell_type": "code",
   "execution_count": 268,
   "metadata": {},
   "outputs": [],
   "source": [
    "hist_df.to_csv(savepath+'/icici_prud_nifty50_etf.csv',index=False)"
   ]
  },
  {
   "cell_type": "code",
   "execution_count": 207,
   "metadata": {
    "collapsed": true,
    "jupyter": {
     "outputs_hidden": true
    }
   },
   "outputs": [
    {
     "name": "stdout",
     "output_type": "stream",
     "text": [
      "Reading data in batches:\n",
      "Batch number: 0\n",
      "Returning bars \n",
      "\n"
     ]
    }
   ],
   "source": [
    "hist_vol_IB = get_ema_volume_imbalance_bars(hist_df,num_prev_bars=10,expected_imbalance_window=100,exp_num_ticks_init=30,exp_num_ticks_constraints=[0,30])"
   ]
  },
  {
   "cell_type": "code",
   "execution_count": 208,
   "metadata": {
    "collapsed": true,
    "jupyter": {
     "outputs_hidden": true
    }
   },
   "outputs": [
    {
     "data": {
      "text/plain": [
       "(827, 10)"
      ]
     },
     "execution_count": 208,
     "metadata": {},
     "output_type": "execute_result"
    }
   ],
   "source": [
    "hist_vol_IB[0].shape"
   ]
  },
  {
   "cell_type": "code",
   "execution_count": 215,
   "metadata": {
    "collapsed": true,
    "jupyter": {
     "outputs_hidden": true,
     "source_hidden": true
    }
   },
   "outputs": [
    {
     "data": {
      "text/plain": [
       "<matplotlib.axes._subplots.AxesSubplot at 0x2b76a106438>"
      ]
     },
     "execution_count": 215,
     "metadata": {},
     "output_type": "execute_result"
    },
    {
     "data": {
      "image/png": "[encoded data removed]",
      "text/plain": [
       "<Figure size 720x432 with 1 Axes>"
      ]
     },
     "metadata": {
      "needs_background": "light"
     },
     "output_type": "display_data"
    }
   ],
   "source": [
    "fig = plt.figure(figsize=(10,6))\n",
    "axs = fig.add_subplot()\n",
    "hist_vol_IB[0].set_index('date_time').close.plot(ax=axs,marker='x')\n",
    "#hist_vol_IB[0].set_index('date_time').close.scatter(ax=axs)"
   ]
  },
  {
   "cell_type": "code",
   "execution_count": 138,
   "metadata": {
    "collapsed": true,
    "jupyter": {
     "outputs_hidden": true
    }
   },
   "outputs": [
    {
     "name": "stdout",
     "output_type": "stream",
     "text": [
      "Reading data in batches:\n",
      "Batch number: 0\n",
      "Returning bars \n",
      "\n"
     ]
    }
   ],
   "source": [
    "hist_dol_IB = get_ema_dollar_imbalance_bars(hist_df.query('volume!=0'),num_prev_bars=10,expected_imbalance_window=100,exp_num_ticks_init=100)"
   ]
  },
  {
   "cell_type": "code",
   "execution_count": 139,
   "metadata": {
    "collapsed": true,
    "jupyter": {
     "outputs_hidden": true
    }
   },
   "outputs": [
    {
     "data": {
      "text/html": [
       "<div>\n",
       "<style scoped>\n",
       "    .dataframe tbody tr th:only-of-type {\n",
       "        vertical-align: middle;\n",
       "    }\n",
       "\n",
       "    .dataframe tbody tr th {\n",
       "        vertical-align: top;\n",
       "    }\n",
       "\n",
       "    .dataframe thead th {\n",
       "        text-align: right;\n",
       "    }\n",
       "</style>\n",
       "<table border=\"1\" class=\"dataframe\">\n",
       "  <thead>\n",
       "    <tr style=\"text-align: right;\">\n",
       "      <th></th>\n",
       "      <th>date_time</th>\n",
       "      <th>tick_num</th>\n",
       "      <th>open</th>\n",
       "      <th>high</th>\n",
       "      <th>low</th>\n",
       "      <th>close</th>\n",
       "      <th>volume</th>\n",
       "      <th>cum_buy_volume</th>\n",
       "      <th>cum_ticks</th>\n",
       "      <th>cum_dollar_value</th>\n",
       "    </tr>\n",
       "  </thead>\n",
       "  <tbody>\n",
       "    <tr>\n",
       "      <th>0</th>\n",
       "      <td>2019-01-02 12:23:00+05:30</td>\n",
       "      <td>100</td>\n",
       "      <td>112.00</td>\n",
       "      <td>113.40</td>\n",
       "      <td>112.00</td>\n",
       "      <td>112.68</td>\n",
       "      <td>7763</td>\n",
       "      <td>4365</td>\n",
       "      <td>100</td>\n",
       "      <td>875359.00</td>\n",
       "    </tr>\n",
       "    <tr>\n",
       "      <th>1</th>\n",
       "      <td>2019-01-02 12:35:00+05:30</td>\n",
       "      <td>103</td>\n",
       "      <td>112.73</td>\n",
       "      <td>112.73</td>\n",
       "      <td>112.48</td>\n",
       "      <td>112.53</td>\n",
       "      <td>166</td>\n",
       "      <td>151</td>\n",
       "      <td>3</td>\n",
       "      <td>18689.43</td>\n",
       "    </tr>\n",
       "    <tr>\n",
       "      <th>2</th>\n",
       "      <td>2019-01-02 13:50:00+05:30</td>\n",
       "      <td>120</td>\n",
       "      <td>112.53</td>\n",
       "      <td>112.73</td>\n",
       "      <td>111.67</td>\n",
       "      <td>111.67</td>\n",
       "      <td>478</td>\n",
       "      <td>89</td>\n",
       "      <td>17</td>\n",
       "      <td>53579.47</td>\n",
       "    </tr>\n",
       "    <tr>\n",
       "      <th>3</th>\n",
       "      <td>2019-01-02 15:02:00+05:30</td>\n",
       "      <td>126</td>\n",
       "      <td>111.72</td>\n",
       "      <td>112.22</td>\n",
       "      <td>111.72</td>\n",
       "      <td>112.22</td>\n",
       "      <td>399</td>\n",
       "      <td>387</td>\n",
       "      <td>6</td>\n",
       "      <td>44728.08</td>\n",
       "    </tr>\n",
       "    <tr>\n",
       "      <th>4</th>\n",
       "      <td>2019-01-02 15:06:00+05:30</td>\n",
       "      <td>127</td>\n",
       "      <td>112.22</td>\n",
       "      <td>112.22</td>\n",
       "      <td>112.22</td>\n",
       "      <td>112.22</td>\n",
       "      <td>19</td>\n",
       "      <td>19</td>\n",
       "      <td>1</td>\n",
       "      <td>2132.18</td>\n",
       "    </tr>\n",
       "    <tr>\n",
       "      <th>...</th>\n",
       "      <td>...</td>\n",
       "      <td>...</td>\n",
       "      <td>...</td>\n",
       "      <td>...</td>\n",
       "      <td>...</td>\n",
       "      <td>...</td>\n",
       "      <td>...</td>\n",
       "      <td>...</td>\n",
       "      <td>...</td>\n",
       "      <td>...</td>\n",
       "    </tr>\n",
       "    <tr>\n",
       "      <th>321</th>\n",
       "      <td>2019-01-18 10:40:00+05:30</td>\n",
       "      <td>1015</td>\n",
       "      <td>112.57</td>\n",
       "      <td>113.80</td>\n",
       "      <td>112.52</td>\n",
       "      <td>113.66</td>\n",
       "      <td>6403</td>\n",
       "      <td>3936</td>\n",
       "      <td>218</td>\n",
       "      <td>724875.17</td>\n",
       "    </tr>\n",
       "    <tr>\n",
       "      <th>322</th>\n",
       "      <td>2019-01-18 13:06:00+05:30</td>\n",
       "      <td>1055</td>\n",
       "      <td>113.66</td>\n",
       "      <td>113.85</td>\n",
       "      <td>113.66</td>\n",
       "      <td>113.66</td>\n",
       "      <td>987</td>\n",
       "      <td>70</td>\n",
       "      <td>40</td>\n",
       "      <td>112183.94</td>\n",
       "    </tr>\n",
       "    <tr>\n",
       "      <th>323</th>\n",
       "      <td>2019-01-18 15:01:00+05:30</td>\n",
       "      <td>1077</td>\n",
       "      <td>113.66</td>\n",
       "      <td>114.00</td>\n",
       "      <td>113.66</td>\n",
       "      <td>113.66</td>\n",
       "      <td>722</td>\n",
       "      <td>4</td>\n",
       "      <td>22</td>\n",
       "      <td>82063.88</td>\n",
       "    </tr>\n",
       "    <tr>\n",
       "      <th>324</th>\n",
       "      <td>2019-01-18 15:19:00+05:30</td>\n",
       "      <td>1083</td>\n",
       "      <td>113.66</td>\n",
       "      <td>113.70</td>\n",
       "      <td>113.66</td>\n",
       "      <td>113.66</td>\n",
       "      <td>10547</td>\n",
       "      <td>1</td>\n",
       "      <td>6</td>\n",
       "      <td>1198772.06</td>\n",
       "    </tr>\n",
       "    <tr>\n",
       "      <th>325</th>\n",
       "      <td>2019-02-27 09:27:00+05:30</td>\n",
       "      <td>3697</td>\n",
       "      <td>114.00</td>\n",
       "      <td>115.56</td>\n",
       "      <td>110.11</td>\n",
       "      <td>113.38</td>\n",
       "      <td>175259</td>\n",
       "      <td>122208</td>\n",
       "      <td>2614</td>\n",
       "      <td>19810880.67</td>\n",
       "    </tr>\n",
       "  </tbody>\n",
       "</table>\n",
       "<p>326 rows × 10 columns</p>\n",
       "</div>"
      ],
      "text/plain": [
       "                    date_time  tick_num    open    high     low   close  \\\n",
       "0   2019-01-02 12:23:00+05:30       100  112.00  113.40  112.00  112.68   \n",
       "1   2019-01-02 12:35:00+05:30       103  112.73  112.73  112.48  112.53   \n",
       "2   2019-01-02 13:50:00+05:30       120  112.53  112.73  111.67  111.67   \n",
       "3   2019-01-02 15:02:00+05:30       126  111.72  112.22  111.72  112.22   \n",
       "4   2019-01-02 15:06:00+05:30       127  112.22  112.22  112.22  112.22   \n",
       "..                        ...       ...     ...     ...     ...     ...   \n",
       "321 2019-01-18 10:40:00+05:30      1015  112.57  113.80  112.52  113.66   \n",
       "322 2019-01-18 13:06:00+05:30      1055  113.66  113.85  113.66  113.66   \n",
       "323 2019-01-18 15:01:00+05:30      1077  113.66  114.00  113.66  113.66   \n",
       "324 2019-01-18 15:19:00+05:30      1083  113.66  113.70  113.66  113.66   \n",
       "325 2019-02-27 09:27:00+05:30      3697  114.00  115.56  110.11  113.38   \n",
       "\n",
       "     volume  cum_buy_volume  cum_ticks  cum_dollar_value  \n",
       "0      7763            4365        100         875359.00  \n",
       "1       166             151          3          18689.43  \n",
       "2       478              89         17          53579.47  \n",
       "3       399             387          6          44728.08  \n",
       "4        19              19          1           2132.18  \n",
       "..      ...             ...        ...               ...  \n",
       "321    6403            3936        218         724875.17  \n",
       "322     987              70         40         112183.94  \n",
       "323     722               4         22          82063.88  \n",
       "324   10547               1          6        1198772.06  \n",
       "325  175259          122208       2614       19810880.67  \n",
       "\n",
       "[326 rows x 10 columns]"
      ]
     },
     "execution_count": 139,
     "metadata": {},
     "output_type": "execute_result"
    }
   ],
   "source": [
    "hist_dol_IB[0]"
   ]
  },
  {
   "cell_type": "code",
   "execution_count": 222,
   "metadata": {
    "collapsed": true,
    "jupyter": {
     "outputs_hidden": true
    }
   },
   "outputs": [
    {
     "name": "stdout",
     "output_type": "stream",
     "text": [
      "Reading data in batches:\n",
      "Batch number: 0\n",
      "Returning bars \n",
      "\n"
     ]
    }
   ],
   "source": [
    "hist_time = get_time_bars(hist_df,resolution='MIN',num_units=30)"
   ]
  },
  {
   "cell_type": "code",
   "execution_count": 225,
   "metadata": {},
   "outputs": [],
   "source": [
    "hist_time['date_time'] = hist_time['date_time'].apply(lambda x: datetime.datetime.fromtimestamp(x))"
   ]
  },
  {
   "cell_type": "code",
   "execution_count": 235,
   "metadata": {
    "collapsed": true,
    "jupyter": {
     "outputs_hidden": true
    }
   },
   "outputs": [
    {
     "data": {
      "text/html": [
       "<div>\n",
       "<style scoped>\n",
       "    .dataframe tbody tr th:only-of-type {\n",
       "        vertical-align: middle;\n",
       "    }\n",
       "\n",
       "    .dataframe tbody tr th {\n",
       "        vertical-align: top;\n",
       "    }\n",
       "\n",
       "    .dataframe thead th {\n",
       "        text-align: right;\n",
       "    }\n",
       "</style>\n",
       "<table border=\"1\" class=\"dataframe\">\n",
       "  <thead>\n",
       "    <tr style=\"text-align: right;\">\n",
       "      <th></th>\n",
       "      <th>date_time</th>\n",
       "      <th>tick_num</th>\n",
       "      <th>open</th>\n",
       "      <th>high</th>\n",
       "      <th>low</th>\n",
       "      <th>close</th>\n",
       "      <th>volume</th>\n",
       "      <th>cum_buy_volume</th>\n",
       "      <th>cum_ticks</th>\n",
       "      <th>cum_dollar_value</th>\n",
       "      <th>dollar_value</th>\n",
       "    </tr>\n",
       "  </thead>\n",
       "  <tbody>\n",
       "    <tr>\n",
       "      <th>0</th>\n",
       "      <td>2019-01-01 09:30:00</td>\n",
       "      <td>16</td>\n",
       "      <td>113.35</td>\n",
       "      <td>113.35</td>\n",
       "      <td>112.62</td>\n",
       "      <td>112.72</td>\n",
       "      <td>145</td>\n",
       "      <td>1</td>\n",
       "      <td>15</td>\n",
       "      <td>16369.00</td>\n",
       "      <td>16369.00</td>\n",
       "    </tr>\n",
       "    <tr>\n",
       "      <th>1</th>\n",
       "      <td>2019-01-01 10:00:00</td>\n",
       "      <td>46</td>\n",
       "      <td>112.72</td>\n",
       "      <td>112.93</td>\n",
       "      <td>112.67</td>\n",
       "      <td>112.67</td>\n",
       "      <td>274</td>\n",
       "      <td>59</td>\n",
       "      <td>30</td>\n",
       "      <td>30879.18</td>\n",
       "      <td>14510.18</td>\n",
       "    </tr>\n",
       "    <tr>\n",
       "      <th>2</th>\n",
       "      <td>2019-01-01 10:30:00</td>\n",
       "      <td>76</td>\n",
       "      <td>112.64</td>\n",
       "      <td>112.78</td>\n",
       "      <td>112.61</td>\n",
       "      <td>112.78</td>\n",
       "      <td>3354</td>\n",
       "      <td>491</td>\n",
       "      <td>30</td>\n",
       "      <td>378021.19</td>\n",
       "      <td>347142.01</td>\n",
       "    </tr>\n",
       "    <tr>\n",
       "      <th>3</th>\n",
       "      <td>2019-01-01 11:00:00</td>\n",
       "      <td>106</td>\n",
       "      <td>112.78</td>\n",
       "      <td>112.91</td>\n",
       "      <td>112.67</td>\n",
       "      <td>112.75</td>\n",
       "      <td>254</td>\n",
       "      <td>236</td>\n",
       "      <td>30</td>\n",
       "      <td>28644.91</td>\n",
       "      <td>349376.28</td>\n",
       "    </tr>\n",
       "    <tr>\n",
       "      <th>4</th>\n",
       "      <td>2019-01-01 11:30:00</td>\n",
       "      <td>136</td>\n",
       "      <td>112.73</td>\n",
       "      <td>112.99</td>\n",
       "      <td>112.73</td>\n",
       "      <td>112.76</td>\n",
       "      <td>20205</td>\n",
       "      <td>12699</td>\n",
       "      <td>30</td>\n",
       "      <td>2282311.24</td>\n",
       "      <td>2253666.33</td>\n",
       "    </tr>\n",
       "    <tr>\n",
       "      <th>5</th>\n",
       "      <td>2019-01-01 12:00:00</td>\n",
       "      <td>166</td>\n",
       "      <td>112.76</td>\n",
       "      <td>112.90</td>\n",
       "      <td>112.74</td>\n",
       "      <td>112.76</td>\n",
       "      <td>168</td>\n",
       "      <td>10</td>\n",
       "      <td>30</td>\n",
       "      <td>18943.26</td>\n",
       "      <td>2263367.98</td>\n",
       "    </tr>\n",
       "    <tr>\n",
       "      <th>6</th>\n",
       "      <td>2019-01-01 12:30:00</td>\n",
       "      <td>196</td>\n",
       "      <td>112.76</td>\n",
       "      <td>112.94</td>\n",
       "      <td>112.75</td>\n",
       "      <td>112.92</td>\n",
       "      <td>303</td>\n",
       "      <td>142</td>\n",
       "      <td>30</td>\n",
       "      <td>34194.45</td>\n",
       "      <td>15251.19</td>\n",
       "    </tr>\n",
       "    <tr>\n",
       "      <th>7</th>\n",
       "      <td>2019-01-01 13:00:00</td>\n",
       "      <td>226</td>\n",
       "      <td>112.92</td>\n",
       "      <td>112.92</td>\n",
       "      <td>112.66</td>\n",
       "      <td>112.79</td>\n",
       "      <td>2152</td>\n",
       "      <td>19</td>\n",
       "      <td>30</td>\n",
       "      <td>242717.17</td>\n",
       "      <td>208522.72</td>\n",
       "    </tr>\n",
       "    <tr>\n",
       "      <th>8</th>\n",
       "      <td>2019-01-01 13:30:00</td>\n",
       "      <td>255</td>\n",
       "      <td>112.79</td>\n",
       "      <td>112.79</td>\n",
       "      <td>112.75</td>\n",
       "      <td>112.75</td>\n",
       "      <td>187</td>\n",
       "      <td>0</td>\n",
       "      <td>29</td>\n",
       "      <td>21084.25</td>\n",
       "      <td>221632.92</td>\n",
       "    </tr>\n",
       "    <tr>\n",
       "      <th>9</th>\n",
       "      <td>2019-01-01 14:00:00</td>\n",
       "      <td>285</td>\n",
       "      <td>112.75</td>\n",
       "      <td>112.87</td>\n",
       "      <td>112.63</td>\n",
       "      <td>112.63</td>\n",
       "      <td>603</td>\n",
       "      <td>1</td>\n",
       "      <td>30</td>\n",
       "      <td>67927.51</td>\n",
       "      <td>46843.26</td>\n",
       "    </tr>\n",
       "    <tr>\n",
       "      <th>10</th>\n",
       "      <td>2019-01-01 14:30:00</td>\n",
       "      <td>315</td>\n",
       "      <td>112.63</td>\n",
       "      <td>113.12</td>\n",
       "      <td>112.62</td>\n",
       "      <td>113.12</td>\n",
       "      <td>475</td>\n",
       "      <td>458</td>\n",
       "      <td>30</td>\n",
       "      <td>53620.92</td>\n",
       "      <td>14306.59</td>\n",
       "    </tr>\n",
       "    <tr>\n",
       "      <th>11</th>\n",
       "      <td>2019-01-01 15:00:00</td>\n",
       "      <td>345</td>\n",
       "      <td>113.12</td>\n",
       "      <td>113.55</td>\n",
       "      <td>113.12</td>\n",
       "      <td>113.48</td>\n",
       "      <td>737</td>\n",
       "      <td>673</td>\n",
       "      <td>30</td>\n",
       "      <td>83486.67</td>\n",
       "      <td>29865.75</td>\n",
       "    </tr>\n",
       "    <tr>\n",
       "      <th>12</th>\n",
       "      <td>2019-01-01 15:30:00</td>\n",
       "      <td>375</td>\n",
       "      <td>113.48</td>\n",
       "      <td>113.82</td>\n",
       "      <td>113.47</td>\n",
       "      <td>113.82</td>\n",
       "      <td>2726</td>\n",
       "      <td>1543</td>\n",
       "      <td>30</td>\n",
       "      <td>309702.07</td>\n",
       "      <td>226215.40</td>\n",
       "    </tr>\n",
       "    <tr>\n",
       "      <th>13</th>\n",
       "      <td>2019-01-02 09:30:00</td>\n",
       "      <td>390</td>\n",
       "      <td>113.00</td>\n",
       "      <td>113.10</td>\n",
       "      <td>112.95</td>\n",
       "      <td>112.96</td>\n",
       "      <td>764</td>\n",
       "      <td>259</td>\n",
       "      <td>15</td>\n",
       "      <td>86322.14</td>\n",
       "      <td>223379.93</td>\n",
       "    </tr>\n",
       "    <tr>\n",
       "      <th>14</th>\n",
       "      <td>2019-01-02 10:00:00</td>\n",
       "      <td>420</td>\n",
       "      <td>112.96</td>\n",
       "      <td>113.09</td>\n",
       "      <td>112.87</td>\n",
       "      <td>112.95</td>\n",
       "      <td>451</td>\n",
       "      <td>79</td>\n",
       "      <td>30</td>\n",
       "      <td>50928.06</td>\n",
       "      <td>35394.08</td>\n",
       "    </tr>\n",
       "    <tr>\n",
       "      <th>15</th>\n",
       "      <td>2019-01-02 10:30:00</td>\n",
       "      <td>450</td>\n",
       "      <td>113.18</td>\n",
       "      <td>113.45</td>\n",
       "      <td>112.96</td>\n",
       "      <td>113.40</td>\n",
       "      <td>2029</td>\n",
       "      <td>1788</td>\n",
       "      <td>30</td>\n",
       "      <td>229657.40</td>\n",
       "      <td>178729.34</td>\n",
       "    </tr>\n",
       "    <tr>\n",
       "      <th>16</th>\n",
       "      <td>2019-01-02 11:00:00</td>\n",
       "      <td>480</td>\n",
       "      <td>113.15</td>\n",
       "      <td>113.40</td>\n",
       "      <td>113.03</td>\n",
       "      <td>113.37</td>\n",
       "      <td>755</td>\n",
       "      <td>171</td>\n",
       "      <td>30</td>\n",
       "      <td>85399.15</td>\n",
       "      <td>144258.25</td>\n",
       "    </tr>\n",
       "    <tr>\n",
       "      <th>17</th>\n",
       "      <td>2019-01-02 11:30:00</td>\n",
       "      <td>510</td>\n",
       "      <td>113.37</td>\n",
       "      <td>113.39</td>\n",
       "      <td>113.11</td>\n",
       "      <td>113.35</td>\n",
       "      <td>14728</td>\n",
       "      <td>6339</td>\n",
       "      <td>30</td>\n",
       "      <td>1669294.21</td>\n",
       "      <td>1583895.06</td>\n",
       "    </tr>\n",
       "    <tr>\n",
       "      <th>18</th>\n",
       "      <td>2019-01-02 12:00:00</td>\n",
       "      <td>540</td>\n",
       "      <td>113.35</td>\n",
       "      <td>113.35</td>\n",
       "      <td>113.10</td>\n",
       "      <td>113.10</td>\n",
       "      <td>1084</td>\n",
       "      <td>1</td>\n",
       "      <td>30</td>\n",
       "      <td>122673.56</td>\n",
       "      <td>1546620.65</td>\n",
       "    </tr>\n",
       "    <tr>\n",
       "      <th>19</th>\n",
       "      <td>2019-01-02 12:30:00</td>\n",
       "      <td>570</td>\n",
       "      <td>113.10</td>\n",
       "      <td>113.37</td>\n",
       "      <td>112.87</td>\n",
       "      <td>112.87</td>\n",
       "      <td>299</td>\n",
       "      <td>103</td>\n",
       "      <td>30</td>\n",
       "      <td>33805.55</td>\n",
       "      <td>88868.01</td>\n",
       "    </tr>\n",
       "  </tbody>\n",
       "</table>\n",
       "</div>"
      ],
      "text/plain": [
       "             date_time  tick_num    open    high     low   close  volume  \\\n",
       "0  2019-01-01 09:30:00        16  113.35  113.35  112.62  112.72     145   \n",
       "1  2019-01-01 10:00:00        46  112.72  112.93  112.67  112.67     274   \n",
       "2  2019-01-01 10:30:00        76  112.64  112.78  112.61  112.78    3354   \n",
       "3  2019-01-01 11:00:00       106  112.78  112.91  112.67  112.75     254   \n",
       "4  2019-01-01 11:30:00       136  112.73  112.99  112.73  112.76   20205   \n",
       "5  2019-01-01 12:00:00       166  112.76  112.90  112.74  112.76     168   \n",
       "6  2019-01-01 12:30:00       196  112.76  112.94  112.75  112.92     303   \n",
       "7  2019-01-01 13:00:00       226  112.92  112.92  112.66  112.79    2152   \n",
       "8  2019-01-01 13:30:00       255  112.79  112.79  112.75  112.75     187   \n",
       "9  2019-01-01 14:00:00       285  112.75  112.87  112.63  112.63     603   \n",
       "10 2019-01-01 14:30:00       315  112.63  113.12  112.62  113.12     475   \n",
       "11 2019-01-01 15:00:00       345  113.12  113.55  113.12  113.48     737   \n",
       "12 2019-01-01 15:30:00       375  113.48  113.82  113.47  113.82    2726   \n",
       "13 2019-01-02 09:30:00       390  113.00  113.10  112.95  112.96     764   \n",
       "14 2019-01-02 10:00:00       420  112.96  113.09  112.87  112.95     451   \n",
       "15 2019-01-02 10:30:00       450  113.18  113.45  112.96  113.40    2029   \n",
       "16 2019-01-02 11:00:00       480  113.15  113.40  113.03  113.37     755   \n",
       "17 2019-01-02 11:30:00       510  113.37  113.39  113.11  113.35   14728   \n",
       "18 2019-01-02 12:00:00       540  113.35  113.35  113.10  113.10    1084   \n",
       "19 2019-01-02 12:30:00       570  113.10  113.37  112.87  112.87     299   \n",
       "\n",
       "    cum_buy_volume  cum_ticks  cum_dollar_value  dollar_value  \n",
       "0                1         15          16369.00      16369.00  \n",
       "1               59         30          30879.18      14510.18  \n",
       "2              491         30         378021.19     347142.01  \n",
       "3              236         30          28644.91     349376.28  \n",
       "4            12699         30        2282311.24    2253666.33  \n",
       "5               10         30          18943.26    2263367.98  \n",
       "6              142         30          34194.45      15251.19  \n",
       "7               19         30         242717.17     208522.72  \n",
       "8                0         29          21084.25     221632.92  \n",
       "9                1         30          67927.51      46843.26  \n",
       "10             458         30          53620.92      14306.59  \n",
       "11             673         30          83486.67      29865.75  \n",
       "12            1543         30         309702.07     226215.40  \n",
       "13             259         15          86322.14     223379.93  \n",
       "14              79         30          50928.06      35394.08  \n",
       "15            1788         30         229657.40     178729.34  \n",
       "16             171         30          85399.15     144258.25  \n",
       "17            6339         30        1669294.21    1583895.06  \n",
       "18               1         30         122673.56    1546620.65  \n",
       "19             103         30          33805.55      88868.01  "
      ]
     },
     "execution_count": 235,
     "metadata": {},
     "output_type": "execute_result"
    }
   ],
   "source": [
    "hist_time.head(20)"
   ]
  },
  {
   "cell_type": "code",
   "execution_count": 231,
   "metadata": {},
   "outputs": [],
   "source": [
    "hist_time['dollar_value'] = np.abs(hist_time['cum_dollar_value'].diff())\n",
    "hist_time.loc[0,'dollar_value'] = hist_time['cum_dollar_value'].iloc[0]"
   ]
  },
  {
   "cell_type": "code",
   "execution_count": 232,
   "metadata": {},
   "outputs": [],
   "source": [
    "exp_volume,std_volume = hist_time['volume'].mean(),hist_time['volume'].std()\n",
    "exp_dollar,std_dollar = hist_time['dollar_value'].mean(),hist_time['dollar_value'].std()"
   ]
  },
  {
   "cell_type": "code",
   "execution_count": 234,
   "metadata": {},
   "outputs": [
    {
     "data": {
      "text/plain": [
       "(2170451.4462048355, 12960.60880195599)"
      ]
     },
     "execution_count": 234,
     "metadata": {},
     "output_type": "execute_result"
    }
   ],
   "source": [
    "exp_dollar,exp_volume"
   ]
  },
  {
   "cell_type": "code",
   "execution_count": 287,
   "metadata": {
    "collapsed": true,
    "jupyter": {
     "outputs_hidden": true
    }
   },
   "outputs": [
    {
     "name": "stdout",
     "output_type": "stream",
     "text": [
      "Reading data in batches:\n",
      "Batch number: 0\n",
      "Returning bars \n",
      "\n"
     ]
    }
   ],
   "source": [
    "hist_volume = get_volume_bars(hist_df,threshold=15000)"
   ]
  },
  {
   "cell_type": "code",
   "execution_count": 291,
   "metadata": {},
   "outputs": [
    {
     "data": {
      "text/plain": [
       "(1577, 11)"
      ]
     },
     "execution_count": 291,
     "metadata": {},
     "output_type": "execute_result"
    }
   ],
   "source": [
    "hist_volume.shape"
   ]
  },
  {
   "cell_type": "code",
   "execution_count": 276,
   "metadata": {
    "collapsed": true,
    "jupyter": {
     "outputs_hidden": true
    }
   },
   "outputs": [
    {
     "name": "stdout",
     "output_type": "stream",
     "text": [
      "Reading data in batches:\n",
      "Batch number: 0\n",
      "Returning bars \n",
      "\n"
     ]
    }
   ],
   "source": [
    "hist_dollar = get_dollar_bars(hist_df,threshold=exp_dollar//2)"
   ]
  },
  {
   "cell_type": "code",
   "execution_count": 288,
   "metadata": {},
   "outputs": [],
   "source": [
    "hist_time['log_ret'] = np.log(hist_time['close']).diff()\n",
    "hist_volume['log_ret'] = np.log(hist_volume['close']).diff()\n",
    "hist_dollar['log_ret'] = np.log(hist_dollar['close']).diff()"
   ]
  },
  {
   "cell_type": "code",
   "execution_count": 292,
   "metadata": {},
   "outputs": [
    {
     "data": {
      "image/png": "[encoded data removed]",
      "text/plain": [
       "<Figure size 864x576 with 1 Axes>"
      ]
     },
     "metadata": {
      "needs_background": "light"
     },
     "output_type": "display_data"
    }
   ],
   "source": [
    "fig=plt.figure(figsize=(12,8))\n",
    "axs = fig.add_subplot()\n",
    "sns.kdeplot((hist_time['log_ret']-hist_time['log_ret'].mean())/hist_time['log_ret'].std(),shade=True,label = 'Time Bar returns',ax=axs)\n",
    "sns.kdeplot((hist_volume['log_ret']-hist_volume['log_ret'].mean())/hist_volume['log_ret'].std(),shade=False,label = 'Volume Bar returns',ax=axs)\n",
    "sns.kdeplot((hist_dollar['log_ret']-hist_dollar['log_ret'].mean())/hist_dollar['log_ret'].std(),shade=False,label = 'Dollar Bar returns',ax=axs)\n",
    "sns.kdeplot(np.random.normal(size=len(hist_time)),label = 'Normal returns',color='black',linestyle='--')\n",
    "#sns.kdeplot(np.log(hist_time['close']).diff(),shade=True,label='log-ret')\n",
    "plt.show()"
   ]
  },
  {
   "cell_type": "code",
   "execution_count": 299,
   "metadata": {},
   "outputs": [
    {
     "data": {
      "image/png": "[encoded data removed]",
      "text/plain": [
       "<Figure size 432x288 with 1 Axes>"
      ]
     },
     "metadata": {
      "needs_background": "light"
     },
     "output_type": "display_data"
    }
   ],
   "source": [
    "plot_acf(hist_time['log_ret'].fillna(0),lags=10, zero=False)\n",
    "plt.show()\n"
   ]
  },
  {
   "cell_type": "code",
   "execution_count": 297,
   "metadata": {},
   "outputs": [
    {
     "data": {
      "image/png": "[encoded data removed]",
      "text/plain": [
       "<Figure size 432x288 with 1 Axes>"
      ]
     },
     "metadata": {
      "needs_background": "light"
     },
     "output_type": "display_data"
    }
   ],
   "source": [
    "plot_acf(hist_volume['log_ret'].fillna(0),lags=10, zero=False)\n",
    "plt.show()\n"
   ]
  },
  {
   "cell_type": "code",
   "execution_count": 298,
   "metadata": {},
   "outputs": [
    {
     "data": {
      "image/png": "[encoded data removed]",
      "text/plain": [
       "<Figure size 432x288 with 1 Axes>"
      ]
     },
     "metadata": {
      "needs_background": "light"
     },
     "output_type": "display_data"
    }
   ],
   "source": [
    "plot_acf(hist_dollar['log_ret'].fillna(0),lags=10, zero=False)\n",
    "plt.show()\n"
   ]
  },
  {
   "cell_type": "code",
   "execution_count": 304,
   "metadata": {},
   "outputs": [
    {
     "name": "stdout",
     "output_type": "stream",
     "text": [
      "Test Statistics:\n",
      "Time: \t 9163\n",
      "Volume:  2916\n",
      "Dollar:  10820\n"
     ]
    }
   ],
   "source": [
    "print('Test Statistics:')\n",
    "print('Time:', '\\t', int(stats.jarque_bera(hist_time['log_ret'].fillna(0))[0]))\n",
    "print('Volume: ', int(stats.jarque_bera(hist_volume['log_ret'].fillna(0))[0]))\n",
    "print('Dollar: ', int(stats.jarque_bera(hist_dollar['log_ret'].fillna(0))[0]))"
   ]
  }
 ],
 "metadata": {
  "kernelspec": {
   "display_name": "Python 3",
   "language": "python",
   "name": "python3"
  },
  "language_info": {
   "codemirror_mode": {
    "name": "ipython",
    "version": 3
   },
   "file_extension": ".py",
   "mimetype": "text/x-python",
   "name": "python",
   "nbconvert_exporter": "python",
   "pygments_lexer": "ipython3",
   "version": "3.6.10"
  }
 },
 "nbformat": 4,
 "nbformat_minor": 4
}
