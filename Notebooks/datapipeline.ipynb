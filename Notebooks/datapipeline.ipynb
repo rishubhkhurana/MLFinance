{
  "nbformat": 4,
  "nbformat_minor": 0,
  "metadata": {
    "colab": {
      "name": "datapipeline.ipynb",
      "provenance": [],
      "collapsed_sections": [
        "fi778yfaK3Co",
        "vBYuagBBXnd-"
      ],
      "authorship_tag": "ABX9TyNc194OcFry+YX6JqsFgojq",
      "include_colab_link": true
    },
    "kernelspec": {
      "name": "python3",
      "display_name": "Python 3"
    }
  },
  "cells": [
    {
      "cell_type": "markdown",
      "metadata": {
        "id": "view-in-github",
        "colab_type": "text"
      },
      "source": [
        "<a href=\"https://colab.research.google.com/github/rishubhkhurana/MLFinance/blob/master/Notebooks/datapipeline.ipynb\" target=\"_parent\"><img src=\"https://colab.research.google.com/assets/colab-badge.svg\" alt=\"Open In Colab\"/></a>"
      ]
    },
    {
      "cell_type": "markdown",
      "metadata": {
        "id": "CfKTH25SILiQ",
        "colab_type": "text"
      },
      "source": [
        "## Stock Price Pipeline -- Housekeeping work\n",
        "\n",
        "1. kite data downloader for any instrument. This requires accessing kite authorization with api key, get request token, get access token -- will figure out later, if needed. Found a workaround\n",
        "\n",
        "2. Instrument type based data downloader: options could be a list of stocks or all stocks. Historical data from start to end date --  Done\n",
        "\n",
        "3. Filter design: to filter\n",
        "\n",
        "3. Data Structure using MLfinlab -- testing  \n",
        "\n",
        "4. Data visualization -- \n",
        "\n",
        "\n",
        "\n"
      ]
    },
    {
      "cell_type": "markdown",
      "metadata": {
        "id": "fi778yfaK3Co",
        "colab_type": "text"
      },
      "source": [
        "### Importing libs"
      ]
    },
    {
      "cell_type": "code",
      "metadata": {
        "id": "gWamWkTOMjBo",
        "colab_type": "code",
        "colab": {}
      },
      "source": [
        "!pip install kiteconnect\n",
        "!pip install selenium\n",
        "!pip install selenium\n",
        "!apt-get update # to update ubuntu to correctly run apt install\n",
        "!apt install chromium-chromedriver\n",
        "!cp /usr/lib/chromium-browser/chromedriver /usr/bi"
      ],
      "execution_count": 0,
      "outputs": []
    },
    {
      "cell_type": "code",
      "metadata": {
        "id": "8VHswykaNeKN",
        "colab_type": "code",
        "colab": {}
      },
      "source": [
        "%load_ext autoreload\n",
        "%autoreload 2\n",
        "%matplotlib inline"
      ],
      "execution_count": 0,
      "outputs": []
    },
    {
      "cell_type": "code",
      "metadata": {
        "id": "MM7IsWmkJQ9q",
        "colab_type": "code",
        "colab": {
          "base_uri": "https://localhost:8080/",
          "height": 125
        },
        "outputId": "239681b6-8c9e-4d03-a6c1-e4cf570be5d5"
      },
      "source": [
        "from google.colab import drive\n",
        "drive.mount('/content/gdrive')"
      ],
      "execution_count": 3,
      "outputs": [
        {
          "output_type": "stream",
          "text": [
            "Go to this URL in a browser: https://accounts.google.com/o/oauth2/auth?client_id=947318989803-6bn6qk8qdgf4n4g3pfee6491hc0brc4i.apps.googleusercontent.com&redirect_uri=urn%3aietf%3awg%3aoauth%3a2.0%3aoob&response_type=code&scope=email%20https%3a%2f%2fwww.googleapis.com%2fauth%2fdocs.test%20https%3a%2f%2fwww.googleapis.com%2fauth%2fdrive%20https%3a%2f%2fwww.googleapis.com%2fauth%2fdrive.photos.readonly%20https%3a%2f%2fwww.googleapis.com%2fauth%2fpeopleapi.readonly\n",
            "\n",
            "Enter your authorization code:\n",
            "··········\n",
            "Mounted at /content/gdrive\n"
          ],
          "name": "stdout"
        }
      ]
    },
    {
      "cell_type": "code",
      "metadata": {
        "id": "Id_kAMYWNijC",
        "colab_type": "code",
        "colab": {
          "base_uri": "https://localhost:8080/",
          "height": 143
        },
        "outputId": "e5a91f2e-568f-4e49-841b-9ff9177ed50b"
      },
      "source": [
        "mlfinpath = '/content/gdrive/My Drive/HedgeFund/mlfinlab'\n",
        "ourpath = \"/content/gdrive/My Drive//HedgeFund/MLFinance/src\"\n",
        "import sys\n",
        "sys.path.append(mlfinpath)\n",
        "sys.path.append(ourpath)\n",
        "sys.path.insert(0,'/usr/lib/chromium-browser/chromedriver')\n",
        "from regimports import *\n",
        "from selenium import webdriver"
      ],
      "execution_count": 7,
      "outputs": [
        {
          "output_type": "stream",
          "text": [
            "/usr/local/lib/python3.6/dist-packages/statsmodels/tools/_testing.py:19: FutureWarning: pandas.util.testing is deprecated. Use the functions in the public API at pandas.testing instead.\n",
            "  import pandas.util.testing as tm\n",
            "/usr/local/lib/python3.6/dist-packages/sklearn/utils/deprecation.py:144: FutureWarning: The sklearn.ensemble.bagging module is  deprecated in version 0.22 and will be removed in version 0.24. The corresponding classes / functions should instead be imported from sklearn.ensemble. Anything that cannot be imported from sklearn.ensemble is now part of the private API.\n",
            "  warnings.warn(message, FutureWarning)\n",
            "/usr/local/lib/python3.6/dist-packages/sklearn/utils/deprecation.py:144: FutureWarning: The sklearn.ensemble.base module is  deprecated in version 0.22 and will be removed in version 0.24. The corresponding classes / functions should instead be imported from sklearn.ensemble. Anything that cannot be imported from sklearn.ensemble is now part of the private API.\n",
            "  warnings.warn(message, FutureWarning)\n"
          ],
          "name": "stderr"
        }
      ]
    },
    {
      "cell_type": "code",
      "metadata": {
        "id": "4qWfeHlEMXzr",
        "colab_type": "code",
        "colab": {}
      },
      "source": [
        "Path.ls = lambda x: list(x.iterdir())"
      ],
      "execution_count": 0,
      "outputs": []
    },
    {
      "cell_type": "markdown",
      "metadata": {
        "id": "XAaQGwCoM3eF",
        "colab_type": "text"
      },
      "source": [
        "## Kite Downloader functions"
      ]
    },
    {
      "cell_type": "markdown",
      "metadata": {
        "id": "vBYuagBBXnd-",
        "colab_type": "text"
      },
      "source": [
        "#### Useless Selenium"
      ]
    },
    {
      "cell_type": "code",
      "metadata": {
        "id": "I6wHscVuSEPa",
        "colab_type": "code",
        "colab": {}
      },
      "source": [
        "chrome_options = webdriver.ChromeOptions()\n",
        "chrome_options.add_argument('--headless')\n",
        "chrome_options.add_argument('--no-sandbox')\n",
        "chrome_options.add_argument('--disable-dev-shm-usage')\n",
        "wd.get(url)\n",
        "\n",
        " \n",
        "#driver.find_element_by_id(“email”).send_keys(‘fakeemail@crossbrowsertesting.com’)\n",
        "wd.find_element_by_id(“Password”).send_keys(“fakepassword1”)\n",
        "wd.find_element_by_id(“loginbutton”).click()"
      ],
      "execution_count": 0,
      "outputs": []
    },
    {
      "cell_type": "code",
      "metadata": {
        "id": "QEBQ7Wr_SGrT",
        "colab_type": "code",
        "colab": {
          "base_uri": "https://localhost:8080/",
          "height": 52
        },
        "outputId": "417a1287-12bf-4df3-96ac-086c43c791e2"
      },
      "source": [
        "wd = webdriver.Chrome('chromedriver',chrome_options=chrome_options)"
      ],
      "execution_count": 25,
      "outputs": [
        {
          "output_type": "stream",
          "text": [
            "/usr/local/lib/python3.6/dist-packages/ipykernel_launcher.py:1: DeprecationWarning: use options instead of chrome_options\n",
            "  \"\"\"Entry point for launching an IPython kernel.\n"
          ],
          "name": "stderr"
        }
      ]
    },
    {
      "cell_type": "code",
      "metadata": {
        "id": "TjLzm_6aXr1S",
        "colab_type": "code",
        "colab": {}
      },
      "source": [
        ""
      ],
      "execution_count": 0,
      "outputs": []
    },
    {
      "cell_type": "markdown",
      "metadata": {
        "id": "asc86RYWXsNC",
        "colab_type": "text"
      },
      "source": [
        "#### Kite Manual"
      ]
    },
    {
      "cell_type": "code",
      "metadata": {
        "id": "IPTnb8m-Mwbz",
        "colab_type": "code",
        "colab": {}
      },
      "source": [
        "kite = KiteConnect(api_key=\"mbr5webseydvztcr\")"
      ],
      "execution_count": 0,
      "outputs": []
    },
    {
      "cell_type": "code",
      "metadata": {
        "id": "qNyocpZ6QBSs",
        "colab_type": "code",
        "colab": {}
      },
      "source": [
        "url = kite.login_url()"
      ],
      "execution_count": 0,
      "outputs": []
    },
    {
      "cell_type": "code",
      "metadata": {
        "id": "aZaYdfg0SnDm",
        "colab_type": "code",
        "colab": {
          "base_uri": "https://localhost:8080/",
          "height": 34
        },
        "outputId": "1e0dae7a-56b6-454b-a266-cbc91a6ff6b5"
      },
      "source": [
        "url"
      ],
      "execution_count": 11,
      "outputs": [
        {
          "output_type": "execute_result",
          "data": {
            "text/plain": [
              "'https://kite.trade/connect/login?api_key=mbr5webseydvztcr&v=3'"
            ]
          },
          "metadata": {
            "tags": []
          },
          "execution_count": 11
        }
      ]
    },
    {
      "cell_type": "code",
      "metadata": {
        "id": "FjJhWODoYJ8N",
        "colab_type": "code",
        "colab": {}
      },
      "source": [
        "data = kite.generate_session(\"ShTpgGgoaUmjKz8eM8XDPYFNcG5twf6p\", api_secret=\"53y7l441279l6m66j12sd8fpxn0ltmce\")"
      ],
      "execution_count": 0,
      "outputs": []
    },
    {
      "cell_type": "code",
      "metadata": {
        "id": "yfR03XP5X3rN",
        "colab_type": "code",
        "colab": {}
      },
      "source": [
        "access_token = data['access_token']"
      ],
      "execution_count": 0,
      "outputs": []
    },
    {
      "cell_type": "code",
      "metadata": {
        "id": "Eh6CM8cOYOZE",
        "colab_type": "code",
        "colab": {
          "base_uri": "https://localhost:8080/",
          "height": 34
        },
        "outputId": "52b59071-18a8-4473-87dc-c829b11bc255"
      },
      "source": [
        "access_token"
      ],
      "execution_count": 14,
      "outputs": [
        {
          "output_type": "execute_result",
          "data": {
            "text/plain": [
              "'MzaF6RvWMqaT9ZjufX1NCHAeSCbYsZC7'"
            ]
          },
          "metadata": {
            "tags": []
          },
          "execution_count": 14
        }
      ]
    },
    {
      "cell_type": "code",
      "metadata": {
        "id": "U--dz0N6Nsih",
        "colab_type": "code",
        "colab": {}
      },
      "source": [
        "downloader =  KiteDownloader(kite)"
      ],
      "execution_count": 0,
      "outputs": []
    },
    {
      "cell_type": "code",
      "metadata": {
        "id": "CaAdh2u_YPLT",
        "colab_type": "code",
        "colab": {}
      },
      "source": [
        "downloader.get_available_instruments()"
      ],
      "execution_count": 0,
      "outputs": []
    },
    {
      "cell_type": "code",
      "metadata": {
        "id": "T9gd9r4qmQIY",
        "colab_type": "code",
        "colab": {
          "base_uri": "https://localhost:8080/",
          "height": 197
        },
        "outputId": "257469d2-82a1-4748-dadc-eb25d7d56644"
      },
      "source": [
        "downloader.avail_inst.head()"
      ],
      "execution_count": 21,
      "outputs": [
        {
          "output_type": "execute_result",
          "data": {
            "text/html": [
              "<div>\n",
              "<style scoped>\n",
              "    .dataframe tbody tr th:only-of-type {\n",
              "        vertical-align: middle;\n",
              "    }\n",
              "\n",
              "    .dataframe tbody tr th {\n",
              "        vertical-align: top;\n",
              "    }\n",
              "\n",
              "    .dataframe thead th {\n",
              "        text-align: right;\n",
              "    }\n",
              "</style>\n",
              "<table border=\"1\" class=\"dataframe\">\n",
              "  <thead>\n",
              "    <tr style=\"text-align: right;\">\n",
              "      <th></th>\n",
              "      <th>instrument_token</th>\n",
              "      <th>exchange_token</th>\n",
              "      <th>tradingsymbol</th>\n",
              "      <th>name</th>\n",
              "      <th>last_price</th>\n",
              "      <th>expiry</th>\n",
              "      <th>strike</th>\n",
              "      <th>tick_size</th>\n",
              "      <th>lot_size</th>\n",
              "      <th>instrument_type</th>\n",
              "      <th>segment</th>\n",
              "      <th>exchange</th>\n",
              "    </tr>\n",
              "  </thead>\n",
              "  <tbody>\n",
              "    <tr>\n",
              "      <th>0</th>\n",
              "      <td>544844550</td>\n",
              "      <td>2128299</td>\n",
              "      <td>EURINR20AUG79.2500CE</td>\n",
              "      <td>EURINR</td>\n",
              "      <td>0.0</td>\n",
              "      <td>2020-08-27</td>\n",
              "      <td>79.25</td>\n",
              "      <td>0.0025</td>\n",
              "      <td>1</td>\n",
              "      <td>CE</td>\n",
              "      <td>BCD-OPT</td>\n",
              "      <td>BCD</td>\n",
              "    </tr>\n",
              "    <tr>\n",
              "      <th>1</th>\n",
              "      <td>544838918</td>\n",
              "      <td>2128277</td>\n",
              "      <td>EURINR20AUG79.2500PE</td>\n",
              "      <td>EURINR</td>\n",
              "      <td>0.0</td>\n",
              "      <td>2020-08-27</td>\n",
              "      <td>79.25</td>\n",
              "      <td>0.0025</td>\n",
              "      <td>1</td>\n",
              "      <td>PE</td>\n",
              "      <td>BCD-OPT</td>\n",
              "      <td>BCD</td>\n",
              "    </tr>\n",
              "    <tr>\n",
              "      <th>2</th>\n",
              "      <td>544788742</td>\n",
              "      <td>2128081</td>\n",
              "      <td>EURINR20AUG79.5000CE</td>\n",
              "      <td>EURINR</td>\n",
              "      <td>0.0</td>\n",
              "      <td>2020-08-27</td>\n",
              "      <td>79.50</td>\n",
              "      <td>0.0025</td>\n",
              "      <td>1</td>\n",
              "      <td>CE</td>\n",
              "      <td>BCD-OPT</td>\n",
              "      <td>BCD</td>\n",
              "    </tr>\n",
              "    <tr>\n",
              "      <th>3</th>\n",
              "      <td>544782342</td>\n",
              "      <td>2128056</td>\n",
              "      <td>EURINR20AUG79.5000PE</td>\n",
              "      <td>EURINR</td>\n",
              "      <td>0.0</td>\n",
              "      <td>2020-08-27</td>\n",
              "      <td>79.50</td>\n",
              "      <td>0.0025</td>\n",
              "      <td>1</td>\n",
              "      <td>PE</td>\n",
              "      <td>BCD-OPT</td>\n",
              "      <td>BCD</td>\n",
              "    </tr>\n",
              "    <tr>\n",
              "      <th>4</th>\n",
              "      <td>544739078</td>\n",
              "      <td>2127887</td>\n",
              "      <td>EURINR20AUG79.7500CE</td>\n",
              "      <td>EURINR</td>\n",
              "      <td>0.0</td>\n",
              "      <td>2020-08-27</td>\n",
              "      <td>79.75</td>\n",
              "      <td>0.0025</td>\n",
              "      <td>1</td>\n",
              "      <td>CE</td>\n",
              "      <td>BCD-OPT</td>\n",
              "      <td>BCD</td>\n",
              "    </tr>\n",
              "  </tbody>\n",
              "</table>\n",
              "</div>"
            ],
            "text/plain": [
              "   instrument_token exchange_token  ...  segment exchange\n",
              "0         544844550        2128299  ...  BCD-OPT      BCD\n",
              "1         544838918        2128277  ...  BCD-OPT      BCD\n",
              "2         544788742        2128081  ...  BCD-OPT      BCD\n",
              "3         544782342        2128056  ...  BCD-OPT      BCD\n",
              "4         544739078        2127887  ...  BCD-OPT      BCD\n",
              "\n",
              "[5 rows x 12 columns]"
            ]
          },
          "metadata": {
            "tags": []
          },
          "execution_count": 21
        }
      ]
    },
    {
      "cell_type": "code",
      "metadata": {
        "id": "ZzJX0grjYcWs",
        "colab_type": "code",
        "colab": {}
      },
      "source": [
        "token_list,token_symbols = downloader.get_instrument_tokens()"
      ],
      "execution_count": 0,
      "outputs": []
    },
    {
      "cell_type": "code",
      "metadata": {
        "id": "50-0s2a3OKnu",
        "colab_type": "code",
        "colab": {
          "base_uri": "https://localhost:8080/",
          "height": 52
        },
        "outputId": "1e7d149d-5f47-4d96-9564-951ff94855a5"
      },
      "source": [
        "token_list[:5],token_symbols[:5]"
      ],
      "execution_count": 24,
      "outputs": [
        {
          "output_type": "execute_result",
          "data": {
            "text/plain": [
              "([258313, 264713, 264969, 258057, 258569],\n",
              " ['CPSE INDEX', 'HANGSENG BEES-NAV', 'INDIA VIX', 'LIX 15', 'NI15'])"
            ]
          },
          "metadata": {
            "tags": []
          },
          "execution_count": 24
        }
      ]
    },
    {
      "cell_type": "code",
      "metadata": {
        "id": "hcwD4u1lOWHC",
        "colab_type": "code",
        "colab": {
          "base_uri": "https://localhost:8080/",
          "height": 316
        },
        "outputId": "8bc7bff4-36a4-4b82-a29f-b4aed0bb739e"
      },
      "source": [
        "downloader.get_hist_data(inst_tokens=token_list,inst_symbols=token_symbols)"
      ],
      "execution_count": 25,
      "outputs": [
        {
          "output_type": "error",
          "ename": "KeyboardInterrupt",
          "evalue": "ignored",
          "traceback": [
            "\u001b[0;31m---------------------------------------------------------------------------\u001b[0m",
            "\u001b[0;31mKeyboardInterrupt\u001b[0m                         Traceback (most recent call last)",
            "\u001b[0;32m<ipython-input-25-1017b5a8587b>\u001b[0m in \u001b[0;36m<module>\u001b[0;34m()\u001b[0m\n\u001b[0;32m----> 1\u001b[0;31m \u001b[0mdownloader\u001b[0m\u001b[0;34m.\u001b[0m\u001b[0mget_hist_data\u001b[0m\u001b[0;34m(\u001b[0m\u001b[0minst_tokens\u001b[0m\u001b[0;34m=\u001b[0m\u001b[0mtoken_list\u001b[0m\u001b[0;34m,\u001b[0m\u001b[0minst_symbols\u001b[0m\u001b[0;34m=\u001b[0m\u001b[0mtoken_symbols\u001b[0m\u001b[0;34m)\u001b[0m\u001b[0;34m\u001b[0m\u001b[0;34m\u001b[0m\u001b[0m\n\u001b[0m",
            "\u001b[0;32m/content/gdrive/My Drive//HedgeFund/MLFinance/src/kite_downloader.py\u001b[0m in \u001b[0;36mget_hist_data\u001b[0;34m(self, inst_tokens, inst_symbols, start_date, end_date, interval)\u001b[0m\n\u001b[1;32m     82\u001b[0m         \u001b[0mself\u001b[0m\u001b[0;34m.\u001b[0m\u001b[0mall_data\u001b[0m \u001b[0;34m=\u001b[0m \u001b[0;34m[\u001b[0m\u001b[0;34m]\u001b[0m\u001b[0;34m\u001b[0m\u001b[0;34m\u001b[0m\u001b[0m\n\u001b[1;32m     83\u001b[0m         \u001b[0;32mfor\u001b[0m \u001b[0msymbol\u001b[0m\u001b[0;34m,\u001b[0m\u001b[0mtoken\u001b[0m \u001b[0;32min\u001b[0m \u001b[0mzip\u001b[0m\u001b[0;34m(\u001b[0m\u001b[0minst_symbols\u001b[0m\u001b[0;34m,\u001b[0m\u001b[0minst_tokens\u001b[0m\u001b[0;34m)\u001b[0m\u001b[0;34m:\u001b[0m\u001b[0;34m\u001b[0m\u001b[0;34m\u001b[0m\u001b[0m\n\u001b[0;32m---> 84\u001b[0;31m             \u001b[0mtemp\u001b[0m \u001b[0;34m=\u001b[0m \u001b[0mself\u001b[0m\u001b[0;34m.\u001b[0m\u001b[0mdownload_data\u001b[0m\u001b[0;34m(\u001b[0m\u001b[0mtoken\u001b[0m\u001b[0;34m,\u001b[0m\u001b[0mfrom_date\u001b[0m\u001b[0;34m=\u001b[0m\u001b[0msd\u001b[0m\u001b[0;34m,\u001b[0m\u001b[0mto_date\u001b[0m\u001b[0;34m=\u001b[0m\u001b[0med\u001b[0m\u001b[0;34m,\u001b[0m\u001b[0minterval\u001b[0m\u001b[0;34m=\u001b[0m\u001b[0minterval\u001b[0m\u001b[0;34m)\u001b[0m\u001b[0;34m\u001b[0m\u001b[0;34m\u001b[0m\u001b[0m\n\u001b[0m\u001b[1;32m     85\u001b[0m             \u001b[0mself\u001b[0m\u001b[0;34m.\u001b[0m\u001b[0mall_data\u001b[0m\u001b[0;34m.\u001b[0m\u001b[0mappend\u001b[0m\u001b[0;34m(\u001b[0m\u001b[0;34m(\u001b[0m\u001b[0msymbol\u001b[0m\u001b[0;34m,\u001b[0m\u001b[0mtemp\u001b[0m\u001b[0;34m)\u001b[0m\u001b[0;34m)\u001b[0m\u001b[0;34m\u001b[0m\u001b[0;34m\u001b[0m\u001b[0m\n\u001b[1;32m     86\u001b[0m \u001b[0;34m\u001b[0m\u001b[0m\n",
            "\u001b[0;32m/content/gdrive/My Drive//HedgeFund/MLFinance/src/kite_downloader.py\u001b[0m in \u001b[0;36mdownload_data\u001b[0;34m(self, instrument_token, from_date, to_date, interval)\u001b[0m\n\u001b[1;32m     72\u001b[0m                 \u001b[0mtemp\u001b[0m\u001b[0;34m=\u001b[0m\u001b[0mtemp\u001b[0m\u001b[0;34m.\u001b[0m\u001b[0mappend\u001b[0m\u001b[0;34m(\u001b[0m\u001b[0mhist_df\u001b[0m\u001b[0;34m)\u001b[0m\u001b[0;34m\u001b[0m\u001b[0;34m\u001b[0m\u001b[0m\n\u001b[1;32m     73\u001b[0m         \u001b[0;32melse\u001b[0m\u001b[0;34m:\u001b[0m\u001b[0;34m\u001b[0m\u001b[0;34m\u001b[0m\u001b[0m\n\u001b[0;32m---> 74\u001b[0;31m             \u001b[0mhist\u001b[0m\u001b[0;34m=\u001b[0m\u001b[0mself\u001b[0m\u001b[0;34m.\u001b[0m\u001b[0mkite\u001b[0m\u001b[0;34m.\u001b[0m\u001b[0mhistorical_data\u001b[0m\u001b[0;34m(\u001b[0m\u001b[0minstrument_token\u001b[0m\u001b[0;34m,\u001b[0m\u001b[0mfrom_date\u001b[0m\u001b[0;34m=\u001b[0m\u001b[0mfrom_date\u001b[0m\u001b[0;34m,\u001b[0m\u001b[0mto_date\u001b[0m\u001b[0;34m=\u001b[0m\u001b[0mto_date\u001b[0m\u001b[0;34m,\u001b[0m\u001b[0minterval\u001b[0m\u001b[0;34m=\u001b[0m\u001b[0minterval\u001b[0m\u001b[0;34m)\u001b[0m\u001b[0;34m\u001b[0m\u001b[0;34m\u001b[0m\u001b[0m\n\u001b[0m\u001b[1;32m     75\u001b[0m         \u001b[0;32mif\u001b[0m \u001b[0mlen\u001b[0m\u001b[0;34m(\u001b[0m\u001b[0mhist\u001b[0m\u001b[0;34m)\u001b[0m\u001b[0;34m>\u001b[0m\u001b[0;36m0\u001b[0m\u001b[0;34m:\u001b[0m\u001b[0;34m\u001b[0m\u001b[0;34m\u001b[0m\u001b[0m\n\u001b[1;32m     76\u001b[0m             \u001b[0mtemp\u001b[0m \u001b[0;34m=\u001b[0m \u001b[0mself\u001b[0m\u001b[0;34m.\u001b[0m\u001b[0mconvert_to_df\u001b[0m\u001b[0;34m(\u001b[0m\u001b[0mhist\u001b[0m\u001b[0;34m)\u001b[0m\u001b[0;34m\u001b[0m\u001b[0;34m\u001b[0m\u001b[0m\n",
            "\u001b[0;32m/usr/local/lib/python3.6/dist-packages/kiteconnect/connect.py\u001b[0m in \u001b[0;36mhistorical_data\u001b[0;34m(self, instrument_token, from_date, to_date, interval, continuous, oi)\u001b[0m\n\u001b[1;32m    631\u001b[0m         })\n\u001b[1;32m    632\u001b[0m \u001b[0;34m\u001b[0m\u001b[0m\n\u001b[0;32m--> 633\u001b[0;31m         \u001b[0;32mreturn\u001b[0m \u001b[0mself\u001b[0m\u001b[0;34m.\u001b[0m\u001b[0m_format_historical\u001b[0m\u001b[0;34m(\u001b[0m\u001b[0mdata\u001b[0m\u001b[0;34m,\u001b[0m \u001b[0moi\u001b[0m\u001b[0;34m)\u001b[0m\u001b[0;34m\u001b[0m\u001b[0;34m\u001b[0m\u001b[0m\n\u001b[0m\u001b[1;32m    634\u001b[0m \u001b[0;34m\u001b[0m\u001b[0m\n\u001b[1;32m    635\u001b[0m     \u001b[0;32mdef\u001b[0m \u001b[0m_format_historical\u001b[0m\u001b[0;34m(\u001b[0m\u001b[0mself\u001b[0m\u001b[0;34m,\u001b[0m \u001b[0mdata\u001b[0m\u001b[0;34m,\u001b[0m \u001b[0moi\u001b[0m\u001b[0;34m)\u001b[0m\u001b[0;34m:\u001b[0m\u001b[0;34m\u001b[0m\u001b[0;34m\u001b[0m\u001b[0m\n",
            "\u001b[0;32m/usr/local/lib/python3.6/dist-packages/kiteconnect/connect.py\u001b[0m in \u001b[0;36m_format_historical\u001b[0;34m(self, data, oi)\u001b[0m\n\u001b[1;32m    635\u001b[0m     \u001b[0;32mdef\u001b[0m \u001b[0m_format_historical\u001b[0m\u001b[0;34m(\u001b[0m\u001b[0mself\u001b[0m\u001b[0;34m,\u001b[0m \u001b[0mdata\u001b[0m\u001b[0;34m,\u001b[0m \u001b[0moi\u001b[0m\u001b[0;34m)\u001b[0m\u001b[0;34m:\u001b[0m\u001b[0;34m\u001b[0m\u001b[0;34m\u001b[0m\u001b[0m\n\u001b[1;32m    636\u001b[0m         \u001b[0mrecords\u001b[0m \u001b[0;34m=\u001b[0m \u001b[0;34m[\u001b[0m\u001b[0;34m]\u001b[0m\u001b[0;34m\u001b[0m\u001b[0;34m\u001b[0m\u001b[0m\n\u001b[0;32m--> 637\u001b[0;31m         \u001b[0;32mfor\u001b[0m \u001b[0md\u001b[0m \u001b[0;32min\u001b[0m \u001b[0mdata\u001b[0m\u001b[0;34m[\u001b[0m\u001b[0;34m\"candles\"\u001b[0m\u001b[0;34m]\u001b[0m\u001b[0;34m:\u001b[0m\u001b[0;34m\u001b[0m\u001b[0;34m\u001b[0m\u001b[0m\n\u001b[0m\u001b[1;32m    638\u001b[0m             record = {\n\u001b[1;32m    639\u001b[0m                 \u001b[0;34m\"date\"\u001b[0m\u001b[0;34m:\u001b[0m \u001b[0mdateutil\u001b[0m\u001b[0;34m.\u001b[0m\u001b[0mparser\u001b[0m\u001b[0;34m.\u001b[0m\u001b[0mparse\u001b[0m\u001b[0;34m(\u001b[0m\u001b[0md\u001b[0m\u001b[0;34m[\u001b[0m\u001b[0;36m0\u001b[0m\u001b[0;34m]\u001b[0m\u001b[0;34m)\u001b[0m\u001b[0;34m,\u001b[0m\u001b[0;34m\u001b[0m\u001b[0;34m\u001b[0m\u001b[0m\n",
            "\u001b[0;31mKeyboardInterrupt\u001b[0m: "
          ]
        }
      ]
    },
    {
      "cell_type": "code",
      "metadata": {
        "id": "Icb15_l-YeNt",
        "colab_type": "code",
        "colab": {}
      },
      "source": [
        "hist_df = get_hist_data(kite,inst_tokens=token_list[:200])"
      ],
      "execution_count": 0,
      "outputs": []
    },
    {
      "cell_type": "code",
      "metadata": {
        "id": "S93jW5cqfJNs",
        "colab_type": "code",
        "colab": {
          "base_uri": "https://localhost:8080/",
          "height": 318
        },
        "outputId": "af720398-0aa8-4024-e40f-db7cd270b117"
      },
      "source": [
        "hist_df"
      ],
      "execution_count": 51,
      "outputs": [
        {
          "output_type": "execute_result",
          "data": {
            "text/plain": [
              "[Empty DataFrame\n",
              " Columns: []\n",
              " Index: [],\n",
              "                            date     open     high      low    close  volume\n",
              " 0     2019-01-01 09:15:00+05:30  2297.11  2297.11  2297.11  2297.11       0\n",
              " 1     2019-01-01 09:16:00+05:30  2297.11  2297.11  2297.11  2297.11       0\n",
              " 2     2019-01-01 09:17:00+05:30  2297.11  2297.11  2297.11  2297.11       0\n",
              " 3     2019-01-01 09:18:00+05:30  2297.11  2297.11  2297.11  2297.11       0\n",
              " 4     2019-01-01 09:19:00+05:30  2297.11  2297.11  2297.11  2297.11       0\n",
              " ...                         ...      ...      ...      ...      ...     ...\n",
              " 16120 2019-02-28 15:25:00+05:30  2297.11  2297.11  2297.11  2297.11       0\n",
              " 16121 2019-02-28 15:26:00+05:30  2297.11  2297.11  2297.11  2297.11       0\n",
              " 16122 2019-02-28 15:27:00+05:30  2297.11  2297.11  2297.11  2297.11       0\n",
              " 16123 2019-02-28 15:28:00+05:30  2297.11  2297.11  2297.11  2297.11       0\n",
              " 16124 2019-02-28 15:29:00+05:30  2297.11  2297.11  2297.11  2297.11       0\n",
              " \n",
              " [16125 rows x 6 columns]]"
            ]
          },
          "metadata": {
            "tags": []
          },
          "execution_count": 51
        }
      ]
    },
    {
      "cell_type": "code",
      "metadata": {
        "id": "Fe_One7kf3Jq",
        "colab_type": "code",
        "colab": {}
      },
      "source": [
        "kite.historical_data(token_list[-1],from_date=sd,to_date=ed,interval=\"minute\")"
      ],
      "execution_count": 0,
      "outputs": []
    },
    {
      "cell_type": "code",
      "metadata": {
        "id": "I7WXeNtQgM8A",
        "colab_type": "code",
        "colab": {
          "base_uri": "https://localhost:8080/",
          "height": 34
        },
        "outputId": "cdb4988a-b91b-46fd-bc40-352f3c475f78"
      },
      "source": [
        "token_symbols[0]"
      ],
      "execution_count": 41,
      "outputs": [
        {
          "output_type": "execute_result",
          "data": {
            "text/plain": [
              "'CPSE INDEX'"
            ]
          },
          "metadata": {
            "tags": []
          },
          "execution_count": 41
        }
      ]
    },
    {
      "cell_type": "code",
      "metadata": {
        "id": "6kc52BVngX-h",
        "colab_type": "code",
        "colab": {
          "base_uri": "https://localhost:8080/",
          "height": 34
        },
        "outputId": "e39b4ea9-81ba-4f18-97b1-bd98f0af36cf"
      },
      "source": [
        "token_symbols[-1]"
      ],
      "execution_count": 42,
      "outputs": [
        {
          "output_type": "execute_result",
          "data": {
            "text/plain": [
              "'ZYDUSWELL'"
            ]
          },
          "metadata": {
            "tags": []
          },
          "execution_count": 42
        }
      ]
    },
    {
      "cell_type": "code",
      "metadata": {
        "id": "aqiUCHwagd4o",
        "colab_type": "code",
        "colab": {}
      },
      "source": [
        "get_volume_bars"
      ],
      "execution_count": 0,
      "outputs": []
    }
  ]
}