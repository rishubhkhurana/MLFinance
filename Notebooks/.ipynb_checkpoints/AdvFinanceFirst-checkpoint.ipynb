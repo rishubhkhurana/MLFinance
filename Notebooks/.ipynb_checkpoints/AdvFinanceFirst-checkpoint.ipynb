{
 "cells": [
  {
   "cell_type": "markdown",
   "metadata": {},
   "source": [
    "## First Notebook \n"
   ]
  },
  {
   "cell_type": "markdown",
   "metadata": {},
   "source": [
    "1. Importing financial trading data.\n",
    "\n",
    "2. Summarize the data's key characteristics\n",
    "\n",
    "3. Hypothesize some ideas/insights that could be derived from this data\n",
    "\n",
    "4. Identify Data cleaning strategies\n",
    "\n",
    "5. Clean Data \n",
    "\n",
    "6. Visualize Data\n",
    "\n"
   ]
  },
  {
   "cell_type": "markdown",
   "metadata": {},
   "source": [
    "### Importing Libs"
   ]
  },
  {
   "cell_type": "code",
   "execution_count": 91,
   "metadata": {},
   "outputs": [
    {
     "name": "stderr",
     "output_type": "stream",
     "text": [
      "DEBUG:matplotlib.pyplot:Loaded backend module://ipykernel.pylab.backend_inline version unknown.\n"
     ]
    },
    {
     "name": "stdout",
     "output_type": "stream",
     "text": [
      "The autoreload extension is already loaded. To reload it, use:\n",
      "  %reload_ext autoreload\n"
     ]
    }
   ],
   "source": [
    "%load_ext autoreload\n",
    "%autoreload 2\n",
    "%matplotlib inline"
   ]
  },
  {
   "cell_type": "code",
   "execution_count": 92,
   "metadata": {},
   "outputs": [],
   "source": [
    "## path of mlfin lab-- Siddharth to change this variable only \n",
    "mlfinpath = 'C:/Study/HedgeFund/mlfinlab'\n",
    "ourpath = \"C:/Study/HedgeFund/MLFinance/src\""
   ]
  },
  {
   "cell_type": "code",
   "execution_count": 93,
   "metadata": {},
   "outputs": [],
   "source": [
    "import sys\n",
    "sys.path.append(mlfinpath)\n",
    "sys.path.append(ourpath)\n",
    "import numpy as np\n",
    "from pathlib import Path\n",
    "import pandas as pd\n",
    "import datetime \n",
    "import logging\n",
    "from kiteconnect import KiteConnect\n",
    "from collections import defaultdict\n",
    "import re\n",
    "from kite_downloader import *"
   ]
  },
  {
   "cell_type": "code",
   "execution_count": 4,
   "metadata": {},
   "outputs": [],
   "source": [
    "Path.ls = lambda x: list(x.iterdir())"
   ]
  },
  {
   "cell_type": "code",
   "execution_count": 87,
   "metadata": {},
   "outputs": [],
   "source": [
    "from mlfinlab.datasets import *\n",
    "from mlfinlab.data_structures import *"
   ]
  },
  {
   "cell_type": "markdown",
   "metadata": {},
   "source": [
    "### Reading different data  samples\n",
    "From Mlfinlab"
   ]
  },
  {
   "cell_type": "code",
   "execution_count": null,
   "metadata": {},
   "outputs": [],
   "source": [
    "tick_df =  load_tick_sample()\n",
    "stocks_df = load_stock_prices()\n",
    "dol_df = load_dollar_bar_sample()"
   ]
  },
  {
   "cell_type": "code",
   "execution_count": null,
   "metadata": {},
   "outputs": [],
   "source": [
    "tick_df.shape,stocks_df.shape,dol_df.shape"
   ]
  },
  {
   "cell_type": "code",
   "execution_count": null,
   "metadata": {},
   "outputs": [],
   "source": [
    "tick_df.head(10)"
   ]
  },
  {
   "cell_type": "code",
   "execution_count": null,
   "metadata": {},
   "outputs": [],
   "source": [
    "tick_res_df=tick_df.reset_index()"
   ]
  },
  {
   "cell_type": "markdown",
   "metadata": {},
   "source": [
    "When working with our own data, we need to either those datasets within data folder of mlfinlan datasets or create a new library using their code as starter code"
   ]
  },
  {
   "cell_type": "markdown",
   "metadata": {},
   "source": [
    "### Reading Bitcoin Datasets"
   ]
  },
  {
   "cell_type": "code",
   "execution_count": 178,
   "metadata": {},
   "outputs": [],
   "source": [
    "datapath = Path('C:/Study/HedgeFund/datasets/')"
   ]
  },
  {
   "cell_type": "code",
   "execution_count": 179,
   "metadata": {},
   "outputs": [
    {
     "data": {
      "text/plain": [
       "[WindowsPath('C:/Study/HedgeFund/datasets/bitstampUSD.csv'),\n",
       " WindowsPath('C:/Study/HedgeFund/datasets/coinbaseUSD.csv'),\n",
       " WindowsPath('C:/Study/HedgeFund/datasets/nifty_fno.csv')]"
      ]
     },
     "execution_count": 179,
     "metadata": {},
     "output_type": "execute_result"
    }
   ],
   "source": [
    "datapath.ls()"
   ]
  },
  {
   "cell_type": "code",
   "execution_count": 180,
   "metadata": {},
   "outputs": [],
   "source": [
    "dfs = []\n",
    "for dpath in bitcoinpath.ls():\n",
    "    dfs.append(pd.read_csv(dpath))"
   ]
  },
  {
   "cell_type": "code",
   "execution_count": 181,
   "metadata": {
    "collapsed": true,
    "jupyter": {
     "outputs_hidden": true
    }
   },
   "outputs": [
    {
     "name": "stdout",
     "output_type": "stream",
     "text": [
      "Data:bitstampUSD\n",
      "Shape of Dataset:(4363457, 8)\n",
      "Columns of Dataset:Index(['Timestamp', 'Open', 'High', 'Low', 'Close', 'Volume_(BTC)',\n",
      "       'Volume_(Currency)', 'Weighted_Price'],\n",
      "      dtype='object')\n",
      "\n",
      "    Timestamp  Open  High   Low  Close  Volume_(BTC)  Volume_(Currency)  \\\n",
      "0  1325317920  4.39  4.39  4.39   4.39      0.455581                2.0   \n",
      "1  1325317980   NaN   NaN   NaN    NaN           NaN                NaN   \n",
      "2  1325318040   NaN   NaN   NaN    NaN           NaN                NaN   \n",
      "3  1325318100   NaN   NaN   NaN    NaN           NaN                NaN   \n",
      "4  1325318160   NaN   NaN   NaN    NaN           NaN                NaN   \n",
      "\n",
      "   Weighted_Price  \n",
      "0            4.39  \n",
      "1             NaN  \n",
      "2             NaN  \n",
      "3             NaN  \n",
      "4             NaN  \n",
      "##########################################################\n",
      "\n",
      "Data:coinbaseUSD\n",
      "Shape of Dataset:(2099760, 8)\n",
      "Columns of Dataset:Index(['Timestamp', 'Open', 'High', 'Low', 'Close', 'Volume_(BTC)',\n",
      "       'Volume_(Currency)', 'Weighted_Price'],\n",
      "      dtype='object')\n",
      "\n",
      "    Timestamp   Open   High    Low  Close  Volume_(BTC)  Volume_(Currency)  \\\n",
      "0  1417411980  300.0  300.0  300.0  300.0          0.01                3.0   \n",
      "1  1417412040    NaN    NaN    NaN    NaN           NaN                NaN   \n",
      "2  1417412100    NaN    NaN    NaN    NaN           NaN                NaN   \n",
      "3  1417412160    NaN    NaN    NaN    NaN           NaN                NaN   \n",
      "4  1417412220    NaN    NaN    NaN    NaN           NaN                NaN   \n",
      "\n",
      "   Weighted_Price  \n",
      "0           300.0  \n",
      "1             NaN  \n",
      "2             NaN  \n",
      "3             NaN  \n",
      "4             NaN  \n",
      "##########################################################\n",
      "\n",
      "Data:nifty_fno\n",
      "Shape of Dataset:(1200, 32)\n",
      "Columns of Dataset:Index(['Date', 'Open', 'High', 'Low', 'Close', 'Shares Traded',\n",
      "       'Turnover (Rs. Cr)', 'Client Type', 'Future Index Long',\n",
      "       'Future Index Short', 'Future Stock Long', 'Future Stock Short',\n",
      "       'Future Stock Short\\t', 'Future Stock Short       ',\n",
      "       'Option Index Call Long', 'Option Index Call Short',\n",
      "       'Option Index Put Long', 'Option Index Put Short',\n",
      "       'Option Stock Call Long', 'Option Stock Call Short',\n",
      "       'Option Stock Put Long', 'Option Stock Put Short',\n",
      "       'Total Long Contracts', 'Total Long Contracts\\t',\n",
      "       'Total Short Contracts', 'Year', 'Month', 'Week', 'Weekday',\n",
      "       'Exp_week_Thru', 'Monthly_Exp_End', 'Monthly_Exp_Start'],\n",
      "      dtype='object')\n",
      "\n",
      "       Date      Open     High      Low    Close  Shares Traded  \\\n",
      "0  3/1/2019  10842.65  10877.9  10823.1  10863.5      308526309   \n",
      "1  3/1/2019  10842.65  10877.9  10823.1  10863.5      308526309   \n",
      "2  3/1/2019  10842.65  10877.9  10823.1  10863.5      308526309   \n",
      "3  3/1/2019  10842.65  10877.9  10823.1  10863.5      308526309   \n",
      "4  3/1/2019  10842.65  10877.9  10823.1  10863.5      308526309   \n",
      "\n",
      "   Turnover (Rs. Cr) Client Type Future Index Long Future Index Short  ...  \\\n",
      "0           15010.06      Client            119973             120351  ...   \n",
      "1           15010.06         DII             34987              16040  ...   \n",
      "2           15010.06         FII            101041              95690  ...   \n",
      "3           15010.06         Pro             16940              40860  ...   \n",
      "4           15010.06       TOTAL            272941             272941  ...   \n",
      "\n",
      "  Total Long Contracts  Total Long Contracts\\t Total Short Contracts  Year  \\\n",
      "0            1812495.0                     NaN               1585145  2019   \n",
      "1             177034.0                     NaN                946340  2019   \n",
      "2            1471546.0                     NaN                821038  2019   \n",
      "3             479894.0                     NaN                588446  2019   \n",
      "4            3940969.0                     NaN               3940969  2019   \n",
      "\n",
      "  Month Week Weekday Exp_week_Thru Monthly_Exp_End Monthly_Exp_Start  \n",
      "0     3    9  Friday      3/7/2019       3/28/2019         3/29/2019  \n",
      "1     3    9  Friday      3/7/2019       3/28/2019         3/29/2019  \n",
      "2     3    9  Friday      3/7/2019       3/28/2019         3/29/2019  \n",
      "3     3    9  Friday      3/7/2019       3/28/2019         3/29/2019  \n",
      "4     3    9  Friday      3/7/2019       3/28/2019         3/29/2019  \n",
      "\n",
      "[5 rows x 32 columns]\n",
      "##########################################################\n",
      "\n"
     ]
    }
   ],
   "source": [
    "## printing the data stats \n",
    "for df,name in zip(dfs,bitcoinpath.ls()):\n",
    "    print(f\"Data:{name.name.split('.')[0]}\")\n",
    "    print(f\"Shape of Dataset:{df.shape}\")\n",
    "    print(f\"Columns of Dataset:{df.columns}\\n\")\n",
    "    print(f\"{df.head(5)}\")\n",
    "    print(\"##########################################################\\n\")"
   ]
  },
  {
   "cell_type": "markdown",
   "metadata": {},
   "source": [
    "The dataset seems unclean. We need to get rid of NaN values before doing any meaninful analysis"
   ]
  },
  {
   "cell_type": "code",
   "execution_count": 167,
   "metadata": {},
   "outputs": [],
   "source": [
    "for df in dfs:\n",
    "    df.dropna(inplace=True)"
   ]
  },
  {
   "cell_type": "code",
   "execution_count": 168,
   "metadata": {},
   "outputs": [],
   "source": [
    "cond=True\n",
    "previous = 0\n",
    "while cond:\n",
    "    dfs[1]=dfs[1][dfs[1]['Timestamp'].diff()==60.0].dropna()\n",
    "    sum_break = sum(dfs[1]['Timestamp'].diff()!=60.0)\n",
    "    if sum_break==0:\n",
    "        cond=False\n",
    "    elif sum_break==previous:\n",
    "        break\n",
    "    else:\n",
    "        previous = sum_break\n",
    "    "
   ]
  },
  {
   "cell_type": "markdown",
   "metadata": {},
   "source": [
    "### Create Demo Data Structures \n",
    "Their Data structure only works with tick by tick with assumption that first columns is date, second is price and third is volume "
   ]
  },
  {
   "cell_type": "code",
   "execution_count": 59,
   "metadata": {},
   "outputs": [
    {
     "name": "stdout",
     "output_type": "stream",
     "text": [
      "Reading data in batches:\n",
      "Batch number: 0\n",
      "Returning bars \n",
      "\n"
     ]
    }
   ],
   "source": [
    "time_df = get_time_bars(tick_df.reset_index(),resolution='S',num_units=5)"
   ]
  },
  {
   "cell_type": "markdown",
   "metadata": {},
   "source": [
    "### Kite data reading "
   ]
  },
  {
   "cell_type": "code",
   "execution_count": 6,
   "metadata": {},
   "outputs": [],
   "source": [
    "logging.basicConfig(level=logging.DEBUG)\n",
    "kite = KiteConnect(api_key=\"mbr5webseydvztcr\")"
   ]
  },
  {
   "cell_type": "code",
   "execution_count": 7,
   "metadata": {},
   "outputs": [],
   "source": [
    "url=kite.login_url()"
   ]
  },
  {
   "cell_type": "code",
   "execution_count": 8,
   "metadata": {},
   "outputs": [
    {
     "data": {
      "text/plain": [
       "'https://kite.trade/connect/login?api_key=mbr5webseydvztcr&v=3'"
      ]
     },
     "execution_count": 8,
     "metadata": {},
     "output_type": "execute_result"
    }
   ],
   "source": [
    "url"
   ]
  },
  {
   "cell_type": "code",
   "execution_count": 10,
   "metadata": {},
   "outputs": [
    {
     "name": "stderr",
     "output_type": "stream",
     "text": [
      "DEBUG:urllib3.connectionpool:Starting new HTTPS connection (1): api.kite.trade:443\n",
      "DEBUG:urllib3.connectionpool:https://api.kite.trade:443 \"POST /session/token HTTP/1.1\" 200 None\n"
     ]
    }
   ],
   "source": [
    "data = kite.generate_session(\"gM2pSUL88NGL4rKG4F9w57rjL7N7RCNd\", api_secret=\"53y7l441279l6m66j12sd8fpxn0ltmce\")"
   ]
  },
  {
   "cell_type": "code",
   "execution_count": 11,
   "metadata": {},
   "outputs": [],
   "source": [
    "kite.set_access_token(data[\"access_token\"])"
   ]
  },
  {
   "cell_type": "markdown",
   "metadata": {},
   "source": [
    "### Getting Instruments from Kite "
   ]
  },
  {
   "cell_type": "code",
   "execution_count": 94,
   "metadata": {},
   "outputs": [
    {
     "name": "stderr",
     "output_type": "stream",
     "text": [
      "DEBUG:urllib3.connectionpool:Starting new HTTPS connection (1): api.kite.trade:443\n",
      "DEBUG:urllib3.connectionpool:https://api.kite.trade:443 \"GET /instruments HTTP/1.1\" 200 4957273\n"
     ]
    }
   ],
   "source": [
    "ins_df = get_available_instruments(kite)"
   ]
  },
  {
   "cell_type": "code",
   "execution_count": 95,
   "metadata": {},
   "outputs": [
    {
     "data": {
      "text/plain": [
       "(63304, 12)"
      ]
     },
     "execution_count": 95,
     "metadata": {},
     "output_type": "execute_result"
    }
   ],
   "source": [
    "ins_df.shape"
   ]
  },
  {
   "cell_type": "markdown",
   "metadata": {},
   "source": [
    "There are 63304 instruments being traded in kite for which we could query the data-- 1min "
   ]
  },
  {
   "cell_type": "code",
   "execution_count": 96,
   "metadata": {},
   "outputs": [
    {
     "data": {
      "text/plain": [
       "CE     23395\n",
       "PE     23229\n",
       "EQ     15976\n",
       "FUT      704\n",
       "Name: instrument_type, dtype: int64"
      ]
     },
     "execution_count": 96,
     "metadata": {},
     "output_type": "execute_result"
    }
   ],
   "source": [
    "ins_df.instrument_type.value_counts()"
   ]
  },
  {
   "cell_type": "markdown",
   "metadata": {},
   "source": [
    "There seems to four types of instruments -- CE,PE,EQ,FUT"
   ]
  },
  {
   "cell_type": "code",
   "execution_count": 97,
   "metadata": {},
   "outputs": [],
   "source": [
    "ins_token = get_instrument_token(ins_df,re.compile(r'ICICI.*NIFTY\\s+ETF'))"
   ]
  },
  {
   "cell_type": "code",
   "execution_count": 98,
   "metadata": {},
   "outputs": [
    {
     "data": {
      "text/plain": [
       "array([137473796,   7565569], dtype=int64)"
      ]
     },
     "execution_count": 98,
     "metadata": {},
     "output_type": "execute_result"
    }
   ],
   "source": [
    "ins_token"
   ]
  },
  {
   "cell_type": "code",
   "execution_count": 79,
   "metadata": {
    "collapsed": true,
    "jupyter": {
     "outputs_hidden": true
    }
   },
   "outputs": [
    {
     "name": "stderr",
     "output_type": "stream",
     "text": [
      "DEBUG:urllib3.connectionpool:Starting new HTTPS connection (1): api.kite.trade:443\n",
      "DEBUG:urllib3.connectionpool:https://api.kite.trade:443 \"GET /instruments/historical/137473796/minute?instrument_token=137473796&from=2019-01-01+00%3A00%3A00&to=2019-03-02+00%3A00%3A00&interval=minute&continuous=0&oi=0 HTTP/1.1\" 200 90767\n",
      "DEBUG:urllib3.connectionpool:Starting new HTTPS connection (1): api.kite.trade:443\n",
      "DEBUG:urllib3.connectionpool:https://api.kite.trade:443 \"GET /instruments/historical/137473796/minute?instrument_token=137473796&from=2019-03-02+00%3A00%3A00&to=2019-05-01+00%3A00%3A00&interval=minute&continuous=0&oi=0 HTTP/1.1\" 200 86424\n",
      "DEBUG:urllib3.connectionpool:Starting new HTTPS connection (1): api.kite.trade:443\n",
      "DEBUG:urllib3.connectionpool:https://api.kite.trade:443 \"GET /instruments/historical/137473796/minute?instrument_token=137473796&from=2019-05-01+00%3A00%3A00&to=2019-06-30+00%3A00%3A00&interval=minute&continuous=0&oi=0 HTTP/1.1\" 200 107869\n",
      "DEBUG:urllib3.connectionpool:Starting new HTTPS connection (1): api.kite.trade:443\n",
      "DEBUG:urllib3.connectionpool:https://api.kite.trade:443 \"GET /instruments/historical/137473796/minute?instrument_token=137473796&from=2019-06-30+00%3A00%3A00&to=2019-08-29+00%3A00%3A00&interval=minute&continuous=0&oi=0 HTTP/1.1\" 200 109152\n",
      "DEBUG:urllib3.connectionpool:Starting new HTTPS connection (1): api.kite.trade:443\n",
      "DEBUG:urllib3.connectionpool:https://api.kite.trade:443 \"GET /instruments/historical/137473796/minute?instrument_token=137473796&from=2019-08-29+00%3A00%3A00&to=2019-10-28+00%3A00%3A00&interval=minute&continuous=0&oi=0 HTTP/1.1\" 200 90284\n",
      "DEBUG:urllib3.connectionpool:Starting new HTTPS connection (1): api.kite.trade:443\n",
      "DEBUG:urllib3.connectionpool:https://api.kite.trade:443 \"GET /instruments/historical/137473796/minute?instrument_token=137473796&from=2019-10-28+00%3A00%3A00&to=2019-12-27+00%3A00%3A00&interval=minute&continuous=0&oi=0 HTTP/1.1\" 200 98312\n",
      "DEBUG:urllib3.connectionpool:Starting new HTTPS connection (1): api.kite.trade:443\n",
      "DEBUG:urllib3.connectionpool:https://api.kite.trade:443 \"GET /instruments/historical/137473796/minute?instrument_token=137473796&from=2019-12-27+00%3A00%3A00&to=2020-02-25+00%3A00%3A00&interval=minute&continuous=0&oi=0 HTTP/1.1\" 200 100354\n"
     ]
    }
   ],
   "source": [
    "hist_df = get_hist_data(kite,instrument_token=ins_token[0])"
   ]
  },
  {
   "cell_type": "code",
   "execution_count": 99,
   "metadata": {},
   "outputs": [
    {
     "data": {
      "text/html": [
       "<div>\n",
       "<style scoped>\n",
       "    .dataframe tbody tr th:only-of-type {\n",
       "        vertical-align: middle;\n",
       "    }\n",
       "\n",
       "    .dataframe tbody tr th {\n",
       "        vertical-align: top;\n",
       "    }\n",
       "\n",
       "    .dataframe thead th {\n",
       "        text-align: right;\n",
       "    }\n",
       "</style>\n",
       "<table border=\"1\" class=\"dataframe\">\n",
       "  <thead>\n",
       "    <tr style=\"text-align: right;\">\n",
       "      <th></th>\n",
       "      <th>date</th>\n",
       "      <th>open</th>\n",
       "      <th>high</th>\n",
       "      <th>low</th>\n",
       "      <th>close</th>\n",
       "      <th>volume</th>\n",
       "    </tr>\n",
       "  </thead>\n",
       "  <tbody>\n",
       "    <tr>\n",
       "      <th>0</th>\n",
       "      <td>2019-01-01 09:15:00+05:30</td>\n",
       "      <td>112.00</td>\n",
       "      <td>112.00</td>\n",
       "      <td>112.00</td>\n",
       "      <td>112.00</td>\n",
       "      <td>28</td>\n",
       "    </tr>\n",
       "    <tr>\n",
       "      <th>1</th>\n",
       "      <td>2019-01-01 09:17:00+05:30</td>\n",
       "      <td>112.86</td>\n",
       "      <td>112.90</td>\n",
       "      <td>112.86</td>\n",
       "      <td>112.90</td>\n",
       "      <td>212</td>\n",
       "    </tr>\n",
       "    <tr>\n",
       "      <th>2</th>\n",
       "      <td>2019-01-01 09:18:00+05:30</td>\n",
       "      <td>112.90</td>\n",
       "      <td>112.90</td>\n",
       "      <td>112.90</td>\n",
       "      <td>112.90</td>\n",
       "      <td>0</td>\n",
       "    </tr>\n",
       "    <tr>\n",
       "      <th>3</th>\n",
       "      <td>2019-01-01 09:19:00+05:30</td>\n",
       "      <td>112.90</td>\n",
       "      <td>112.90</td>\n",
       "      <td>112.90</td>\n",
       "      <td>112.90</td>\n",
       "      <td>0</td>\n",
       "    </tr>\n",
       "    <tr>\n",
       "      <th>4</th>\n",
       "      <td>2019-01-01 09:20:00+05:30</td>\n",
       "      <td>112.90</td>\n",
       "      <td>112.95</td>\n",
       "      <td>112.90</td>\n",
       "      <td>112.95</td>\n",
       "      <td>2412</td>\n",
       "    </tr>\n",
       "  </tbody>\n",
       "</table>\n",
       "</div>"
      ],
      "text/plain": [
       "                       date    open    high     low   close  volume\n",
       "0 2019-01-01 09:15:00+05:30  112.00  112.00  112.00  112.00      28\n",
       "1 2019-01-01 09:17:00+05:30  112.86  112.90  112.86  112.90     212\n",
       "2 2019-01-01 09:18:00+05:30  112.90  112.90  112.90  112.90       0\n",
       "3 2019-01-01 09:19:00+05:30  112.90  112.90  112.90  112.90       0\n",
       "4 2019-01-01 09:20:00+05:30  112.90  112.95  112.90  112.95    2412"
      ]
     },
     "execution_count": 99,
     "metadata": {},
     "output_type": "execute_result"
    }
   ],
   "source": [
    "hist_df.head()"
   ]
  },
  {
   "cell_type": "code",
   "execution_count": 81,
   "metadata": {},
   "outputs": [
    {
     "data": {
      "text/plain": [
       "(96869, 6)"
      ]
     },
     "execution_count": 81,
     "metadata": {},
     "output_type": "execute_result"
    }
   ],
   "source": [
    "hist_df.shape"
   ]
  },
  {
   "cell_type": "markdown",
   "metadata": {},
   "source": [
    "### Extracting Different bars \n",
    "\n",
    "1. Information tick bar \n",
    "\n",
    "2. Information volume bar\n",
    "\n",
    "3. Information dollar bar"
   ]
  },
  {
   "cell_type": "code",
   "execution_count": 101,
   "metadata": {},
   "outputs": [],
   "source": [
    "hist_df  = hist_df[['date','close','volume']]"
   ]
  },
  {
   "cell_type": "code",
   "execution_count": 103,
   "metadata": {},
   "outputs": [
    {
     "data": {
      "text/plain": [
       "(96869, 3)"
      ]
     },
     "execution_count": 103,
     "metadata": {},
     "output_type": "execute_result"
    }
   ],
   "source": [
    "hist_df.shape"
   ]
  },
  {
   "cell_type": "code",
   "execution_count": 127,
   "metadata": {},
   "outputs": [
    {
     "name": "stdout",
     "output_type": "stream",
     "text": [
      "Reading data in batches:\n",
      "Batch number: 0\n"
     ]
    },
    {
     "name": "stderr",
     "output_type": "stream",
     "text": [
      "C:/Study/HedgeFund/mlfinlab\\mlfinlab\\data_structures\\base_bars.py:388: RuntimeWarning: invalid value encountered in greater\n",
      "  self.thresholds['expected_imbalance']):\n"
     ]
    },
    {
     "name": "stdout",
     "output_type": "stream",
     "text": [
      "Returning bars \n",
      "\n"
     ]
    }
   ],
   "source": [
    "hist_vol_IB = get_ema_volume_imbalance_bars(hist_df,num_prev_bars=10,expected_imbalance_window=100,exp_num_ticks_init=100)"
   ]
  },
  {
   "cell_type": "code",
   "execution_count": 128,
   "metadata": {},
   "outputs": [
    {
     "data": {
      "text/html": [
       "<div>\n",
       "<style scoped>\n",
       "    .dataframe tbody tr th:only-of-type {\n",
       "        vertical-align: middle;\n",
       "    }\n",
       "\n",
       "    .dataframe tbody tr th {\n",
       "        vertical-align: top;\n",
       "    }\n",
       "\n",
       "    .dataframe thead th {\n",
       "        text-align: right;\n",
       "    }\n",
       "</style>\n",
       "<table border=\"1\" class=\"dataframe\">\n",
       "  <thead>\n",
       "    <tr style=\"text-align: right;\">\n",
       "      <th></th>\n",
       "      <th>date_time</th>\n",
       "      <th>tick_num</th>\n",
       "      <th>open</th>\n",
       "      <th>high</th>\n",
       "      <th>low</th>\n",
       "      <th>close</th>\n",
       "      <th>volume</th>\n",
       "      <th>cum_buy_volume</th>\n",
       "      <th>cum_ticks</th>\n",
       "      <th>cum_dollar_value</th>\n",
       "    </tr>\n",
       "  </thead>\n",
       "  <tbody>\n",
       "    <tr>\n",
       "      <th>0</th>\n",
       "      <td>2019-01-01 11:21:00+05:30</td>\n",
       "      <td>100</td>\n",
       "      <td>112.00</td>\n",
       "      <td>112.95</td>\n",
       "      <td>112.00</td>\n",
       "      <td>112.95</td>\n",
       "      <td>3769</td>\n",
       "      <td>2820</td>\n",
       "      <td>100</td>\n",
       "      <td>4.252174e+05</td>\n",
       "    </tr>\n",
       "    <tr>\n",
       "      <th>1</th>\n",
       "      <td>2019-01-01 13:57:00+05:30</td>\n",
       "      <td>166</td>\n",
       "      <td>112.95</td>\n",
       "      <td>112.95</td>\n",
       "      <td>112.25</td>\n",
       "      <td>112.30</td>\n",
       "      <td>1911</td>\n",
       "      <td>262</td>\n",
       "      <td>66</td>\n",
       "      <td>2.147435e+05</td>\n",
       "    </tr>\n",
       "    <tr>\n",
       "      <th>2</th>\n",
       "      <td>2019-01-07 09:16:00+05:30</td>\n",
       "      <td>1181</td>\n",
       "      <td>112.30</td>\n",
       "      <td>113.40</td>\n",
       "      <td>110.43</td>\n",
       "      <td>112.00</td>\n",
       "      <td>10647</td>\n",
       "      <td>6493</td>\n",
       "      <td>1015</td>\n",
       "      <td>1.190057e+06</td>\n",
       "    </tr>\n",
       "    <tr>\n",
       "      <th>3</th>\n",
       "      <td>2019-01-11 15:24:00+05:30</td>\n",
       "      <td>2501</td>\n",
       "      <td>112.00</td>\n",
       "      <td>113.14</td>\n",
       "      <td>111.00</td>\n",
       "      <td>112.50</td>\n",
       "      <td>22123</td>\n",
       "      <td>15207</td>\n",
       "      <td>1320</td>\n",
       "      <td>2.485669e+06</td>\n",
       "    </tr>\n",
       "    <tr>\n",
       "      <th>4</th>\n",
       "      <td>2019-09-23 09:16:00+05:30</td>\n",
       "      <td>58274</td>\n",
       "      <td>112.70</td>\n",
       "      <td>138.55</td>\n",
       "      <td>110.00</td>\n",
       "      <td>122.90</td>\n",
       "      <td>1410368</td>\n",
       "      <td>801159</td>\n",
       "      <td>55773</td>\n",
       "      <td>1.670109e+08</td>\n",
       "    </tr>\n",
       "  </tbody>\n",
       "</table>\n",
       "</div>"
      ],
      "text/plain": [
       "                  date_time  tick_num    open    high     low   close  \\\n",
       "0 2019-01-01 11:21:00+05:30       100  112.00  112.95  112.00  112.95   \n",
       "1 2019-01-01 13:57:00+05:30       166  112.95  112.95  112.25  112.30   \n",
       "2 2019-01-07 09:16:00+05:30      1181  112.30  113.40  110.43  112.00   \n",
       "3 2019-01-11 15:24:00+05:30      2501  112.00  113.14  111.00  112.50   \n",
       "4 2019-09-23 09:16:00+05:30     58274  112.70  138.55  110.00  122.90   \n",
       "\n",
       "    volume  cum_buy_volume  cum_ticks  cum_dollar_value  \n",
       "0     3769            2820        100      4.252174e+05  \n",
       "1     1911             262         66      2.147435e+05  \n",
       "2    10647            6493       1015      1.190057e+06  \n",
       "3    22123           15207       1320      2.485669e+06  \n",
       "4  1410368          801159      55773      1.670109e+08  "
      ]
     },
     "execution_count": 128,
     "metadata": {},
     "output_type": "execute_result"
    }
   ],
   "source": [
    "hist_vol_IB[0]"
   ]
  },
  {
   "cell_type": "code",
   "execution_count": 130,
   "metadata": {},
   "outputs": [
    {
     "name": "stdout",
     "output_type": "stream",
     "text": [
      "Reading data in batches:\n",
      "Batch number: 0\n",
      "Returning bars \n",
      "\n"
     ]
    }
   ],
   "source": [
    "hist_dol_IB = get_ema_dollar_imbalance_bars(hist_df,num_prev_bars=10,expected_imbalance_window=100,exp_num_ticks_init=100)"
   ]
  },
  {
   "cell_type": "code",
   "execution_count": 132,
   "metadata": {},
   "outputs": [
    {
     "data": {
      "text/html": [
       "<div>\n",
       "<style scoped>\n",
       "    .dataframe tbody tr th:only-of-type {\n",
       "        vertical-align: middle;\n",
       "    }\n",
       "\n",
       "    .dataframe tbody tr th {\n",
       "        vertical-align: top;\n",
       "    }\n",
       "\n",
       "    .dataframe thead th {\n",
       "        text-align: right;\n",
       "    }\n",
       "</style>\n",
       "<table border=\"1\" class=\"dataframe\">\n",
       "  <thead>\n",
       "    <tr style=\"text-align: right;\">\n",
       "      <th></th>\n",
       "      <th>date_time</th>\n",
       "      <th>tick_num</th>\n",
       "      <th>open</th>\n",
       "      <th>high</th>\n",
       "      <th>low</th>\n",
       "      <th>close</th>\n",
       "      <th>volume</th>\n",
       "      <th>cum_buy_volume</th>\n",
       "      <th>cum_ticks</th>\n",
       "      <th>cum_dollar_value</th>\n",
       "    </tr>\n",
       "  </thead>\n",
       "  <tbody>\n",
       "    <tr>\n",
       "      <th>0</th>\n",
       "      <td>2019-01-01 11:21:00+05:30</td>\n",
       "      <td>100</td>\n",
       "      <td>112.00</td>\n",
       "      <td>112.95</td>\n",
       "      <td>112.00</td>\n",
       "      <td>112.95</td>\n",
       "      <td>3769</td>\n",
       "      <td>2820</td>\n",
       "      <td>100</td>\n",
       "      <td>4.252174e+05</td>\n",
       "    </tr>\n",
       "    <tr>\n",
       "      <th>1</th>\n",
       "      <td>2019-01-01 13:57:00+05:30</td>\n",
       "      <td>166</td>\n",
       "      <td>112.95</td>\n",
       "      <td>112.95</td>\n",
       "      <td>112.25</td>\n",
       "      <td>112.30</td>\n",
       "      <td>1911</td>\n",
       "      <td>262</td>\n",
       "      <td>66</td>\n",
       "      <td>2.147435e+05</td>\n",
       "    </tr>\n",
       "    <tr>\n",
       "      <th>2</th>\n",
       "      <td>2019-01-07 09:16:00+05:30</td>\n",
       "      <td>1181</td>\n",
       "      <td>112.30</td>\n",
       "      <td>113.40</td>\n",
       "      <td>110.43</td>\n",
       "      <td>112.00</td>\n",
       "      <td>10647</td>\n",
       "      <td>6493</td>\n",
       "      <td>1015</td>\n",
       "      <td>1.190057e+06</td>\n",
       "    </tr>\n",
       "    <tr>\n",
       "      <th>3</th>\n",
       "      <td>2019-01-11 15:24:00+05:30</td>\n",
       "      <td>2501</td>\n",
       "      <td>112.00</td>\n",
       "      <td>113.14</td>\n",
       "      <td>111.00</td>\n",
       "      <td>112.50</td>\n",
       "      <td>22123</td>\n",
       "      <td>15207</td>\n",
       "      <td>1320</td>\n",
       "      <td>2.485669e+06</td>\n",
       "    </tr>\n",
       "    <tr>\n",
       "      <th>4</th>\n",
       "      <td>2019-09-23 09:16:00+05:30</td>\n",
       "      <td>58274</td>\n",
       "      <td>112.70</td>\n",
       "      <td>138.55</td>\n",
       "      <td>110.00</td>\n",
       "      <td>122.90</td>\n",
       "      <td>1410368</td>\n",
       "      <td>801159</td>\n",
       "      <td>55773</td>\n",
       "      <td>1.670109e+08</td>\n",
       "    </tr>\n",
       "  </tbody>\n",
       "</table>\n",
       "</div>"
      ],
      "text/plain": [
       "                  date_time  tick_num    open    high     low   close  \\\n",
       "0 2019-01-01 11:21:00+05:30       100  112.00  112.95  112.00  112.95   \n",
       "1 2019-01-01 13:57:00+05:30       166  112.95  112.95  112.25  112.30   \n",
       "2 2019-01-07 09:16:00+05:30      1181  112.30  113.40  110.43  112.00   \n",
       "3 2019-01-11 15:24:00+05:30      2501  112.00  113.14  111.00  112.50   \n",
       "4 2019-09-23 09:16:00+05:30     58274  112.70  138.55  110.00  122.90   \n",
       "\n",
       "    volume  cum_buy_volume  cum_ticks  cum_dollar_value  \n",
       "0     3769            2820        100      4.252174e+05  \n",
       "1     1911             262         66      2.147435e+05  \n",
       "2    10647            6493       1015      1.190057e+06  \n",
       "3    22123           15207       1320      2.485669e+06  \n",
       "4  1410368          801159      55773      1.670109e+08  "
      ]
     },
     "execution_count": 132,
     "metadata": {},
     "output_type": "execute_result"
    }
   ],
   "source": [
    "hist_dol_IB[0]"
   ]
  },
  {
   "cell_type": "code",
   "execution_count": null,
   "metadata": {},
   "outputs": [],
   "source": []
  }
 ],
 "metadata": {
  "kernelspec": {
   "display_name": "Python 3",
   "language": "python",
   "name": "python3"
  },
  "language_info": {
   "codemirror_mode": {
    "name": "ipython",
    "version": 3
   },
   "file_extension": ".py",
   "mimetype": "text/x-python",
   "name": "python",
   "nbconvert_exporter": "python",
   "pygments_lexer": "ipython3",
   "version": "3.6.10"
  }
 },
 "nbformat": 4,
 "nbformat_minor": 4
}
