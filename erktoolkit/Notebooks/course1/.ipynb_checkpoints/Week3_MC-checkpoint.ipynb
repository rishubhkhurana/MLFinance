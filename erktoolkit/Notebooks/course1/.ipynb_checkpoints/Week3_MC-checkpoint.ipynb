{
 "cells": [
  {
   "cell_type": "markdown",
   "metadata": {},
   "source": [
    "### Week 4 "
   ]
  },
  {
   "cell_type": "markdown",
   "metadata": {},
   "source": [
    "Random Walk for the stocks--\n",
    "\n",
    "With constant drift and volatility\n",
    "$$\\frac{dS_t}{S_t} = (r + \\sqrt{V}\\lambda) dt + \\sigma \\sqrt{dt}dW$$\n",
    "$$\\frac{dB_t}{B_t} = r dt$$\n",
    "\n",
    "With mean reversion in mean returns and volatility,\n",
    "$$dr_t = a(b-r_t) dt + \\sigma_rdW_r$$\n",
    "$$dr_t = c(d-V_t) dt + \\sigma_v\\sqrt{dV_t}dW_r$$"
   ]
  },
  {
   "cell_type": "markdown",
   "metadata": {},
   "source": [
    "### Importing Libs"
   ]
  },
  {
   "cell_type": "code",
   "execution_count": 2,
   "metadata": {
    "ExecuteTime": {
     "end_time": "2020-05-31T15:33:27.410353Z",
     "start_time": "2020-05-31T15:33:27.288630Z"
    }
   },
   "outputs": [
    {
     "name": "stdout",
     "output_type": "stream",
     "text": [
      "The autoreload extension is already loaded. To reload it, use:\n",
      "  %reload_ext autoreload\n"
     ]
    }
   ],
   "source": [
    "%matplotlib inline\n",
    "%load_ext autoreload\n",
    "%autoreload 2"
   ]
  },
  {
   "cell_type": "code",
   "execution_count": 6,
   "metadata": {
    "ExecuteTime": {
     "end_time": "2020-05-31T15:34:15.823359Z",
     "start_time": "2020-05-31T15:34:15.711381Z"
    }
   },
   "outputs": [],
   "source": [
    "erkpath = 'C:/Study/HedgeFund/MLFinance/erktoolkit'"
   ]
  },
  {
   "cell_type": "code",
   "execution_count": 7,
   "metadata": {
    "ExecuteTime": {
     "end_time": "2020-05-31T15:34:16.071410Z",
     "start_time": "2020-05-31T15:34:15.949270Z"
    }
   },
   "outputs": [],
   "source": [
    "import sys\n",
    "sys.path.append(erkpath)"
   ]
  },
  {
   "cell_type": "code",
   "execution_count": 8,
   "metadata": {
    "ExecuteTime": {
     "end_time": "2020-05-31T15:34:17.700253Z",
     "start_time": "2020-05-31T15:34:16.196660Z"
    }
   },
   "outputs": [
    {
     "ename": "IndentationError",
     "evalue": "unindent does not match any outer indentation level (dataloader.py, line 97)",
     "output_type": "error",
     "traceback": [
      "Traceback \u001b[1;36m(most recent call last)\u001b[0m:\n",
      "  File \u001b[0;32m\"C:\\Users\\rishkhur\\AppData\\Local\\Continuum\\anaconda3\\envs\\mlfin\\lib\\site-packages\\IPython\\core\\interactiveshell.py\"\u001b[0m, line \u001b[0;32m3331\u001b[0m, in \u001b[0;35mrun_code\u001b[0m\n    exec(code_obj, self.user_global_ns, self.user_ns)\n",
      "  File \u001b[0;32m\"<ipython-input-8-3d5def93dd34>\"\u001b[0m, line \u001b[0;32m1\u001b[0m, in \u001b[0;35m<module>\u001b[0m\n    from erk import *\n",
      "\u001b[1;36m  File \u001b[1;32m\"C:/Study/HedgeFund/MLFinance/erktoolkit\\erk\\__init__.py\"\u001b[1;36m, line \u001b[1;32m4\u001b[1;36m, in \u001b[1;35m<module>\u001b[1;36m\u001b[0m\n\u001b[1;33m    from .dataloader import *\u001b[0m\n",
      "\u001b[1;36m  File \u001b[1;32m\"C:/Study/HedgeFund/MLFinance/erktoolkit\\erk\\dataloader.py\"\u001b[1;36m, line \u001b[1;32m97\u001b[0m\n\u001b[1;33m    def get_total_market_index_returns(datapath=''):\u001b[0m\n\u001b[1;37m                                                    ^\u001b[0m\n\u001b[1;31mIndentationError\u001b[0m\u001b[1;31m:\u001b[0m unindent does not match any outer indentation level\n"
     ]
    }
   ],
   "source": [
    "from erk import *"
   ]
  },
  {
   "cell_type": "code",
   "execution_count": null,
   "metadata": {},
   "outputs": [],
   "source": []
  }
 ],
 "metadata": {
  "kernelspec": {
   "display_name": "Python 3",
   "language": "python",
   "name": "python3"
  },
  "language_info": {
   "codemirror_mode": {
    "name": "ipython",
    "version": 3
   },
   "file_extension": ".py",
   "mimetype": "text/x-python",
   "name": "python",
   "nbconvert_exporter": "python",
   "pygments_lexer": "ipython3",
   "version": "3.6.10"
  }
 },
 "nbformat": 4,
 "nbformat_minor": 4
}
