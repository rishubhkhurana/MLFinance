{
 "cells": [
  {
   "cell_type": "markdown",
   "metadata": {
    "heading_collapsed": true
   },
   "source": [
    "### importing libs "
   ]
  },
  {
   "cell_type": "code",
   "execution_count": 1,
   "metadata": {
    "hidden": true
   },
   "outputs": [],
   "source": [
    "%load_ext autoreload\n",
    "%autoreload 2\n",
    "%matplotlib inline"
   ]
  },
  {
   "cell_type": "code",
   "execution_count": 2,
   "metadata": {
    "hidden": true
   },
   "outputs": [],
   "source": [
    "import pandas as pd\n",
    "import numpy as np\n",
    "from scipy.optimize import minimize\n",
    "import re\n",
    "import datetime\n",
    "from scipy.stats import norm\n",
    "import matplotlib.pyplot as plt"
   ]
  },
  {
   "cell_type": "code",
   "execution_count": 3,
   "metadata": {
    "hidden": true
   },
   "outputs": [
    {
     "name": "stdout",
     "output_type": "stream",
     "text": [
      "/mnt/c/Study/CourseraFin/notebooks_and_codem01_v02\n"
     ]
    }
   ],
   "source": [
    "%cd ../"
   ]
  },
  {
   "cell_type": "code",
   "execution_count": 4,
   "metadata": {
    "hidden": true
   },
   "outputs": [],
   "source": [
    "datapath = \"data\""
   ]
  },
  {
   "cell_type": "code",
   "execution_count": 5,
   "metadata": {
    "hidden": true
   },
   "outputs": [
    {
     "name": "stdout",
     "output_type": "stream",
     "text": [
      "BRK-A.csv\t\t\t\tind30_m_nfirms.csv\r\n",
      "F-F_Research_Data_Factors.CSV\t\tind30_m_size.csv\r\n",
      "F-F_Research_Data_Factors_daily.CSV\tind30_m_vw_rets.csv\r\n",
      "F-F_Research_Data_Factors_m.csv\t\tind49_m_ew_rets.csv\r\n",
      "Portfolios_Formed_on_ME_monthly_EW.csv\tind49_m_nfirms.csv\r\n",
      "brka_d_ret.csv\t\t\t\tind49_m_size.csv\r\n",
      "edhec-hedgefundindices.csv\t\tind49_m_vw_rets.csv\r\n",
      "ind30_m_ew_rets.csv\t\t\tsample_prices.csv\r\n"
     ]
    }
   ],
   "source": [
    "!ls {datapath}"
   ]
  },
  {
   "cell_type": "markdown",
   "metadata": {},
   "source": [
    "### Reading data EDHEC hedge fund data"
   ]
  },
  {
   "cell_type": "code",
   "execution_count": 6,
   "metadata": {},
   "outputs": [],
   "source": [
    "data = pd.read_csv(datapath+'/edhec-hedgefundindices.csv',header=0,parse_dates=True,index_col=['date'])"
   ]
  },
  {
   "cell_type": "code",
   "execution_count": 7,
   "metadata": {},
   "outputs": [],
   "source": [
    "data.index = data.index.to_period('M')"
   ]
  },
  {
   "cell_type": "code",
   "execution_count": 8,
   "metadata": {},
   "outputs": [
    {
     "data": {
      "text/html": [
       "<div>\n",
       "<style scoped>\n",
       "    .dataframe tbody tr th:only-of-type {\n",
       "        vertical-align: middle;\n",
       "    }\n",
       "\n",
       "    .dataframe tbody tr th {\n",
       "        vertical-align: top;\n",
       "    }\n",
       "\n",
       "    .dataframe thead th {\n",
       "        text-align: right;\n",
       "    }\n",
       "</style>\n",
       "<table border=\"1\" class=\"dataframe\">\n",
       "  <thead>\n",
       "    <tr style=\"text-align: right;\">\n",
       "      <th></th>\n",
       "      <th>Convertible Arbitrage</th>\n",
       "      <th>CTA Global</th>\n",
       "      <th>Distressed Securities</th>\n",
       "      <th>Emerging Markets</th>\n",
       "      <th>Equity Market Neutral</th>\n",
       "      <th>Event Driven</th>\n",
       "      <th>Fixed Income Arbitrage</th>\n",
       "      <th>Global Macro</th>\n",
       "      <th>Long/Short Equity</th>\n",
       "      <th>Merger Arbitrage</th>\n",
       "      <th>Relative Value</th>\n",
       "      <th>Short Selling</th>\n",
       "      <th>Funds Of Funds</th>\n",
       "    </tr>\n",
       "    <tr>\n",
       "      <th>date</th>\n",
       "      <th></th>\n",
       "      <th></th>\n",
       "      <th></th>\n",
       "      <th></th>\n",
       "      <th></th>\n",
       "      <th></th>\n",
       "      <th></th>\n",
       "      <th></th>\n",
       "      <th></th>\n",
       "      <th></th>\n",
       "      <th></th>\n",
       "      <th></th>\n",
       "      <th></th>\n",
       "    </tr>\n",
       "  </thead>\n",
       "  <tbody>\n",
       "    <tr>\n",
       "      <th>1997-01</th>\n",
       "      <td>1.19</td>\n",
       "      <td>3.93</td>\n",
       "      <td>1.78</td>\n",
       "      <td>7.91</td>\n",
       "      <td>1.89</td>\n",
       "      <td>2.13</td>\n",
       "      <td>1.91</td>\n",
       "      <td>5.73</td>\n",
       "      <td>2.81</td>\n",
       "      <td>1.50</td>\n",
       "      <td>1.80</td>\n",
       "      <td>-1.66</td>\n",
       "      <td>3.17</td>\n",
       "    </tr>\n",
       "    <tr>\n",
       "      <th>1997-02</th>\n",
       "      <td>1.23</td>\n",
       "      <td>2.98</td>\n",
       "      <td>1.22</td>\n",
       "      <td>5.25</td>\n",
       "      <td>1.01</td>\n",
       "      <td>0.84</td>\n",
       "      <td>1.22</td>\n",
       "      <td>1.75</td>\n",
       "      <td>-0.06</td>\n",
       "      <td>0.34</td>\n",
       "      <td>1.18</td>\n",
       "      <td>4.26</td>\n",
       "      <td>1.06</td>\n",
       "    </tr>\n",
       "    <tr>\n",
       "      <th>1997-03</th>\n",
       "      <td>0.78</td>\n",
       "      <td>-0.21</td>\n",
       "      <td>-0.12</td>\n",
       "      <td>-1.20</td>\n",
       "      <td>0.16</td>\n",
       "      <td>-0.23</td>\n",
       "      <td>1.09</td>\n",
       "      <td>-1.19</td>\n",
       "      <td>-0.84</td>\n",
       "      <td>0.60</td>\n",
       "      <td>0.10</td>\n",
       "      <td>7.78</td>\n",
       "      <td>-0.77</td>\n",
       "    </tr>\n",
       "    <tr>\n",
       "      <th>1997-04</th>\n",
       "      <td>0.86</td>\n",
       "      <td>-1.70</td>\n",
       "      <td>0.30</td>\n",
       "      <td>1.19</td>\n",
       "      <td>1.19</td>\n",
       "      <td>-0.05</td>\n",
       "      <td>1.30</td>\n",
       "      <td>1.72</td>\n",
       "      <td>0.84</td>\n",
       "      <td>-0.01</td>\n",
       "      <td>1.22</td>\n",
       "      <td>-1.29</td>\n",
       "      <td>0.09</td>\n",
       "    </tr>\n",
       "    <tr>\n",
       "      <th>1997-05</th>\n",
       "      <td>1.56</td>\n",
       "      <td>-0.15</td>\n",
       "      <td>2.33</td>\n",
       "      <td>3.15</td>\n",
       "      <td>1.89</td>\n",
       "      <td>3.46</td>\n",
       "      <td>1.18</td>\n",
       "      <td>1.08</td>\n",
       "      <td>3.94</td>\n",
       "      <td>1.97</td>\n",
       "      <td>1.73</td>\n",
       "      <td>-7.37</td>\n",
       "      <td>2.75</td>\n",
       "    </tr>\n",
       "  </tbody>\n",
       "</table>\n",
       "</div>"
      ],
      "text/plain": [
       "         Convertible Arbitrage  CTA Global  Distressed Securities  \\\n",
       "date                                                                \n",
       "1997-01                   1.19        3.93                   1.78   \n",
       "1997-02                   1.23        2.98                   1.22   \n",
       "1997-03                   0.78       -0.21                  -0.12   \n",
       "1997-04                   0.86       -1.70                   0.30   \n",
       "1997-05                   1.56       -0.15                   2.33   \n",
       "\n",
       "         Emerging Markets  Equity Market Neutral  Event Driven  \\\n",
       "date                                                             \n",
       "1997-01              7.91                   1.89          2.13   \n",
       "1997-02              5.25                   1.01          0.84   \n",
       "1997-03             -1.20                   0.16         -0.23   \n",
       "1997-04              1.19                   1.19         -0.05   \n",
       "1997-05              3.15                   1.89          3.46   \n",
       "\n",
       "         Fixed Income Arbitrage  Global Macro  Long/Short Equity  \\\n",
       "date                                                               \n",
       "1997-01                    1.91          5.73               2.81   \n",
       "1997-02                    1.22          1.75              -0.06   \n",
       "1997-03                    1.09         -1.19              -0.84   \n",
       "1997-04                    1.30          1.72               0.84   \n",
       "1997-05                    1.18          1.08               3.94   \n",
       "\n",
       "         Merger Arbitrage  Relative Value  Short Selling  Funds Of Funds  \n",
       "date                                                                      \n",
       "1997-01              1.50            1.80          -1.66            3.17  \n",
       "1997-02              0.34            1.18           4.26            1.06  \n",
       "1997-03              0.60            0.10           7.78           -0.77  \n",
       "1997-04             -0.01            1.22          -1.29            0.09  \n",
       "1997-05              1.97            1.73          -7.37            2.75  "
      ]
     },
     "execution_count": 8,
     "metadata": {},
     "output_type": "execute_result"
    }
   ],
   "source": [
    "data.head()"
   ]
  },
  {
   "cell_type": "code",
   "execution_count": 9,
   "metadata": {},
   "outputs": [],
   "source": [
    "# converting from percentages to real number\n",
    "data = data/100."
   ]
  },
  {
   "cell_type": "code",
   "execution_count": 10,
   "metadata": {},
   "outputs": [
    {
     "data": {
      "text/html": [
       "<div>\n",
       "<style scoped>\n",
       "    .dataframe tbody tr th:only-of-type {\n",
       "        vertical-align: middle;\n",
       "    }\n",
       "\n",
       "    .dataframe tbody tr th {\n",
       "        vertical-align: top;\n",
       "    }\n",
       "\n",
       "    .dataframe thead th {\n",
       "        text-align: right;\n",
       "    }\n",
       "</style>\n",
       "<table border=\"1\" class=\"dataframe\">\n",
       "  <thead>\n",
       "    <tr style=\"text-align: right;\">\n",
       "      <th></th>\n",
       "      <th>Convertible Arbitrage</th>\n",
       "      <th>CTA Global</th>\n",
       "      <th>Distressed Securities</th>\n",
       "      <th>Emerging Markets</th>\n",
       "      <th>Equity Market Neutral</th>\n",
       "      <th>Event Driven</th>\n",
       "      <th>Fixed Income Arbitrage</th>\n",
       "      <th>Global Macro</th>\n",
       "      <th>Long/Short Equity</th>\n",
       "      <th>Merger Arbitrage</th>\n",
       "      <th>Relative Value</th>\n",
       "      <th>Short Selling</th>\n",
       "      <th>Funds Of Funds</th>\n",
       "    </tr>\n",
       "    <tr>\n",
       "      <th>date</th>\n",
       "      <th></th>\n",
       "      <th></th>\n",
       "      <th></th>\n",
       "      <th></th>\n",
       "      <th></th>\n",
       "      <th></th>\n",
       "      <th></th>\n",
       "      <th></th>\n",
       "      <th></th>\n",
       "      <th></th>\n",
       "      <th></th>\n",
       "      <th></th>\n",
       "      <th></th>\n",
       "    </tr>\n",
       "  </thead>\n",
       "  <tbody>\n",
       "    <tr>\n",
       "      <th>1997-01</th>\n",
       "      <td>0.0119</td>\n",
       "      <td>0.0393</td>\n",
       "      <td>0.0178</td>\n",
       "      <td>0.0791</td>\n",
       "      <td>0.0189</td>\n",
       "      <td>0.0213</td>\n",
       "      <td>0.0191</td>\n",
       "      <td>0.0573</td>\n",
       "      <td>0.0281</td>\n",
       "      <td>0.0150</td>\n",
       "      <td>0.0180</td>\n",
       "      <td>-0.0166</td>\n",
       "      <td>0.0317</td>\n",
       "    </tr>\n",
       "    <tr>\n",
       "      <th>1997-02</th>\n",
       "      <td>0.0123</td>\n",
       "      <td>0.0298</td>\n",
       "      <td>0.0122</td>\n",
       "      <td>0.0525</td>\n",
       "      <td>0.0101</td>\n",
       "      <td>0.0084</td>\n",
       "      <td>0.0122</td>\n",
       "      <td>0.0175</td>\n",
       "      <td>-0.0006</td>\n",
       "      <td>0.0034</td>\n",
       "      <td>0.0118</td>\n",
       "      <td>0.0426</td>\n",
       "      <td>0.0106</td>\n",
       "    </tr>\n",
       "    <tr>\n",
       "      <th>1997-03</th>\n",
       "      <td>0.0078</td>\n",
       "      <td>-0.0021</td>\n",
       "      <td>-0.0012</td>\n",
       "      <td>-0.0120</td>\n",
       "      <td>0.0016</td>\n",
       "      <td>-0.0023</td>\n",
       "      <td>0.0109</td>\n",
       "      <td>-0.0119</td>\n",
       "      <td>-0.0084</td>\n",
       "      <td>0.0060</td>\n",
       "      <td>0.0010</td>\n",
       "      <td>0.0778</td>\n",
       "      <td>-0.0077</td>\n",
       "    </tr>\n",
       "    <tr>\n",
       "      <th>1997-04</th>\n",
       "      <td>0.0086</td>\n",
       "      <td>-0.0170</td>\n",
       "      <td>0.0030</td>\n",
       "      <td>0.0119</td>\n",
       "      <td>0.0119</td>\n",
       "      <td>-0.0005</td>\n",
       "      <td>0.0130</td>\n",
       "      <td>0.0172</td>\n",
       "      <td>0.0084</td>\n",
       "      <td>-0.0001</td>\n",
       "      <td>0.0122</td>\n",
       "      <td>-0.0129</td>\n",
       "      <td>0.0009</td>\n",
       "    </tr>\n",
       "    <tr>\n",
       "      <th>1997-05</th>\n",
       "      <td>0.0156</td>\n",
       "      <td>-0.0015</td>\n",
       "      <td>0.0233</td>\n",
       "      <td>0.0315</td>\n",
       "      <td>0.0189</td>\n",
       "      <td>0.0346</td>\n",
       "      <td>0.0118</td>\n",
       "      <td>0.0108</td>\n",
       "      <td>0.0394</td>\n",
       "      <td>0.0197</td>\n",
       "      <td>0.0173</td>\n",
       "      <td>-0.0737</td>\n",
       "      <td>0.0275</td>\n",
       "    </tr>\n",
       "  </tbody>\n",
       "</table>\n",
       "</div>"
      ],
      "text/plain": [
       "         Convertible Arbitrage  CTA Global  Distressed Securities  \\\n",
       "date                                                                \n",
       "1997-01                 0.0119      0.0393                 0.0178   \n",
       "1997-02                 0.0123      0.0298                 0.0122   \n",
       "1997-03                 0.0078     -0.0021                -0.0012   \n",
       "1997-04                 0.0086     -0.0170                 0.0030   \n",
       "1997-05                 0.0156     -0.0015                 0.0233   \n",
       "\n",
       "         Emerging Markets  Equity Market Neutral  Event Driven  \\\n",
       "date                                                             \n",
       "1997-01            0.0791                 0.0189        0.0213   \n",
       "1997-02            0.0525                 0.0101        0.0084   \n",
       "1997-03           -0.0120                 0.0016       -0.0023   \n",
       "1997-04            0.0119                 0.0119       -0.0005   \n",
       "1997-05            0.0315                 0.0189        0.0346   \n",
       "\n",
       "         Fixed Income Arbitrage  Global Macro  Long/Short Equity  \\\n",
       "date                                                               \n",
       "1997-01                  0.0191        0.0573             0.0281   \n",
       "1997-02                  0.0122        0.0175            -0.0006   \n",
       "1997-03                  0.0109       -0.0119            -0.0084   \n",
       "1997-04                  0.0130        0.0172             0.0084   \n",
       "1997-05                  0.0118        0.0108             0.0394   \n",
       "\n",
       "         Merger Arbitrage  Relative Value  Short Selling  Funds Of Funds  \n",
       "date                                                                      \n",
       "1997-01            0.0150          0.0180        -0.0166          0.0317  \n",
       "1997-02            0.0034          0.0118         0.0426          0.0106  \n",
       "1997-03            0.0060          0.0010         0.0778         -0.0077  \n",
       "1997-04           -0.0001          0.0122        -0.0129          0.0009  \n",
       "1997-05            0.0197          0.0173        -0.0737          0.0275  "
      ]
     },
     "execution_count": 10,
     "metadata": {},
     "output_type": "execute_result"
    }
   ],
   "source": [
    "data.head()"
   ]
  },
  {
   "cell_type": "code",
   "execution_count": 11,
   "metadata": {},
   "outputs": [],
   "source": [
    "def skewness(ser):\n",
    "    s = ser.std(ddof=0)\n",
    "    m = ser.mean()\n",
    "    return ((ser-m)**3).mean()/s**3"
   ]
  },
  {
   "cell_type": "code",
   "execution_count": 12,
   "metadata": {},
   "outputs": [],
   "source": [
    "def kurtosis(ser):\n",
    "    s = ser.std(ddof=0)\n",
    "    m = ser.mean()\n",
    "    return ((ser-m)**4).mean()/s**4"
   ]
  },
  {
   "cell_type": "code",
   "execution_count": 13,
   "metadata": {},
   "outputs": [],
   "source": [
    "def calculate_gauss_var(ser,qvar=0.01,modified=False):\n",
    "    if isinstance(ser,pd.DataFrame):\n",
    "        return ser.aggregate(calculate_gauss_var,modified=modified)\n",
    "    elif isinstance(ser,pd.Series):\n",
    "        z = norm.ppf(qvar)\n",
    "        if not modified:\n",
    "            return -(ser.mean()+z*ser.std(ddof=0))\n",
    "        else:\n",
    "            s,k = skewness(ser),kurtosis(ser)\n",
    "            z = (z +\n",
    "                (z**2 - 1)*s/6 +\n",
    "                (z**3 -3*z)*(k-3)/24 -\n",
    "                (2*z**3 - 5*z)*(s**2)/36)\n",
    "            return -(ser.mean()+z*ser.std(ddof=0))\n",
    "            "
   ]
  },
  {
   "cell_type": "code",
   "execution_count": 14,
   "metadata": {},
   "outputs": [
    {
     "data": {
      "text/plain": [
       "Convertible Arbitrage     0.034845\n",
       "CTA Global                0.050336\n",
       "Distressed Securities     0.031430\n",
       "Emerging Markets          0.058070\n",
       "Equity Market Neutral     0.014772\n",
       "Event Driven              0.030853\n",
       "Fixed Income Arbitrage    0.019519\n",
       "Global Macro              0.024619\n",
       "Long/Short Equity         0.039420\n",
       "Merger Arbitrage          0.015355\n",
       "Relative Value            0.021605\n",
       "Short Selling             0.102130\n",
       "Funds Of Funds            0.029385\n",
       "dtype: float64"
      ]
     },
     "execution_count": 14,
     "metadata": {},
     "output_type": "execute_result"
    }
   ],
   "source": [
    "calculate_gauss_var(data[\"2000\":])"
   ]
  },
  {
   "cell_type": "code",
   "execution_count": 15,
   "metadata": {},
   "outputs": [
    {
     "data": {
      "text/plain": [
       "Convertible Arbitrage     0.103666\n",
       "CTA Global                0.046643\n",
       "Distressed Securities     0.049669\n",
       "Emerging Markets          0.086796\n",
       "Equity Market Neutral     0.041432\n",
       "Event Driven              0.045732\n",
       "Fixed Income Arbitrage    0.066479\n",
       "Global Macro              0.022786\n",
       "Long/Short Equity         0.051381\n",
       "Merger Arbitrage          0.021282\n",
       "Relative Value            0.048985\n",
       "Short Selling             0.098323\n",
       "Funds Of Funds            0.048793\n",
       "dtype: float64"
      ]
     },
     "execution_count": 15,
     "metadata": {},
     "output_type": "execute_result"
    }
   ],
   "source": [
    "calculate_gauss_var(data[\"2000\":],modified=True)"
   ]
  },
  {
   "cell_type": "code",
   "execution_count": 16,
   "metadata": {},
   "outputs": [],
   "source": [
    "def calculate_historic_var(data,qvar=0.01):\n",
    "    if isinstance(data,pd.DataFrame):\n",
    "        return data.aggregate(calculate_historic_var,qvar=qvar)\n",
    "    else:\n",
    "        return -np.quantile(data,qvar)"
   ]
  },
  {
   "cell_type": "code",
   "execution_count": 17,
   "metadata": {},
   "outputs": [
    {
     "data": {
      "text/plain": [
       "Convertible Arbitrage     0.031674\n",
       "CTA Global                0.050938\n",
       "Distressed Securities     0.042642\n",
       "Emerging Markets          0.065496\n",
       "Equity Market Neutral     0.019800\n",
       "Event Driven              0.038540\n",
       "Fixed Income Arbitrage    0.030748\n",
       "Global Macro              0.022632\n",
       "Long/Short Equity         0.045060\n",
       "Merger Arbitrage          0.022654\n",
       "Relative Value            0.021788\n",
       "Short Selling             0.107684\n",
       "Funds Of Funds            0.027200\n",
       "dtype: float64"
      ]
     },
     "execution_count": 17,
     "metadata": {},
     "output_type": "execute_result"
    }
   ],
   "source": [
    "calculate_historic_var(data[\"2000\":])"
   ]
  },
  {
   "cell_type": "markdown",
   "metadata": {},
   "source": [
    "### Industrial data "
   ]
  },
  {
   "cell_type": "code",
   "execution_count": 18,
   "metadata": {},
   "outputs": [
    {
     "name": "stdout",
     "output_type": "stream",
     "text": [
      "BRK-A.csv\t\t\t\tind30_m_nfirms.csv\r\n",
      "F-F_Research_Data_Factors.CSV\t\tind30_m_size.csv\r\n",
      "F-F_Research_Data_Factors_daily.CSV\tind30_m_vw_rets.csv\r\n",
      "F-F_Research_Data_Factors_m.csv\t\tind49_m_ew_rets.csv\r\n",
      "Portfolios_Formed_on_ME_monthly_EW.csv\tind49_m_nfirms.csv\r\n",
      "brka_d_ret.csv\t\t\t\tind49_m_size.csv\r\n",
      "edhec-hedgefundindices.csv\t\tind49_m_vw_rets.csv\r\n",
      "ind30_m_ew_rets.csv\t\t\tsample_prices.csv\r\n"
     ]
    }
   ],
   "source": [
    "!ls {datapath}"
   ]
  },
  {
   "cell_type": "code",
   "execution_count": 19,
   "metadata": {},
   "outputs": [],
   "source": [
    "import sys"
   ]
  },
  {
   "cell_type": "code",
   "execution_count": 167,
   "metadata": {},
   "outputs": [],
   "source": [
    "sys.path.append('./')"
   ]
  },
  {
   "cell_type": "code",
   "execution_count": 168,
   "metadata": {},
   "outputs": [],
   "source": [
    "ind_data = pd.read_csv(\"data/ind30_m_vw_rets.csv\",index_col=0,header=0)"
   ]
  },
  {
   "cell_type": "code",
   "execution_count": 169,
   "metadata": {},
   "outputs": [],
   "source": [
    "ind_data.index = pd.to_datetime(ind_data.index,format=\"%Y%m\").to_period('M')"
   ]
  },
  {
   "cell_type": "code",
   "execution_count": 170,
   "metadata": {},
   "outputs": [],
   "source": [
    "ind_data.columns = ind_data.columns.str.strip()"
   ]
  },
  {
   "cell_type": "code",
   "execution_count": 171,
   "metadata": {},
   "outputs": [],
   "source": [
    "ind_data=ind_data[\"2013\":\"2017\"]"
   ]
  },
  {
   "cell_type": "code",
   "execution_count": 172,
   "metadata": {},
   "outputs": [],
   "source": [
    "assets = [\"Books\",\"Steel\",\"Oil\",\"Mines\"]"
   ]
  },
  {
   "cell_type": "code",
   "execution_count": 173,
   "metadata": {},
   "outputs": [],
   "source": [
    "def annualize_returns(s,periods_per_year=12):\n",
    "    if isinstance(s,pd.DataFrame):\n",
    "        return s.aggregate(annualize_returns)\n",
    "    else:\n",
    "        cp = (s/100+1).prod()\n",
    "        N = s.shape[0]\n",
    "        return 100*(cp**(periods_per_year/N)-1)"
   ]
  },
  {
   "cell_type": "code",
   "execution_count": 174,
   "metadata": {},
   "outputs": [],
   "source": [
    "er = annualize_returns(ind_data)\n",
    "cov = ind_data.cov()"
   ]
  },
  {
   "cell_type": "code",
   "execution_count": 175,
   "metadata": {},
   "outputs": [],
   "source": [
    "def calc_vol(weights,cov):\n",
    "    return np.sqrt((weights.T@cov)@weights)"
   ]
  },
  {
   "cell_type": "code",
   "execution_count": 176,
   "metadata": {},
   "outputs": [],
   "source": [
    "def optimal_portfolio(target_ret,er,cov):\n",
    "    n = cov.shape[0]\n",
    "    initial_guess = np.array([1./n]*n)\n",
    "    bounds=((0.,1.),)*n\n",
    "    def calc_rets(w,er,target_ret):\n",
    "        return np.dot(w,er)-target_ret\n",
    "    met_target = {\n",
    "        'type':'eq',\n",
    "        'fun': calc_rets,\n",
    "        'args':(er,target_ret)\n",
    "    }\n",
    "    weight_norm={\n",
    "        'type':'eq',\n",
    "        'fun': lambda x: sum(x)-1.\n",
    "    }\n",
    "    results = minimize(calc_vol,initial_guess,args=(cov,),bounds=bounds,constraints=[met_target,weight_norm],options={'disp':False},method='SLSQP')\n",
    "    return results.x"
   ]
  },
  {
   "cell_type": "code",
   "execution_count": 177,
   "metadata": {},
   "outputs": [],
   "source": [
    "def efficient_frontier(er,cov,n_points=20):\n",
    "    rets = np.linspace(er.min(),er.max(),n_points)\n",
    "    weights=[]\n",
    "    for r in rets:\n",
    "        weights.append(optimal_portfolio(r,er,cov))\n",
    "    weights=np.stack(weights)\n",
    "    expected_rets = weights@er\n",
    "    expected_vol = np.diag(np.sqrt(weights@cov@weights.T))\n",
    "    return expected_rets,expected_vol"
   ]
  },
  {
   "cell_type": "code",
   "execution_count": 178,
   "metadata": {},
   "outputs": [],
   "source": [
    "r,v=efficient_frontier(er.loc[assets],cov.loc[assets,assets])"
   ]
  },
  {
   "cell_type": "code",
   "execution_count": 179,
   "metadata": {},
   "outputs": [
    {
     "data": {
      "image/png": "[encoded data removed]",
      "text/plain": [
       "<Figure size 432x288 with 1 Axes>"
      ]
     },
     "metadata": {
      "needs_background": "light"
     },
     "output_type": "display_data"
    }
   ],
   "source": [
    "plt.plot(v,r,marker='o')\n",
    "plt.xlim([0.,9])\n",
    "plt.show()"
   ]
  },
  {
   "cell_type": "code",
   "execution_count": 180,
   "metadata": {},
   "outputs": [],
   "source": [
    "def ew_portfolio(er,cov):\n",
    "    n = er.shape[0]\n",
    "    w = np.repeat(1./n,n)\n",
    "    r,v = w@er,w.T@cov@w\n",
    "    return w,r,v"
   ]
  },
  {
   "cell_type": "code",
   "execution_count": 181,
   "metadata": {},
   "outputs": [],
   "source": [
    "def msr_portfolio(er,cov,rf):\n",
    "    n = er.shape[0]\n",
    "    initial_guess = np.repeat(1./n,n)\n",
    "    bounds =((0,1),)*n\n",
    "    weight_sum={\n",
    "        'type':'eq',\n",
    "        'fun': lambda w: np.sum(w)-1.\n",
    "    }\n",
    "    constraints=[weight_sum]\n",
    "    def sr(w):\n",
    "        r = w@er\n",
    "        s = calc_vol(w,cov)\n",
    "        return -(r-rf)/s\n",
    "    results = minimize(sr,initial_guess,bounds=bounds,constraints=constraints,options={'disp':False},method='SLSQP')\n",
    "    return results.x"
   ]
  },
  {
   "cell_type": "code",
   "execution_count": 183,
   "metadata": {},
   "outputs": [],
   "source": [
    "msr_w=msr_portfolio(er[assets],cov.loc[assets,assets],rf=10)"
   ]
  },
  {
   "cell_type": "code",
   "execution_count": 184,
   "metadata": {},
   "outputs": [
    {
     "data": {
      "text/plain": [
       "array([4.85722573e-16, 1.00000000e+00, 6.33174069e-17, 0.00000000e+00])"
      ]
     },
     "execution_count": 184,
     "metadata": {},
     "output_type": "execute_result"
    }
   ],
   "source": [
    "msr_w"
   ]
  },
  {
   "cell_type": "code",
   "execution_count": 185,
   "metadata": {},
   "outputs": [],
   "source": [
    "msr_r,msr_v = msr_w@er[assets],calc_vol(msr_w,cov.loc[assets,assets])"
   ]
  },
  {
   "cell_type": "code",
   "execution_count": 186,
   "metadata": {},
   "outputs": [],
   "source": [
    "r,v=efficient_frontier(er.loc[assets],cov.loc[assets,assets])"
   ]
  },
  {
   "cell_type": "code",
   "execution_count": 188,
   "metadata": {},
   "outputs": [
    {
     "data": {
      "image/png": "[encoded data removed]",
      "text/plain": [
       "<Figure size 1152x720 with 1 Axes>"
      ]
     },
     "metadata": {
      "needs_background": "light"
     },
     "output_type": "display_data"
    }
   ],
   "source": [
    "fig = plt.figure(figsize=(16,10))\n",
    "ax = fig.add_subplot(111)\n",
    "ax.plot(v,r,marker='o')\n",
    "ax.set_xlim([0.,10])\n",
    "ax.plot([0,msr_v],[10,msr_r],marker='x')#,marker_size=20)\n",
    "plt.show()"
   ]
  },
  {
   "cell_type": "code",
   "execution_count": 189,
   "metadata": {},
   "outputs": [
    {
     "data": {
      "text/plain": [
       "array([4.85722573e-16, 1.00000000e+00, 6.33174069e-17, 0.00000000e+00])"
      ]
     },
     "execution_count": 189,
     "metadata": {},
     "output_type": "execute_result"
    }
   ],
   "source": [
    "msr_w"
   ]
  },
  {
   "cell_type": "code",
   "execution_count": 190,
   "metadata": {},
   "outputs": [
    {
     "data": {
      "text/plain": [
       "['Books', 'Steel', 'Oil', 'Mines']"
      ]
     },
     "execution_count": 190,
     "metadata": {},
     "output_type": "execute_result"
    }
   ],
   "source": [
    "assets"
   ]
  },
  {
   "cell_type": "code",
   "execution_count": 75,
   "metadata": {},
   "outputs": [],
   "source": [
    "def calculate_gmv(er,cov):\n",
    "    n = cov.shape[0]\n",
    "    initial_guess = np.repeat(1./n,n)\n",
    "    bounds=((0.,1),)*n\n",
    "    weights_sum={\n",
    "        'type':'eq',\n",
    "        'fun':lambda w: np.sum(w)-1.\n",
    "    }\n",
    "    results = minimize(calc_vol,initial_guess,bounds=bounds,constraints=[weights_sum],method='SLSQP',\n",
    "                      options={'disp':False},args=(cov,))\n",
    "    return results.x"
   ]
  },
  {
   "cell_type": "code",
   "execution_count": 206,
   "metadata": {},
   "outputs": [
    {
     "data": {
      "text/plain": [
       "array([0.47721023, 0.        , 0.43389054, 0.08889922])"
      ]
     },
     "execution_count": 206,
     "metadata": {},
     "output_type": "execute_result"
    }
   ],
   "source": [
    "calculate_gmv(er[assets],cov.loc[assets,assets])"
   ]
  },
  {
   "cell_type": "code",
   "execution_count": 204,
   "metadata": {},
   "outputs": [],
   "source": [
    "wfirst=calculate_gmv(er[assets],cov.loc[assets,assets])"
   ]
  },
  {
   "cell_type": "code",
   "execution_count": 205,
   "metadata": {},
   "outputs": [],
   "source": [
    "wsecond = msr_portfolio(er[assets],cov.loc[assets,assets],rf=10)"
   ]
  },
  {
   "cell_type": "code",
   "execution_count": 203,
   "metadata": {},
   "outputs": [],
   "source": [
    "ind_data_2018=pd.read_csv(\"data/ind30_m_vw_rets.csv\",index_col=0,header=0)"
   ]
  },
  {
   "cell_type": "code",
   "execution_count": 194,
   "metadata": {},
   "outputs": [],
   "source": [
    "ind_data_2018.index = pd.to_datetime(ind_data_2018.index,format=\"%Y%m\").to_period('M')"
   ]
  },
  {
   "cell_type": "code",
   "execution_count": 195,
   "metadata": {},
   "outputs": [
    {
     "data": {
      "text/html": [
       "<div>\n",
       "<style scoped>\n",
       "    .dataframe tbody tr th:only-of-type {\n",
       "        vertical-align: middle;\n",
       "    }\n",
       "\n",
       "    .dataframe tbody tr th {\n",
       "        vertical-align: top;\n",
       "    }\n",
       "\n",
       "    .dataframe thead th {\n",
       "        text-align: right;\n",
       "    }\n",
       "</style>\n",
       "<table border=\"1\" class=\"dataframe\">\n",
       "  <thead>\n",
       "    <tr style=\"text-align: right;\">\n",
       "      <th></th>\n",
       "      <th>Food</th>\n",
       "      <th>Beer</th>\n",
       "      <th>Smoke</th>\n",
       "      <th>Games</th>\n",
       "      <th>Books</th>\n",
       "      <th>Hshld</th>\n",
       "      <th>Clths</th>\n",
       "      <th>Hlth</th>\n",
       "      <th>Chems</th>\n",
       "      <th>Txtls</th>\n",
       "      <th>...</th>\n",
       "      <th>Telcm</th>\n",
       "      <th>Servs</th>\n",
       "      <th>BusEq</th>\n",
       "      <th>Paper</th>\n",
       "      <th>Trans</th>\n",
       "      <th>Whlsl</th>\n",
       "      <th>Rtail</th>\n",
       "      <th>Meals</th>\n",
       "      <th>Fin</th>\n",
       "      <th>Other</th>\n",
       "    </tr>\n",
       "  </thead>\n",
       "  <tbody>\n",
       "    <tr>\n",
       "      <th>1926-07</th>\n",
       "      <td>0.56</td>\n",
       "      <td>-5.19</td>\n",
       "      <td>1.29</td>\n",
       "      <td>2.93</td>\n",
       "      <td>10.97</td>\n",
       "      <td>-0.48</td>\n",
       "      <td>8.08</td>\n",
       "      <td>1.77</td>\n",
       "      <td>8.14</td>\n",
       "      <td>0.39</td>\n",
       "      <td>...</td>\n",
       "      <td>0.83</td>\n",
       "      <td>9.22</td>\n",
       "      <td>2.06</td>\n",
       "      <td>7.70</td>\n",
       "      <td>1.93</td>\n",
       "      <td>-23.79</td>\n",
       "      <td>0.07</td>\n",
       "      <td>1.87</td>\n",
       "      <td>0.37</td>\n",
       "      <td>5.20</td>\n",
       "    </tr>\n",
       "    <tr>\n",
       "      <th>1926-08</th>\n",
       "      <td>2.59</td>\n",
       "      <td>27.03</td>\n",
       "      <td>6.50</td>\n",
       "      <td>0.55</td>\n",
       "      <td>10.01</td>\n",
       "      <td>-3.58</td>\n",
       "      <td>-2.51</td>\n",
       "      <td>4.25</td>\n",
       "      <td>5.50</td>\n",
       "      <td>8.14</td>\n",
       "      <td>...</td>\n",
       "      <td>2.17</td>\n",
       "      <td>2.02</td>\n",
       "      <td>4.39</td>\n",
       "      <td>-2.38</td>\n",
       "      <td>4.88</td>\n",
       "      <td>5.39</td>\n",
       "      <td>-0.75</td>\n",
       "      <td>-0.13</td>\n",
       "      <td>4.46</td>\n",
       "      <td>6.76</td>\n",
       "    </tr>\n",
       "    <tr>\n",
       "      <th>1926-09</th>\n",
       "      <td>1.16</td>\n",
       "      <td>4.02</td>\n",
       "      <td>1.26</td>\n",
       "      <td>6.58</td>\n",
       "      <td>-0.99</td>\n",
       "      <td>0.73</td>\n",
       "      <td>-0.51</td>\n",
       "      <td>0.69</td>\n",
       "      <td>5.33</td>\n",
       "      <td>2.31</td>\n",
       "      <td>...</td>\n",
       "      <td>2.41</td>\n",
       "      <td>2.25</td>\n",
       "      <td>0.19</td>\n",
       "      <td>-5.54</td>\n",
       "      <td>0.05</td>\n",
       "      <td>-7.87</td>\n",
       "      <td>0.25</td>\n",
       "      <td>-0.56</td>\n",
       "      <td>-1.23</td>\n",
       "      <td>-3.86</td>\n",
       "    </tr>\n",
       "    <tr>\n",
       "      <th>1926-10</th>\n",
       "      <td>-3.06</td>\n",
       "      <td>-3.31</td>\n",
       "      <td>1.06</td>\n",
       "      <td>-4.76</td>\n",
       "      <td>9.47</td>\n",
       "      <td>-4.68</td>\n",
       "      <td>0.12</td>\n",
       "      <td>-0.57</td>\n",
       "      <td>-4.76</td>\n",
       "      <td>1.00</td>\n",
       "      <td>...</td>\n",
       "      <td>-0.11</td>\n",
       "      <td>-2.00</td>\n",
       "      <td>-1.09</td>\n",
       "      <td>-5.08</td>\n",
       "      <td>-2.64</td>\n",
       "      <td>-15.38</td>\n",
       "      <td>-2.20</td>\n",
       "      <td>-4.11</td>\n",
       "      <td>-5.16</td>\n",
       "      <td>-8.49</td>\n",
       "    </tr>\n",
       "    <tr>\n",
       "      <th>1926-11</th>\n",
       "      <td>6.35</td>\n",
       "      <td>7.29</td>\n",
       "      <td>4.55</td>\n",
       "      <td>1.66</td>\n",
       "      <td>-5.80</td>\n",
       "      <td>-0.54</td>\n",
       "      <td>1.87</td>\n",
       "      <td>5.42</td>\n",
       "      <td>5.20</td>\n",
       "      <td>3.11</td>\n",
       "      <td>...</td>\n",
       "      <td>1.63</td>\n",
       "      <td>3.77</td>\n",
       "      <td>3.64</td>\n",
       "      <td>3.84</td>\n",
       "      <td>1.60</td>\n",
       "      <td>4.67</td>\n",
       "      <td>6.52</td>\n",
       "      <td>4.33</td>\n",
       "      <td>2.24</td>\n",
       "      <td>4.00</td>\n",
       "    </tr>\n",
       "  </tbody>\n",
       "</table>\n",
       "<p>5 rows × 30 columns</p>\n",
       "</div>"
      ],
      "text/plain": [
       "         Food   Beer   Smoke  Games  Books  Hshld  Clths  Hlth   Chems  Txtls  \\\n",
       "1926-07   0.56  -5.19   1.29   2.93  10.97  -0.48   8.08   1.77   8.14   0.39   \n",
       "1926-08   2.59  27.03   6.50   0.55  10.01  -3.58  -2.51   4.25   5.50   8.14   \n",
       "1926-09   1.16   4.02   1.26   6.58  -0.99   0.73  -0.51   0.69   5.33   2.31   \n",
       "1926-10  -3.06  -3.31   1.06  -4.76   9.47  -4.68   0.12  -0.57  -4.76   1.00   \n",
       "1926-11   6.35   7.29   4.55   1.66  -5.80  -0.54   1.87   5.42   5.20   3.11   \n",
       "\n",
       "         ...  Telcm  Servs  BusEq  Paper  Trans  Whlsl  Rtail  Meals  Fin    \\\n",
       "1926-07  ...   0.83   9.22   2.06   7.70   1.93 -23.79   0.07   1.87   0.37   \n",
       "1926-08  ...   2.17   2.02   4.39  -2.38   4.88   5.39  -0.75  -0.13   4.46   \n",
       "1926-09  ...   2.41   2.25   0.19  -5.54   0.05  -7.87   0.25  -0.56  -1.23   \n",
       "1926-10  ...  -0.11  -2.00  -1.09  -5.08  -2.64 -15.38  -2.20  -4.11  -5.16   \n",
       "1926-11  ...   1.63   3.77   3.64   3.84   1.60   4.67   6.52   4.33   2.24   \n",
       "\n",
       "         Other  \n",
       "1926-07   5.20  \n",
       "1926-08   6.76  \n",
       "1926-09  -3.86  \n",
       "1926-10  -8.49  \n",
       "1926-11   4.00  \n",
       "\n",
       "[5 rows x 30 columns]"
      ]
     },
     "execution_count": 195,
     "metadata": {},
     "output_type": "execute_result"
    }
   ],
   "source": [
    "ind_data_2018.head()"
   ]
  },
  {
   "cell_type": "code",
   "execution_count": 196,
   "metadata": {},
   "outputs": [],
   "source": [
    "ind_data_2018.columns = ind_data_2018.columns.str.strip()"
   ]
  },
  {
   "cell_type": "code",
   "execution_count": 197,
   "metadata": {},
   "outputs": [],
   "source": [
    "ind_data_2018= ind_data_2018[\"2018\"]"
   ]
  },
  {
   "cell_type": "code",
   "execution_count": 198,
   "metadata": {},
   "outputs": [
    {
     "data": {
      "text/html": [
       "<div>\n",
       "<style scoped>\n",
       "    .dataframe tbody tr th:only-of-type {\n",
       "        vertical-align: middle;\n",
       "    }\n",
       "\n",
       "    .dataframe tbody tr th {\n",
       "        vertical-align: top;\n",
       "    }\n",
       "\n",
       "    .dataframe thead th {\n",
       "        text-align: right;\n",
       "    }\n",
       "</style>\n",
       "<table border=\"1\" class=\"dataframe\">\n",
       "  <thead>\n",
       "    <tr style=\"text-align: right;\">\n",
       "      <th></th>\n",
       "      <th>Food</th>\n",
       "      <th>Beer</th>\n",
       "      <th>Smoke</th>\n",
       "      <th>Games</th>\n",
       "      <th>Books</th>\n",
       "      <th>Hshld</th>\n",
       "      <th>Clths</th>\n",
       "      <th>Hlth</th>\n",
       "      <th>Chems</th>\n",
       "      <th>Txtls</th>\n",
       "      <th>...</th>\n",
       "      <th>Telcm</th>\n",
       "      <th>Servs</th>\n",
       "      <th>BusEq</th>\n",
       "      <th>Paper</th>\n",
       "      <th>Trans</th>\n",
       "      <th>Whlsl</th>\n",
       "      <th>Rtail</th>\n",
       "      <th>Meals</th>\n",
       "      <th>Fin</th>\n",
       "      <th>Other</th>\n",
       "    </tr>\n",
       "  </thead>\n",
       "  <tbody>\n",
       "    <tr>\n",
       "      <th>2018-01</th>\n",
       "      <td>2.38</td>\n",
       "      <td>-0.11</td>\n",
       "      <td>0.13</td>\n",
       "      <td>17.26</td>\n",
       "      <td>4.49</td>\n",
       "      <td>-1.98</td>\n",
       "      <td>7.29</td>\n",
       "      <td>6.38</td>\n",
       "      <td>1.70</td>\n",
       "      <td>1.60</td>\n",
       "      <td>...</td>\n",
       "      <td>3.18</td>\n",
       "      <td>9.25</td>\n",
       "      <td>5.01</td>\n",
       "      <td>4.38</td>\n",
       "      <td>2.68</td>\n",
       "      <td>4.83</td>\n",
       "      <td>11.56</td>\n",
       "      <td>3.23</td>\n",
       "      <td>6.11</td>\n",
       "      <td>5.51</td>\n",
       "    </tr>\n",
       "    <tr>\n",
       "      <th>2018-02</th>\n",
       "      <td>-6.75</td>\n",
       "      <td>-6.76</td>\n",
       "      <td>-6.62</td>\n",
       "      <td>1.09</td>\n",
       "      <td>-3.25</td>\n",
       "      <td>-6.25</td>\n",
       "      <td>-1.95</td>\n",
       "      <td>-3.90</td>\n",
       "      <td>-5.12</td>\n",
       "      <td>-12.35</td>\n",
       "      <td>...</td>\n",
       "      <td>-7.32</td>\n",
       "      <td>-1.69</td>\n",
       "      <td>2.05</td>\n",
       "      <td>-5.28</td>\n",
       "      <td>-6.65</td>\n",
       "      <td>-5.56</td>\n",
       "      <td>-4.72</td>\n",
       "      <td>-4.19</td>\n",
       "      <td>-2.55</td>\n",
       "      <td>-4.44</td>\n",
       "    </tr>\n",
       "    <tr>\n",
       "      <th>2018-03</th>\n",
       "      <td>-1.87</td>\n",
       "      <td>1.27</td>\n",
       "      <td>-1.65</td>\n",
       "      <td>-0.17</td>\n",
       "      <td>0.31</td>\n",
       "      <td>2.10</td>\n",
       "      <td>0.64</td>\n",
       "      <td>-2.00</td>\n",
       "      <td>-1.86</td>\n",
       "      <td>-2.14</td>\n",
       "      <td>...</td>\n",
       "      <td>-2.52</td>\n",
       "      <td>-3.31</td>\n",
       "      <td>-2.92</td>\n",
       "      <td>-4.35</td>\n",
       "      <td>0.53</td>\n",
       "      <td>-1.04</td>\n",
       "      <td>-3.25</td>\n",
       "      <td>-0.54</td>\n",
       "      <td>-3.38</td>\n",
       "      <td>-3.40</td>\n",
       "    </tr>\n",
       "    <tr>\n",
       "      <th>2018-04</th>\n",
       "      <td>-1.67</td>\n",
       "      <td>-4.29</td>\n",
       "      <td>-14.16</td>\n",
       "      <td>3.31</td>\n",
       "      <td>-0.62</td>\n",
       "      <td>-5.31</td>\n",
       "      <td>3.16</td>\n",
       "      <td>-0.28</td>\n",
       "      <td>0.71</td>\n",
       "      <td>-9.54</td>\n",
       "      <td>...</td>\n",
       "      <td>-2.41</td>\n",
       "      <td>1.18</td>\n",
       "      <td>-1.95</td>\n",
       "      <td>-6.09</td>\n",
       "      <td>0.50</td>\n",
       "      <td>0.83</td>\n",
       "      <td>4.29</td>\n",
       "      <td>3.50</td>\n",
       "      <td>1.18</td>\n",
       "      <td>-1.90</td>\n",
       "    </tr>\n",
       "    <tr>\n",
       "      <th>2018-05</th>\n",
       "      <td>-0.78</td>\n",
       "      <td>-1.19</td>\n",
       "      <td>-1.87</td>\n",
       "      <td>9.02</td>\n",
       "      <td>-0.61</td>\n",
       "      <td>-0.24</td>\n",
       "      <td>4.21</td>\n",
       "      <td>2.43</td>\n",
       "      <td>2.42</td>\n",
       "      <td>-1.36</td>\n",
       "      <td>...</td>\n",
       "      <td>-0.93</td>\n",
       "      <td>5.86</td>\n",
       "      <td>7.84</td>\n",
       "      <td>0.79</td>\n",
       "      <td>4.86</td>\n",
       "      <td>1.69</td>\n",
       "      <td>1.36</td>\n",
       "      <td>-1.95</td>\n",
       "      <td>0.40</td>\n",
       "      <td>-0.38</td>\n",
       "    </tr>\n",
       "    <tr>\n",
       "      <th>2018-06</th>\n",
       "      <td>5.40</td>\n",
       "      <td>4.42</td>\n",
       "      <td>3.07</td>\n",
       "      <td>4.96</td>\n",
       "      <td>2.18</td>\n",
       "      <td>3.62</td>\n",
       "      <td>6.98</td>\n",
       "      <td>1.52</td>\n",
       "      <td>0.33</td>\n",
       "      <td>3.36</td>\n",
       "      <td>...</td>\n",
       "      <td>6.23</td>\n",
       "      <td>1.07</td>\n",
       "      <td>-1.90</td>\n",
       "      <td>-0.44</td>\n",
       "      <td>-3.65</td>\n",
       "      <td>0.23</td>\n",
       "      <td>4.36</td>\n",
       "      <td>-2.89</td>\n",
       "      <td>-0.98</td>\n",
       "      <td>-2.04</td>\n",
       "    </tr>\n",
       "    <tr>\n",
       "      <th>2018-07</th>\n",
       "      <td>2.21</td>\n",
       "      <td>3.50</td>\n",
       "      <td>5.24</td>\n",
       "      <td>-6.12</td>\n",
       "      <td>-4.17</td>\n",
       "      <td>2.32</td>\n",
       "      <td>0.35</td>\n",
       "      <td>6.12</td>\n",
       "      <td>4.85</td>\n",
       "      <td>-8.89</td>\n",
       "      <td>...</td>\n",
       "      <td>2.68</td>\n",
       "      <td>2.03</td>\n",
       "      <td>2.77</td>\n",
       "      <td>5.95</td>\n",
       "      <td>7.91</td>\n",
       "      <td>2.39</td>\n",
       "      <td>3.55</td>\n",
       "      <td>1.16</td>\n",
       "      <td>4.26</td>\n",
       "      <td>6.04</td>\n",
       "    </tr>\n",
       "    <tr>\n",
       "      <th>2018-08</th>\n",
       "      <td>-0.38</td>\n",
       "      <td>-1.86</td>\n",
       "      <td>-5.43</td>\n",
       "      <td>2.89</td>\n",
       "      <td>-4.47</td>\n",
       "      <td>2.54</td>\n",
       "      <td>5.26</td>\n",
       "      <td>4.46</td>\n",
       "      <td>0.01</td>\n",
       "      <td>3.80</td>\n",
       "      <td>...</td>\n",
       "      <td>2.95</td>\n",
       "      <td>5.24</td>\n",
       "      <td>9.93</td>\n",
       "      <td>-0.34</td>\n",
       "      <td>2.91</td>\n",
       "      <td>3.66</td>\n",
       "      <td>9.11</td>\n",
       "      <td>3.64</td>\n",
       "      <td>2.45</td>\n",
       "      <td>2.99</td>\n",
       "    </tr>\n",
       "    <tr>\n",
       "      <th>2018-09</th>\n",
       "      <td>-0.32</td>\n",
       "      <td>0.19</td>\n",
       "      <td>5.37</td>\n",
       "      <td>-0.09</td>\n",
       "      <td>-2.21</td>\n",
       "      <td>1.07</td>\n",
       "      <td>1.30</td>\n",
       "      <td>1.99</td>\n",
       "      <td>-2.87</td>\n",
       "      <td>-6.38</td>\n",
       "      <td>...</td>\n",
       "      <td>1.74</td>\n",
       "      <td>-0.37</td>\n",
       "      <td>-0.33</td>\n",
       "      <td>-0.30</td>\n",
       "      <td>1.05</td>\n",
       "      <td>-1.48</td>\n",
       "      <td>0.61</td>\n",
       "      <td>2.51</td>\n",
       "      <td>-1.93</td>\n",
       "      <td>1.16</td>\n",
       "    </tr>\n",
       "    <tr>\n",
       "      <th>2018-10</th>\n",
       "      <td>1.02</td>\n",
       "      <td>-1.57</td>\n",
       "      <td>7.90</td>\n",
       "      <td>-15.96</td>\n",
       "      <td>-6.66</td>\n",
       "      <td>-0.51</td>\n",
       "      <td>-10.14</td>\n",
       "      <td>-8.84</td>\n",
       "      <td>-12.50</td>\n",
       "      <td>-25.79</td>\n",
       "      <td>...</td>\n",
       "      <td>-0.50</td>\n",
       "      <td>-9.20</td>\n",
       "      <td>-8.06</td>\n",
       "      <td>-9.82</td>\n",
       "      <td>-9.75</td>\n",
       "      <td>-7.88</td>\n",
       "      <td>-10.21</td>\n",
       "      <td>-1.71</td>\n",
       "      <td>-5.45</td>\n",
       "      <td>-5.99</td>\n",
       "    </tr>\n",
       "    <tr>\n",
       "      <th>2018-11</th>\n",
       "      <td>2.72</td>\n",
       "      <td>5.79</td>\n",
       "      <td>-8.43</td>\n",
       "      <td>-0.65</td>\n",
       "      <td>3.25</td>\n",
       "      <td>6.44</td>\n",
       "      <td>-0.99</td>\n",
       "      <td>6.32</td>\n",
       "      <td>4.96</td>\n",
       "      <td>2.92</td>\n",
       "      <td>...</td>\n",
       "      <td>2.54</td>\n",
       "      <td>1.29</td>\n",
       "      <td>-5.05</td>\n",
       "      <td>8.22</td>\n",
       "      <td>6.17</td>\n",
       "      <td>3.18</td>\n",
       "      <td>1.59</td>\n",
       "      <td>6.16</td>\n",
       "      <td>2.89</td>\n",
       "      <td>3.48</td>\n",
       "    </tr>\n",
       "    <tr>\n",
       "      <th>2018-12</th>\n",
       "      <td>-9.73</td>\n",
       "      <td>-9.69</td>\n",
       "      <td>-15.80</td>\n",
       "      <td>-8.24</td>\n",
       "      <td>-15.35</td>\n",
       "      <td>-5.57</td>\n",
       "      <td>-7.28</td>\n",
       "      <td>-8.40</td>\n",
       "      <td>-7.76</td>\n",
       "      <td>-10.09</td>\n",
       "      <td>...</td>\n",
       "      <td>-8.84</td>\n",
       "      <td>-7.65</td>\n",
       "      <td>-9.23</td>\n",
       "      <td>-8.63</td>\n",
       "      <td>-15.19</td>\n",
       "      <td>-11.21</td>\n",
       "      <td>-9.19</td>\n",
       "      <td>-6.28</td>\n",
       "      <td>-11.44</td>\n",
       "      <td>-6.93</td>\n",
       "    </tr>\n",
       "  </tbody>\n",
       "</table>\n",
       "<p>12 rows × 30 columns</p>\n",
       "</div>"
      ],
      "text/plain": [
       "         Food  Beer  Smoke  Games  Books  Hshld  Clths  Hlth  Chems  Txtls  \\\n",
       "2018-01  2.38 -0.11   0.13  17.26   4.49  -1.98   7.29  6.38   1.70   1.60   \n",
       "2018-02 -6.75 -6.76  -6.62   1.09  -3.25  -6.25  -1.95 -3.90  -5.12 -12.35   \n",
       "2018-03 -1.87  1.27  -1.65  -0.17   0.31   2.10   0.64 -2.00  -1.86  -2.14   \n",
       "2018-04 -1.67 -4.29 -14.16   3.31  -0.62  -5.31   3.16 -0.28   0.71  -9.54   \n",
       "2018-05 -0.78 -1.19  -1.87   9.02  -0.61  -0.24   4.21  2.43   2.42  -1.36   \n",
       "2018-06  5.40  4.42   3.07   4.96   2.18   3.62   6.98  1.52   0.33   3.36   \n",
       "2018-07  2.21  3.50   5.24  -6.12  -4.17   2.32   0.35  6.12   4.85  -8.89   \n",
       "2018-08 -0.38 -1.86  -5.43   2.89  -4.47   2.54   5.26  4.46   0.01   3.80   \n",
       "2018-09 -0.32  0.19   5.37  -0.09  -2.21   1.07   1.30  1.99  -2.87  -6.38   \n",
       "2018-10  1.02 -1.57   7.90 -15.96  -6.66  -0.51 -10.14 -8.84 -12.50 -25.79   \n",
       "2018-11  2.72  5.79  -8.43  -0.65   3.25   6.44  -0.99  6.32   4.96   2.92   \n",
       "2018-12 -9.73 -9.69 -15.80  -8.24 -15.35  -5.57  -7.28 -8.40  -7.76 -10.09   \n",
       "\n",
       "         ...  Telcm  Servs  BusEq  Paper  Trans  Whlsl  Rtail  Meals    Fin  \\\n",
       "2018-01  ...   3.18   9.25   5.01   4.38   2.68   4.83  11.56   3.23   6.11   \n",
       "2018-02  ...  -7.32  -1.69   2.05  -5.28  -6.65  -5.56  -4.72  -4.19  -2.55   \n",
       "2018-03  ...  -2.52  -3.31  -2.92  -4.35   0.53  -1.04  -3.25  -0.54  -3.38   \n",
       "2018-04  ...  -2.41   1.18  -1.95  -6.09   0.50   0.83   4.29   3.50   1.18   \n",
       "2018-05  ...  -0.93   5.86   7.84   0.79   4.86   1.69   1.36  -1.95   0.40   \n",
       "2018-06  ...   6.23   1.07  -1.90  -0.44  -3.65   0.23   4.36  -2.89  -0.98   \n",
       "2018-07  ...   2.68   2.03   2.77   5.95   7.91   2.39   3.55   1.16   4.26   \n",
       "2018-08  ...   2.95   5.24   9.93  -0.34   2.91   3.66   9.11   3.64   2.45   \n",
       "2018-09  ...   1.74  -0.37  -0.33  -0.30   1.05  -1.48   0.61   2.51  -1.93   \n",
       "2018-10  ...  -0.50  -9.20  -8.06  -9.82  -9.75  -7.88 -10.21  -1.71  -5.45   \n",
       "2018-11  ...   2.54   1.29  -5.05   8.22   6.17   3.18   1.59   6.16   2.89   \n",
       "2018-12  ...  -8.84  -7.65  -9.23  -8.63 -15.19 -11.21  -9.19  -6.28 -11.44   \n",
       "\n",
       "         Other  \n",
       "2018-01   5.51  \n",
       "2018-02  -4.44  \n",
       "2018-03  -3.40  \n",
       "2018-04  -1.90  \n",
       "2018-05  -0.38  \n",
       "2018-06  -2.04  \n",
       "2018-07   6.04  \n",
       "2018-08   2.99  \n",
       "2018-09   1.16  \n",
       "2018-10  -5.99  \n",
       "2018-11   3.48  \n",
       "2018-12  -6.93  \n",
       "\n",
       "[12 rows x 30 columns]"
      ]
     },
     "execution_count": 198,
     "metadata": {},
     "output_type": "execute_result"
    }
   ],
   "source": [
    "ind_data_2018"
   ]
  },
  {
   "cell_type": "code",
   "execution_count": 199,
   "metadata": {},
   "outputs": [],
   "source": [
    "cov_2018 = ind_data_2018.cov()"
   ]
  },
  {
   "cell_type": "code",
   "execution_count": 207,
   "metadata": {},
   "outputs": [],
   "source": [
    "vol_first = calc_vol(wfirst,cov_2018.loc[assets,assets])"
   ]
  },
  {
   "cell_type": "code",
   "execution_count": 208,
   "metadata": {},
   "outputs": [
    {
     "data": {
      "text/plain": [
       "18.972011723710615"
      ]
     },
     "execution_count": 208,
     "metadata": {},
     "output_type": "execute_result"
    }
   ],
   "source": [
    "vol_first*np.sqrt(12)"
   ]
  },
  {
   "cell_type": "code",
   "execution_count": 209,
   "metadata": {},
   "outputs": [],
   "source": [
    "vol_second = calc_vol(wsecond,cov_2018.loc[assets,assets])"
   ]
  },
  {
   "cell_type": "code",
   "execution_count": 210,
   "metadata": {},
   "outputs": [
    {
     "data": {
      "text/plain": [
       "21.983988181484182"
      ]
     },
     "execution_count": 210,
     "metadata": {},
     "output_type": "execute_result"
    }
   ],
   "source": [
    "vol_second*np.sqrt(12)"
   ]
  },
  {
   "cell_type": "code",
   "execution_count": 211,
   "metadata": {},
   "outputs": [
    {
     "data": {
      "text/plain": [
       "array([4.85722573e-16, 1.00000000e+00, 6.33174069e-17, 0.00000000e+00])"
      ]
     },
     "execution_count": 211,
     "metadata": {},
     "output_type": "execute_result"
    }
   ],
   "source": [
    "wsecond"
   ]
  },
  {
   "cell_type": "code",
   "execution_count": null,
   "metadata": {},
   "outputs": [],
   "source": []
  }
 ],
 "metadata": {
  "kernelspec": {
   "display_name": "Python 3",
   "language": "python",
   "name": "python3"
  },
  "language_info": {
   "codemirror_mode": {
    "name": "ipython",
    "version": 3
   },
   "file_extension": ".py",
   "mimetype": "text/x-python",
   "name": "python",
   "nbconvert_exporter": "python",
   "pygments_lexer": "ipython3",
   "version": "3.7.3"
  }
 },
 "nbformat": 4,
 "nbformat_minor": 2
}
